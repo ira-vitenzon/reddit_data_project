{
 "cells": [
  {
   "cell_type": "markdown",
   "metadata": {},
   "source": [
    "The pushshift API returns 100 submissions per request. For the POC I sent 5 requests to get the newest 500 submissions."
   ]
  },
  {
   "cell_type": "code",
   "execution_count": 95,
   "metadata": {},
   "outputs": [],
   "source": [
    "import requests\n",
    "import time\n",
    "import pandas as pd\n",
    "import praw"
   ]
  },
  {
   "cell_type": "code",
   "execution_count": 96,
   "metadata": {},
   "outputs": [],
   "source": [
    "def get_pushift_data():\n",
    "    before = int(time.time()) #the time now\n",
    "    df = pd.DataFrame() \n",
    "    for x in range(5):\n",
    "        request = 'https://api.pushshift.io/reddit/search/submission/?subreddit=NoStupidQuestions&before='+str(before)+'&size=100'\n",
    "        print(request)\n",
    "        r = requests.get(request)\n",
    "        json = r.json()\n",
    "        data = json['data']\n",
    "        df2 = pd.DataFrame(data) \n",
    "        df = df.append(df2,ignore_index=True)\n",
    "        print(df.tail())\n",
    "        before = df2.at[99,'created_utc']\n",
    "    return df    "
   ]
  },
  {
   "cell_type": "code",
   "execution_count": 97,
   "metadata": {},
   "outputs": [
    {
     "name": "stdout",
     "output_type": "stream",
     "text": [
      "https://api.pushshift.io/reddit/search/submission/?subreddit=NoStupidQuestions&before=1607538626&size=100\n",
      "   all_awardings  allow_live_comments           author author_flair_css_class  \\\n",
      "95            []                False     dalla_dallaa                   None   \n",
      "96            []                False       TheEpicZay                   None   \n",
      "97            []                False  silver-chariot2                   None   \n",
      "98            []                False   philipjfry1578                   None   \n",
      "99            []                False   BushDidTheMain                   None   \n",
      "\n",
      "   author_flair_richtext author_flair_text author_flair_type author_fullname  \\\n",
      "95                    []              None              text     t2_7y3viinh   \n",
      "96                    []              None              text        t2_thxn3   \n",
      "97                    []              None              text     t2_44uq8yvo   \n",
      "98                    []              None              text      t2_aakmxow   \n",
      "99                    []              None              text     t2_5ad62s3j   \n",
      "\n",
      "    author_patreon_flair  author_premium  ... wls  link_flair_css_class  \\\n",
      "95                 False           False  ...   6                   NaN   \n",
      "96                 False           False  ...   6               flair a   \n",
      "97                 False           False  ...   6               flair a   \n",
      "98                 False           False  ...   6                   NaN   \n",
      "99                 False           False  ...   6                   NaN   \n",
      "\n",
      "                  link_flair_template_id  link_flair_text removed_by_category  \\\n",
      "95                                   NaN              NaN                 NaN   \n",
      "96  a1b68f40-a4bb-11e4-8d39-22000b36917c       Unanswered                 NaN   \n",
      "97  a1b68f40-a4bb-11e4-8d39-22000b36917c       Unanswered                 NaN   \n",
      "98                                   NaN              NaN                 NaN   \n",
      "99                                   NaN              NaN                 NaN   \n",
      "\n",
      "   post_hint preview author_flair_background_color  author_flair_text_color  \\\n",
      "95       NaN     NaN                           NaN                      NaN   \n",
      "96       NaN     NaN                           NaN                      NaN   \n",
      "97       NaN     NaN                           NaN                      NaN   \n",
      "98       NaN     NaN                           NaN                      NaN   \n",
      "99       NaN     NaN                           NaN                      NaN   \n",
      "\n",
      "    author_flair_template_id  \n",
      "95                       NaN  \n",
      "96                       NaN  \n",
      "97                       NaN  \n",
      "98                       NaN  \n",
      "99                       NaN  \n",
      "\n",
      "[5 rows x 66 columns]\n",
      "https://api.pushshift.io/reddit/search/submission/?subreddit=NoStupidQuestions&before=1607534320&size=100\n",
      "    all_awardings  allow_live_comments           author  \\\n",
      "195            []                False        CodOk7134   \n",
      "196            []                False  Rainbowchicken3   \n",
      "197            []                False          mardonb   \n",
      "198            []                False      -CjMeerkat-   \n",
      "199            []                False     usazilloworr   \n",
      "\n",
      "    author_flair_css_class author_flair_richtext author_flair_text  \\\n",
      "195                   None                    []              None   \n",
      "196                   None                    []              None   \n",
      "197                   None                    []              None   \n",
      "198                   None                    []              None   \n",
      "199                   None                    []              None   \n",
      "\n",
      "    author_flair_type author_fullname  author_patreon_flair  author_premium  \\\n",
      "195              text     t2_82jlopo1                 False           False   \n",
      "196              text     t2_2o0rcsrs                 False           False   \n",
      "197              text     t2_1fziyvbd                 False           False   \n",
      "198              text     t2_6csvcasx                 False           False   \n",
      "199              text     t2_98qu00hp                 False           False   \n",
      "\n",
      "     ... wls  link_flair_css_class                link_flair_template_id  \\\n",
      "195  ...   6               flair a  a1b68f40-a4bb-11e4-8d39-22000b36917c   \n",
      "196  ...   6                   NaN                                   NaN   \n",
      "197  ...   6                   NaN                                   NaN   \n",
      "198  ...   6               flair a  a1b68f40-a4bb-11e4-8d39-22000b36917c   \n",
      "199  ...   6                   NaN                                   NaN   \n",
      "\n",
      "     link_flair_text removed_by_category post_hint  \\\n",
      "195       Unanswered                 NaN       NaN   \n",
      "196              NaN                 NaN       NaN   \n",
      "197              NaN                 NaN       NaN   \n",
      "198       Unanswered                 NaN       NaN   \n",
      "199              NaN              reddit      self   \n",
      "\n",
      "                                               preview  \\\n",
      "195                                                NaN   \n",
      "196                                                NaN   \n",
      "197                                                NaN   \n",
      "198                                                NaN   \n",
      "199  {'enabled': False, 'images': [{'id': 'ZZhoXy1I...   \n",
      "\n",
      "    author_flair_background_color  author_flair_text_color  \\\n",
      "195                           NaN                      NaN   \n",
      "196                           NaN                      NaN   \n",
      "197                           NaN                      NaN   \n",
      "198                           NaN                      NaN   \n",
      "199                           NaN                      NaN   \n",
      "\n",
      "     author_flair_template_id  \n",
      "195                       NaN  \n",
      "196                       NaN  \n",
      "197                       NaN  \n",
      "198                       NaN  \n",
      "199                       NaN  \n",
      "\n",
      "[5 rows x 66 columns]\n",
      "https://api.pushshift.io/reddit/search/submission/?subreddit=NoStupidQuestions&before=1607529118&size=100\n",
      "    all_awardings  allow_live_comments               author  \\\n",
      "295            []                False        PowerPuffGrrl   \n",
      "296            []                False       SizableRooster   \n",
      "297            []                False        Hydrophantium   \n",
      "298            []                False         Blueblade867   \n",
      "299            []                False  Turtle-Still-Turtle   \n",
      "\n",
      "    author_flair_css_class author_flair_richtext author_flair_text  \\\n",
      "295                   None                    []              None   \n",
      "296                   None                    []              None   \n",
      "297                   None                    []              None   \n",
      "298                   None                    []              None   \n",
      "299                   None                    []              None   \n",
      "\n",
      "    author_flair_type author_fullname author_patreon_flair author_premium  \\\n",
      "295              text     t2_513knr79                False          False   \n",
      "296              text     t2_96k3396o                False          False   \n",
      "297              text     t2_94sdbjk4                False          False   \n",
      "298              text        t2_vytl3                False          False   \n",
      "299              text     t2_29g05lg7                False          False   \n",
      "\n",
      "     ... wls  link_flair_css_class                link_flair_template_id  \\\n",
      "295  ...   6               flair a  a1b68f40-a4bb-11e4-8d39-22000b36917c   \n",
      "296  ...   6                   NaN                                   NaN   \n",
      "297  ...   6                   NaN                                   NaN   \n",
      "298  ...   6                   NaN                                   NaN   \n",
      "299  ...   6               flair a  a1b68f40-a4bb-11e4-8d39-22000b36917c   \n",
      "\n",
      "     link_flair_text removed_by_category post_hint  \\\n",
      "295       Unanswered           moderator       NaN   \n",
      "296              NaN                 NaN       NaN   \n",
      "297              NaN                 NaN       NaN   \n",
      "298              NaN                 NaN      self   \n",
      "299       Unanswered                 NaN       NaN   \n",
      "\n",
      "                                               preview  \\\n",
      "295                                                NaN   \n",
      "296                                                NaN   \n",
      "297                                                NaN   \n",
      "298  {'enabled': False, 'images': [{'id': '0b7iAykv...   \n",
      "299                                                NaN   \n",
      "\n",
      "    author_flair_background_color  author_flair_text_color  \\\n",
      "295                           NaN                      NaN   \n",
      "296                           NaN                      NaN   \n",
      "297                                                          \n",
      "298                           NaN                      NaN   \n",
      "299                           NaN                      NaN   \n",
      "\n",
      "     author_flair_template_id  \n",
      "295                       NaN  \n",
      "296                       NaN  \n",
      "297                       NaN  \n",
      "298                       NaN  \n",
      "299                       NaN  \n",
      "\n",
      "[5 rows x 66 columns]\n",
      "https://api.pushshift.io/reddit/search/submission/?subreddit=NoStupidQuestions&before=1607522608&size=100\n"
     ]
    },
    {
     "name": "stdout",
     "output_type": "stream",
     "text": [
      "    all_awardings  allow_live_comments               author  \\\n",
      "395            []                False  reddithowdoesitwork   \n",
      "396            []                False              IamTUNA   \n",
      "397            []                False         monkeykeymon   \n",
      "398            []                False         monkeykeymon   \n",
      "399            []                False      crooked_scalpel   \n",
      "\n",
      "    author_flair_css_class author_flair_richtext author_flair_text  \\\n",
      "395                   None                    []              None   \n",
      "396                   None                    []              None   \n",
      "397                   None                    []              None   \n",
      "398                   None                    []              None   \n",
      "399                   None                    []              None   \n",
      "\n",
      "    author_flair_type author_fullname author_patreon_flair author_premium  \\\n",
      "395              text     t2_92tpudmb                False          False   \n",
      "396              text        t2_givkq                False          False   \n",
      "397              text     t2_83qkces8                False          False   \n",
      "398              text     t2_83qkces8                False          False   \n",
      "399              text     t2_1vn4h6z5                False          False   \n",
      "\n",
      "     ... link_flair_template_id  link_flair_text  removed_by_category  \\\n",
      "395  ...                    NaN              NaN                  NaN   \n",
      "396  ...                    NaN              NaN                  NaN   \n",
      "397  ...                    NaN              NaN                  NaN   \n",
      "398  ...                    NaN              NaN                  NaN   \n",
      "399  ...                    NaN              NaN                  NaN   \n",
      "\n",
      "     post_hint preview author_flair_background_color author_flair_text_color  \\\n",
      "395        NaN     NaN                           NaN                     NaN   \n",
      "396        NaN     NaN                           NaN                     NaN   \n",
      "397        NaN     NaN                           NaN                     NaN   \n",
      "398        NaN     NaN                           NaN                     NaN   \n",
      "399        NaN     NaN                           NaN                     NaN   \n",
      "\n",
      "    author_flair_template_id  banned_by  author_cakeday  \n",
      "395                      NaN        NaN             NaN  \n",
      "396                      NaN        NaN             NaN  \n",
      "397                      NaN        NaN             NaN  \n",
      "398                      NaN        NaN             NaN  \n",
      "399                      NaN        NaN             NaN  \n",
      "\n",
      "[5 rows x 68 columns]\n",
      "https://api.pushshift.io/reddit/search/submission/?subreddit=NoStupidQuestions&before=1607513186&size=100\n",
      "    all_awardings  allow_live_comments            author  \\\n",
      "495            []                False  FriendlyNovelist   \n",
      "496            []                False        zenpandaaa   \n",
      "497            []                False      chamodperera   \n",
      "498            []                False      blueskyn01se   \n",
      "499            []                False       TacticalHog   \n",
      "\n",
      "    author_flair_css_class author_flair_richtext author_flair_text  \\\n",
      "495                   None                    []              None   \n",
      "496                   None                    []              None   \n",
      "497                   None                    []              None   \n",
      "498                   None                    []              None   \n",
      "499                   None                    []              None   \n",
      "\n",
      "    author_flair_type author_fullname author_patreon_flair author_premium  \\\n",
      "495              text     t2_75qxktt3                False           True   \n",
      "496              text     t2_5qo0z13f                False          False   \n",
      "497              text     t2_8v2dzh29                False          False   \n",
      "498              text     t2_183uguzr                False          False   \n",
      "499              text        t2_edqnd                False          False   \n",
      "\n",
      "     ...                link_flair_template_id  link_flair_text  \\\n",
      "495  ...                                   NaN              NaN   \n",
      "496  ...                                   NaN              NaN   \n",
      "497  ...                                   NaN              NaN   \n",
      "498  ...                                   NaN              NaN   \n",
      "499  ...  a1b68f40-a4bb-11e4-8d39-22000b36917c       Unanswered   \n",
      "\n",
      "     removed_by_category  post_hint preview author_flair_background_color  \\\n",
      "495                  NaN        NaN     NaN                           NaN   \n",
      "496                  NaN        NaN     NaN                           NaN   \n",
      "497            moderator        NaN     NaN                           NaN   \n",
      "498                  NaN        NaN     NaN                           NaN   \n",
      "499                  NaN        NaN     NaN                           NaN   \n",
      "\n",
      "    author_flair_text_color author_flair_template_id  banned_by  \\\n",
      "495                     NaN                      NaN        NaN   \n",
      "496                     NaN                      NaN        NaN   \n",
      "497                     NaN                      NaN        NaN   \n",
      "498                     NaN                      NaN        NaN   \n",
      "499                     NaN                      NaN        NaN   \n",
      "\n",
      "     author_cakeday  \n",
      "495             NaN  \n",
      "496             NaN  \n",
      "497             NaN  \n",
      "498             NaN  \n",
      "499             NaN  \n",
      "\n",
      "[5 rows x 68 columns]\n"
     ]
    }
   ],
   "source": [
    "pushift_data_df = get_pushift_data()"
   ]
  },
  {
   "cell_type": "code",
   "execution_count": 16,
   "metadata": {},
   "outputs": [
    {
     "data": {
      "text/html": [
       "<div>\n",
       "<style scoped>\n",
       "    .dataframe tbody tr th:only-of-type {\n",
       "        vertical-align: middle;\n",
       "    }\n",
       "\n",
       "    .dataframe tbody tr th {\n",
       "        vertical-align: top;\n",
       "    }\n",
       "\n",
       "    .dataframe thead th {\n",
       "        text-align: right;\n",
       "    }\n",
       "</style>\n",
       "<table border=\"1\" class=\"dataframe\">\n",
       "  <thead>\n",
       "    <tr style=\"text-align: right;\">\n",
       "      <th></th>\n",
       "      <th>all_awardings</th>\n",
       "      <th>allow_live_comments</th>\n",
       "      <th>author</th>\n",
       "      <th>author_flair_css_class</th>\n",
       "      <th>author_flair_richtext</th>\n",
       "      <th>author_flair_text</th>\n",
       "      <th>author_flair_type</th>\n",
       "      <th>author_fullname</th>\n",
       "      <th>author_patreon_flair</th>\n",
       "      <th>author_premium</th>\n",
       "      <th>...</th>\n",
       "      <th>whitelist_status</th>\n",
       "      <th>wls</th>\n",
       "      <th>author_flair_background_color</th>\n",
       "      <th>author_flair_text_color</th>\n",
       "      <th>removed_by_category</th>\n",
       "      <th>author_flair_template_id</th>\n",
       "      <th>post_hint</th>\n",
       "      <th>preview</th>\n",
       "      <th>banned_by</th>\n",
       "      <th>author_cakeday</th>\n",
       "    </tr>\n",
       "  </thead>\n",
       "  <tbody>\n",
       "    <tr>\n",
       "      <th>0</th>\n",
       "      <td>[]</td>\n",
       "      <td>False</td>\n",
       "      <td>yunikosensei666</td>\n",
       "      <td>None</td>\n",
       "      <td>[]</td>\n",
       "      <td>None</td>\n",
       "      <td>text</td>\n",
       "      <td>t2_l023f</td>\n",
       "      <td>False</td>\n",
       "      <td>False</td>\n",
       "      <td>...</td>\n",
       "      <td>all_ads</td>\n",
       "      <td>6</td>\n",
       "      <td>NaN</td>\n",
       "      <td>NaN</td>\n",
       "      <td>NaN</td>\n",
       "      <td>NaN</td>\n",
       "      <td>NaN</td>\n",
       "      <td>NaN</td>\n",
       "      <td>NaN</td>\n",
       "      <td>NaN</td>\n",
       "    </tr>\n",
       "    <tr>\n",
       "      <th>1</th>\n",
       "      <td>[]</td>\n",
       "      <td>False</td>\n",
       "      <td>Smellyjojo</td>\n",
       "      <td>None</td>\n",
       "      <td>[]</td>\n",
       "      <td>None</td>\n",
       "      <td>text</td>\n",
       "      <td>t2_44m24my2</td>\n",
       "      <td>False</td>\n",
       "      <td>False</td>\n",
       "      <td>...</td>\n",
       "      <td>all_ads</td>\n",
       "      <td>6</td>\n",
       "      <td>NaN</td>\n",
       "      <td>NaN</td>\n",
       "      <td>NaN</td>\n",
       "      <td>NaN</td>\n",
       "      <td>NaN</td>\n",
       "      <td>NaN</td>\n",
       "      <td>NaN</td>\n",
       "      <td>NaN</td>\n",
       "    </tr>\n",
       "    <tr>\n",
       "      <th>2</th>\n",
       "      <td>[]</td>\n",
       "      <td>False</td>\n",
       "      <td>PrashantThapliyal</td>\n",
       "      <td>None</td>\n",
       "      <td>[]</td>\n",
       "      <td>None</td>\n",
       "      <td>text</td>\n",
       "      <td>t2_2lgk5m01</td>\n",
       "      <td>False</td>\n",
       "      <td>False</td>\n",
       "      <td>...</td>\n",
       "      <td>all_ads</td>\n",
       "      <td>6</td>\n",
       "      <td>NaN</td>\n",
       "      <td>NaN</td>\n",
       "      <td>NaN</td>\n",
       "      <td>NaN</td>\n",
       "      <td>NaN</td>\n",
       "      <td>NaN</td>\n",
       "      <td>NaN</td>\n",
       "      <td>NaN</td>\n",
       "    </tr>\n",
       "    <tr>\n",
       "      <th>3</th>\n",
       "      <td>[]</td>\n",
       "      <td>False</td>\n",
       "      <td>Rudy-Ellen</td>\n",
       "      <td>None</td>\n",
       "      <td>[]</td>\n",
       "      <td>None</td>\n",
       "      <td>text</td>\n",
       "      <td>t2_1tgz9i82</td>\n",
       "      <td>False</td>\n",
       "      <td>False</td>\n",
       "      <td>...</td>\n",
       "      <td>all_ads</td>\n",
       "      <td>6</td>\n",
       "      <td>NaN</td>\n",
       "      <td>NaN</td>\n",
       "      <td>NaN</td>\n",
       "      <td>NaN</td>\n",
       "      <td>NaN</td>\n",
       "      <td>NaN</td>\n",
       "      <td>NaN</td>\n",
       "      <td>NaN</td>\n",
       "    </tr>\n",
       "    <tr>\n",
       "      <th>4</th>\n",
       "      <td>[]</td>\n",
       "      <td>False</td>\n",
       "      <td>leon-the-man</td>\n",
       "      <td>None</td>\n",
       "      <td>[]</td>\n",
       "      <td>None</td>\n",
       "      <td>text</td>\n",
       "      <td>t2_98dox5qn</td>\n",
       "      <td>False</td>\n",
       "      <td>False</td>\n",
       "      <td>...</td>\n",
       "      <td>all_ads</td>\n",
       "      <td>6</td>\n",
       "      <td>NaN</td>\n",
       "      <td>NaN</td>\n",
       "      <td>NaN</td>\n",
       "      <td>NaN</td>\n",
       "      <td>NaN</td>\n",
       "      <td>NaN</td>\n",
       "      <td>NaN</td>\n",
       "      <td>NaN</td>\n",
       "    </tr>\n",
       "  </tbody>\n",
       "</table>\n",
       "<p>5 rows × 68 columns</p>\n",
       "</div>"
      ],
      "text/plain": [
       "  all_awardings  allow_live_comments             author  \\\n",
       "0            []                False    yunikosensei666   \n",
       "1            []                False         Smellyjojo   \n",
       "2            []                False  PrashantThapliyal   \n",
       "3            []                False         Rudy-Ellen   \n",
       "4            []                False       leon-the-man   \n",
       "\n",
       "  author_flair_css_class author_flair_richtext author_flair_text  \\\n",
       "0                   None                    []              None   \n",
       "1                   None                    []              None   \n",
       "2                   None                    []              None   \n",
       "3                   None                    []              None   \n",
       "4                   None                    []              None   \n",
       "\n",
       "  author_flair_type author_fullname author_patreon_flair author_premium  ...  \\\n",
       "0              text        t2_l023f                False          False  ...   \n",
       "1              text     t2_44m24my2                False          False  ...   \n",
       "2              text     t2_2lgk5m01                False          False  ...   \n",
       "3              text     t2_1tgz9i82                False          False  ...   \n",
       "4              text     t2_98dox5qn                False          False  ...   \n",
       "\n",
       "  whitelist_status  wls  author_flair_background_color  \\\n",
       "0          all_ads    6                            NaN   \n",
       "1          all_ads    6                            NaN   \n",
       "2          all_ads    6                            NaN   \n",
       "3          all_ads    6                            NaN   \n",
       "4          all_ads    6                            NaN   \n",
       "\n",
       "   author_flair_text_color removed_by_category author_flair_template_id  \\\n",
       "0                      NaN                 NaN                      NaN   \n",
       "1                      NaN                 NaN                      NaN   \n",
       "2                      NaN                 NaN                      NaN   \n",
       "3                      NaN                 NaN                      NaN   \n",
       "4                      NaN                 NaN                      NaN   \n",
       "\n",
       "  post_hint preview  banned_by  author_cakeday  \n",
       "0       NaN     NaN        NaN             NaN  \n",
       "1       NaN     NaN        NaN             NaN  \n",
       "2       NaN     NaN        NaN             NaN  \n",
       "3       NaN     NaN        NaN             NaN  \n",
       "4       NaN     NaN        NaN             NaN  \n",
       "\n",
       "[5 rows x 68 columns]"
      ]
     },
     "execution_count": 16,
     "metadata": {},
     "output_type": "execute_result"
    }
   ],
   "source": [
    "pushift_data_df.head()"
   ]
  },
  {
   "cell_type": "code",
   "execution_count": 98,
   "metadata": {},
   "outputs": [
    {
     "data": {
      "text/plain": [
       "Index(['all_awardings', 'allow_live_comments', 'author',\n",
       "       'author_flair_css_class', 'author_flair_richtext', 'author_flair_text',\n",
       "       'author_flair_type', 'author_fullname', 'author_patreon_flair',\n",
       "       'author_premium', 'awarders', 'can_mod_post', 'contest_mode',\n",
       "       'created_utc', 'domain', 'full_link', 'gildings', 'id',\n",
       "       'is_crosspostable', 'is_meta', 'is_original_content',\n",
       "       'is_reddit_media_domain', 'is_robot_indexable', 'is_self', 'is_video',\n",
       "       'link_flair_background_color', 'link_flair_richtext',\n",
       "       'link_flair_text_color', 'link_flair_type', 'locked', 'media_only',\n",
       "       'no_follow', 'num_comments', 'num_crossposts', 'over_18',\n",
       "       'parent_whitelist_status', 'permalink', 'pinned', 'pwls',\n",
       "       'retrieved_on', 'score', 'selftext', 'send_replies', 'spoiler',\n",
       "       'stickied', 'subreddit', 'subreddit_id', 'subreddit_subscribers',\n",
       "       'subreddit_type', 'thumbnail', 'title', 'total_awards_received',\n",
       "       'treatment_tags', 'upvote_ratio', 'url', 'whitelist_status', 'wls',\n",
       "       'link_flair_css_class', 'link_flair_template_id', 'link_flair_text',\n",
       "       'removed_by_category', 'post_hint', 'preview',\n",
       "       'author_flair_background_color', 'author_flair_text_color',\n",
       "       'author_flair_template_id', 'banned_by', 'author_cakeday'],\n",
       "      dtype='object')"
      ]
     },
     "execution_count": 98,
     "metadata": {},
     "output_type": "execute_result"
    }
   ],
   "source": [
    "pushift_data_df.columns"
   ]
  },
  {
   "cell_type": "code",
   "execution_count": 99,
   "metadata": {},
   "outputs": [],
   "source": [
    "id_column = pushift_data_df['id']"
   ]
  },
  {
   "cell_type": "code",
   "execution_count": 100,
   "metadata": {},
   "outputs": [],
   "source": [
    "import praw\n",
    "reddit = praw.Reddit(client_id='xxxxxxxxx',\n",
    "                     client_secret='xxxxxxxxx',\n",
    "                     password='xxxxxxxxx',\n",
    "                     username='xxxxxxxxx',\n",
    "                     user_agent='xxxxxxxxx')"
   ]
  },
  {
   "cell_type": "code",
   "execution_count": 101,
   "metadata": {},
   "outputs": [],
   "source": [
    "# get most updated submission score and votes"
   ]
  },
  {
   "cell_type": "code",
   "execution_count": 102,
   "metadata": {},
   "outputs": [],
   "source": [
    "def get_praw_data(id_column):\n",
    "    df = pd.DataFrame(columns=['id', 'score', 'upvote_ratio','num_comments'])\n",
    "    for index, value in id_column.items():\n",
    "        submission = reddit.submission(id=value)\n",
    "        score = submission.score\n",
    "        upvotes = submission.ups\n",
    "        downvotes = submission.downs\n",
    "        upvote_ratio = submission.upvote_ratio\n",
    "        num_comments = submission.num_comments\n",
    "        title = submission.title\n",
    "        entry = {'id':value, 'title':title, 'score':score, 'upvote_ratio':upvote_ratio, 'num_comments':num_comments, 'ups':upvotes,'downs':downvotes}\n",
    "        df = df.append(entry, ignore_index=True)\n",
    "    return df    "
   ]
  },
  {
   "cell_type": "code",
   "execution_count": 103,
   "metadata": {},
   "outputs": [],
   "source": [
    "praw_data_df = get_praw_data(id_column)"
   ]
  },
  {
   "cell_type": "code",
   "execution_count": 104,
   "metadata": {},
   "outputs": [
    {
     "data": {
      "text/html": [
       "<div>\n",
       "<style scoped>\n",
       "    .dataframe tbody tr th:only-of-type {\n",
       "        vertical-align: middle;\n",
       "    }\n",
       "\n",
       "    .dataframe tbody tr th {\n",
       "        vertical-align: top;\n",
       "    }\n",
       "\n",
       "    .dataframe thead th {\n",
       "        text-align: right;\n",
       "    }\n",
       "</style>\n",
       "<table border=\"1\" class=\"dataframe\">\n",
       "  <thead>\n",
       "    <tr style=\"text-align: right;\">\n",
       "      <th></th>\n",
       "      <th>id</th>\n",
       "      <th>score</th>\n",
       "      <th>upvote_ratio</th>\n",
       "      <th>num_comments</th>\n",
       "      <th>downs</th>\n",
       "      <th>title</th>\n",
       "      <th>ups</th>\n",
       "    </tr>\n",
       "  </thead>\n",
       "  <tbody>\n",
       "    <tr>\n",
       "      <th>0</th>\n",
       "      <td>k9xho2</td>\n",
       "      <td>2</td>\n",
       "      <td>1.0</td>\n",
       "      <td>0</td>\n",
       "      <td>0.0</td>\n",
       "      <td>Why is Arial 11 considered the default Normal ...</td>\n",
       "      <td>2.0</td>\n",
       "    </tr>\n",
       "    <tr>\n",
       "      <th>1</th>\n",
       "      <td>k9xh2v</td>\n",
       "      <td>0</td>\n",
       "      <td>0.5</td>\n",
       "      <td>5</td>\n",
       "      <td>0.0</td>\n",
       "      <td>Why do people judging slave owners from past e...</td>\n",
       "      <td>0.0</td>\n",
       "    </tr>\n",
       "    <tr>\n",
       "      <th>2</th>\n",
       "      <td>k9xgyu</td>\n",
       "      <td>0</td>\n",
       "      <td>0.4</td>\n",
       "      <td>2</td>\n",
       "      <td>0.0</td>\n",
       "      <td>Does anybody get very very uncomfortable when ...</td>\n",
       "      <td>0.0</td>\n",
       "    </tr>\n",
       "    <tr>\n",
       "      <th>3</th>\n",
       "      <td>k9xfkx</td>\n",
       "      <td>1</td>\n",
       "      <td>1.0</td>\n",
       "      <td>5</td>\n",
       "      <td>0.0</td>\n",
       "      <td>What if 2 people against each other in court h...</td>\n",
       "      <td>1.0</td>\n",
       "    </tr>\n",
       "    <tr>\n",
       "      <th>4</th>\n",
       "      <td>k9xfcw</td>\n",
       "      <td>1</td>\n",
       "      <td>1.0</td>\n",
       "      <td>4</td>\n",
       "      <td>0.0</td>\n",
       "      <td>All my muscles atrophied since I’ve been out o...</td>\n",
       "      <td>1.0</td>\n",
       "    </tr>\n",
       "  </tbody>\n",
       "</table>\n",
       "</div>"
      ],
      "text/plain": [
       "       id score  upvote_ratio num_comments  downs  \\\n",
       "0  k9xho2     2           1.0            0    0.0   \n",
       "1  k9xh2v     0           0.5            5    0.0   \n",
       "2  k9xgyu     0           0.4            2    0.0   \n",
       "3  k9xfkx     1           1.0            5    0.0   \n",
       "4  k9xfcw     1           1.0            4    0.0   \n",
       "\n",
       "                                               title  ups  \n",
       "0  Why is Arial 11 considered the default Normal ...  2.0  \n",
       "1  Why do people judging slave owners from past e...  0.0  \n",
       "2  Does anybody get very very uncomfortable when ...  0.0  \n",
       "3  What if 2 people against each other in court h...  1.0  \n",
       "4  All my muscles atrophied since I’ve been out o...  1.0  "
      ]
     },
     "execution_count": 104,
     "metadata": {},
     "output_type": "execute_result"
    }
   ],
   "source": [
    "praw_data_df.head()"
   ]
  },
  {
   "cell_type": "code",
   "execution_count": 105,
   "metadata": {},
   "outputs": [
    {
     "data": {
      "text/plain": [
       "(500, 7)"
      ]
     },
     "execution_count": 105,
     "metadata": {},
     "output_type": "execute_result"
    }
   ],
   "source": [
    "praw_data_df.shape"
   ]
  },
  {
   "cell_type": "code",
   "execution_count": 106,
   "metadata": {},
   "outputs": [],
   "source": [
    "praw_data_df['title_length'] = praw_data_df['title'].apply(lambda x: len(x.split()))"
   ]
  },
  {
   "cell_type": "code",
   "execution_count": 107,
   "metadata": {},
   "outputs": [
    {
     "data": {
      "text/plain": [
       "Index(['id', 'score', 'upvote_ratio', 'num_comments', 'downs', 'title', 'ups',\n",
       "       'title_length'],\n",
       "      dtype='object')"
      ]
     },
     "execution_count": 107,
     "metadata": {},
     "output_type": "execute_result"
    }
   ],
   "source": [
    "praw_data_df.columns"
   ]
  },
  {
   "cell_type": "code",
   "execution_count": 108,
   "metadata": {},
   "outputs": [
    {
     "data": {
      "text/plain": [
       "<AxesSubplot:xlabel='title_length', ylabel='score'>"
      ]
     },
     "execution_count": 108,
     "metadata": {},
     "output_type": "execute_result"
    },
    {
     "data": {
      "image/png": "[encoded data removed]",
      "text/plain": [
       "<Figure size 432x288 with 1 Axes>"
      ]
     },
     "metadata": {
      "needs_background": "light"
     },
     "output_type": "display_data"
    }
   ],
   "source": [
    "praw_data_df.plot.scatter(x='title_length', y='score')"
   ]
  },
  {
   "cell_type": "code",
   "execution_count": 109,
   "metadata": {},
   "outputs": [
    {
     "data": {
      "text/plain": [
       "<AxesSubplot:xlabel='title_length', ylabel='upvote_ratio'>"
      ]
     },
     "execution_count": 109,
     "metadata": {},
     "output_type": "execute_result"
    },
    {
     "data": {
      "image/png": "[encoded data removed]",
      "text/plain": [
       "<Figure size 432x288 with 1 Axes>"
      ]
     },
     "metadata": {
      "needs_background": "light"
     },
     "output_type": "display_data"
    }
   ],
   "source": [
    "praw_data_df.plot.scatter(x='title_length', y='upvote_ratio')"
   ]
  },
  {
   "cell_type": "code",
   "execution_count": 110,
   "metadata": {},
   "outputs": [
    {
     "data": {
      "text/plain": [
       "<AxesSubplot:xlabel='title_length', ylabel='upvote_ratio'>"
      ]
     },
     "execution_count": 110,
     "metadata": {},
     "output_type": "execute_result"
    },
    {
     "data": {
      "image/png": "[encoded data removed]",
      "text/plain": [
       "<Figure size 432x288 with 1 Axes>"
      ]
     },
     "metadata": {
      "needs_background": "light"
     },
     "output_type": "display_data"
    }
   ],
   "source": [
    "praw_data_df.plot.scatter(x='title_length', y='upvote_ratio')"
   ]
  },
  {
   "cell_type": "code",
   "execution_count": 111,
   "metadata": {},
   "outputs": [
    {
     "data": {
      "text/plain": [
       "count     500\n",
       "unique     14\n",
       "top         1\n",
       "freq      262\n",
       "Name: score, dtype: int64"
      ]
     },
     "execution_count": 111,
     "metadata": {},
     "output_type": "execute_result"
    }
   ],
   "source": [
    "praw_data_df['score'].describe()"
   ]
  },
  {
   "cell_type": "code",
   "execution_count": 112,
   "metadata": {},
   "outputs": [
    {
     "data": {
      "text/plain": [
       "count    500.000000\n",
       "mean       0.878780\n",
       "std        0.211625\n",
       "min        0.200000\n",
       "25%        0.795000\n",
       "50%        1.000000\n",
       "75%        1.000000\n",
       "max        1.000000\n",
       "Name: upvote_ratio, dtype: float64"
      ]
     },
     "execution_count": 112,
     "metadata": {},
     "output_type": "execute_result"
    }
   ],
   "source": [
    "praw_data_df['upvote_ratio'].describe()"
   ]
  },
  {
   "cell_type": "code",
   "execution_count": 113,
   "metadata": {},
   "outputs": [
    {
     "data": {
      "text/plain": [
       "count     500\n",
       "unique     24\n",
       "top         1\n",
       "freq       82\n",
       "Name: num_comments, dtype: int64"
      ]
     },
     "execution_count": 113,
     "metadata": {},
     "output_type": "execute_result"
    }
   ],
   "source": [
    "praw_data_df['num_comments'].describe()"
   ]
  },
  {
   "cell_type": "code",
   "execution_count": 114,
   "metadata": {},
   "outputs": [
    {
     "data": {
      "text/plain": [
       "count    500.00000\n",
       "mean      13.14400\n",
       "std        7.32356\n",
       "min        2.00000\n",
       "25%        8.00000\n",
       "50%       12.00000\n",
       "75%       17.00000\n",
       "max       46.00000\n",
       "Name: title_length, dtype: float64"
      ]
     },
     "execution_count": 114,
     "metadata": {},
     "output_type": "execute_result"
    }
   ],
   "source": [
    "praw_data_df['title_length'].describe()"
   ]
  },
  {
   "cell_type": "code",
   "execution_count": 115,
   "metadata": {},
   "outputs": [
    {
     "data": {
      "text/plain": [
       "'k9xho2'"
      ]
     },
     "execution_count": 115,
     "metadata": {},
     "output_type": "execute_result"
    }
   ],
   "source": [
    "pushift_data_df.at[0,'id']"
   ]
  },
  {
   "cell_type": "code",
   "execution_count": 116,
   "metadata": {},
   "outputs": [],
   "source": [
    "submission = reddit.submission(id='k9u8pw')"
   ]
  },
  {
   "cell_type": "code",
   "execution_count": 117,
   "metadata": {},
   "outputs": [
    {
     "data": {
      "text/plain": [
       "['STR_FIELD',\n",
       " '__class__',\n",
       " '__delattr__',\n",
       " '__dict__',\n",
       " '__dir__',\n",
       " '__doc__',\n",
       " '__eq__',\n",
       " '__format__',\n",
       " '__ge__',\n",
       " '__getattr__',\n",
       " '__getattribute__',\n",
       " '__gt__',\n",
       " '__hash__',\n",
       " '__init__',\n",
       " '__init_subclass__',\n",
       " '__le__',\n",
       " '__lt__',\n",
       " '__module__',\n",
       " '__ne__',\n",
       " '__new__',\n",
       " '__reduce__',\n",
       " '__reduce_ex__',\n",
       " '__repr__',\n",
       " '__setattr__',\n",
       " '__sizeof__',\n",
       " '__str__',\n",
       " '__subclasshook__',\n",
       " '__weakref__',\n",
       " '_chunk',\n",
       " '_comments_by_id',\n",
       " '_fetch',\n",
       " '_fetch_data',\n",
       " '_fetch_info',\n",
       " '_fetched',\n",
       " '_kind',\n",
       " '_reddit',\n",
       " '_reset_attributes',\n",
       " '_safely_add_arguments',\n",
       " '_url_parts',\n",
       " '_vote',\n",
       " 'clear_vote',\n",
       " 'comment_limit',\n",
       " 'comment_sort',\n",
       " 'comments',\n",
       " 'crosspost',\n",
       " 'delete',\n",
       " 'disable_inbox_replies',\n",
       " 'downvote',\n",
       " 'duplicates',\n",
       " 'edit',\n",
       " 'enable_inbox_replies',\n",
       " 'flair',\n",
       " 'fullname',\n",
       " 'gild',\n",
       " 'hide',\n",
       " 'id',\n",
       " 'id_from_url',\n",
       " 'mark_visited',\n",
       " 'mod',\n",
       " 'parse',\n",
       " 'reply',\n",
       " 'report',\n",
       " 'save',\n",
       " 'shortlink',\n",
       " 'unhide',\n",
       " 'unsave',\n",
       " 'upvote']"
      ]
     },
     "execution_count": 117,
     "metadata": {},
     "output_type": "execute_result"
    }
   ],
   "source": [
    "dir(submission)"
   ]
  }
 ],
 "metadata": {
  "kernelspec": {
   "display_name": "Python 3",
   "language": "python",
   "name": "python3"
  },
  "language_info": {
   "codemirror_mode": {
    "name": "ipython",
    "version": 3
   },
   "file_extension": ".py",
   "mimetype": "text/x-python",
   "name": "python",
   "nbconvert_exporter": "python",
   "pygments_lexer": "ipython3",
   "version": "3.8.5"
  }
 },
 "nbformat": 4,
 "nbformat_minor": 4
}
