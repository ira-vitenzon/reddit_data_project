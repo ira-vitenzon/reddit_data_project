{
 "cells": [
  {
   "cell_type": "code",
   "execution_count": 1,
   "id": "ideal-ethernet",
   "metadata": {},
   "outputs": [],
   "source": [
    "import pandas as pd\n",
    "from pathlib import Path\n",
    "import datetime as dt\n",
    "import matplotlib.pyplot as plt\n",
    "%matplotlib notebook"
   ]
  },
  {
   "cell_type": "code",
   "execution_count": 5,
   "id": "spatial-spectrum",
   "metadata": {},
   "outputs": [],
   "source": [
    "# praw_file_path = Path(\"C:/Users/iravi/Data Projects/Reddit/reddit_data_project/data/praw_askreddit.csv\")\n",
    "# praw_askreddit_df_part1 = pd.read_csv(praw_file_path, low_memory=False) \n",
    "# praw_file_path = Path(\"C:/Users/iravi/Data Projects/Reddit/reddit_data_project/data/praw_askreddit_2.csv\")\n",
    "# praw_askreddit_df_part2 = pd.read_csv(praw_file_path, low_memory=False) \n",
    "# praw_askreddit_df = pd.concat([praw_askreddit_df_part1, praw_askreddit_df_part2], ignore_index=True)\n",
    "# complete_file_path = Path(\"C:/Users/iravi/Data Projects/Reddit/reddit_data_project/data/praw_askreddit_all_data.csv\")\n",
    "# praw_askreddit_df.to_csv(complete_file_path, index=False)"
   ]
  },
  {
   "cell_type": "code",
   "execution_count": 2,
   "id": "faced-yellow",
   "metadata": {},
   "outputs": [],
   "source": [
    "complete_file_path = Path(\"C:/Users/iravi/Data Projects/Reddit/reddit_data_project/data/praw_askreddit_all_data.csv\")\n",
    "praw_askreddit_df = pd.read_csv(complete_file_path, low_memory=False)"
   ]
  },
  {
   "cell_type": "code",
   "execution_count": 2,
   "id": "changed-explanation",
   "metadata": {},
   "outputs": [],
   "source": [
    "file1 = Path(\"C:/Users/iravi/Data Projects/Reddit/reddit_data_project/data/praw_clean_data.csv\")\n",
    "file2 = Path(\"C:/Users/iravi/Data Projects/Reddit/reddit_data_project/data/praw_data.csv\")\n",
    "file3 = Path(\"C:/Users/iravi/Data Projects/Reddit/reddit_data_project/data/pushift_askreddit.csv\")\n",
    "file4 = Path(\"C:/Users/iravi/Data Projects/Reddit/reddit_data_project/data/pushift_askreddit_2.csv\")\n",
    "file5 = Path(\"C:/Users/iravi/Data Projects/Reddit/reddit_data_project/data/pushift_data.csv\")"
   ]
  },
  {
   "cell_type": "code",
   "execution_count": 3,
   "id": "integrated-velvet",
   "metadata": {},
   "outputs": [],
   "source": [
    "df1 = pd.read_csv(file1, low_memory=False) #nostupidquestions from praw - 49 columns\n",
    "df2 = pd.read_csv(file2, low_memory=False) #nostupidquestions from praw - all columns\n",
    "df3 = pd.read_csv(file3, low_memory=False) #two columns\n",
    "df4 = pd.read_csv(file4, low_memory=False)\n",
    "df5 = pd.read_csv(file5, low_memory=False)"
   ]
  },
  {
   "cell_type": "code",
   "execution_count": 18,
   "id": "vulnerable-disease",
   "metadata": {},
   "outputs": [
    {
     "data": {
      "text/plain": [
       "0        https://www.reddit.com/r/NoStupidQuestions/com...\n",
       "1        https://www.reddit.com/r/NoStupidQuestions/com...\n",
       "2        https://www.reddit.com/r/NoStupidQuestions/com...\n",
       "3        https://www.reddit.com/r/NoStupidQuestions/com...\n",
       "4        https://www.reddit.com/r/NoStupidQuestions/com...\n",
       "                               ...                        \n",
       "99995    https://www.reddit.com/r/NoStupidQuestions/com...\n",
       "99996    https://www.reddit.com/r/NoStupidQuestions/com...\n",
       "99997    https://www.reddit.com/r/NoStupidQuestions/com...\n",
       "99998    https://www.reddit.com/r/NoStupidQuestions/com...\n",
       "99999    https://www.reddit.com/r/NoStupidQuestions/com...\n",
       "Name: url, Length: 100000, dtype: object"
      ]
     },
     "execution_count": 18,
     "metadata": {},
     "output_type": "execute_result"
    }
   ],
   "source": [
    "df5['url']"
   ]
  },
  {
   "cell_type": "code",
   "execution_count": null,
   "id": "facial-plaintiff",
   "metadata": {},
   "outputs": [],
   "source": [
    "len(praw_askreddit_df)"
   ]
  },
  {
   "cell_type": "code",
   "execution_count": 7,
   "id": "through-hardwood",
   "metadata": {},
   "outputs": [],
   "source": [
    "start_timestamp = praw_askreddit_df['created_utc'].min()\n",
    "end_timestamp = praw_askreddit_df['created_utc'].max()\n",
    "\n",
    "start_date = dt.datetime.fromtimestamp(start_timestamp)\n",
    "end_date = dt.datetime.fromtimestamp(end_timestamp)\n",
    "\n",
    "print(str(start_date) + \" - \" + str(end_date))"
   ]
  },
  {
   "cell_type": "markdown",
   "id": "automated-couple",
   "metadata": {},
   "source": [
    "## Cleaning and EDA"
   ]
  },
  {
   "cell_type": "code",
   "execution_count": 3,
   "id": "turned-allocation",
   "metadata": {},
   "outputs": [],
   "source": [
    "# drop columns which have only one value or all null\n",
    "columns = list(praw_askreddit_df.columns)\n",
    "columns_to_drop = []\n",
    "for column in columns:\n",
    "    if len(praw_askreddit_df[column].unique()) == 1:\n",
    "        columns_to_drop.append(column)\n",
    "# work on a copy of the DataFrame        \n",
    "praw_askreddit_df_copy =  praw_askreddit_df.drop(columns_to_drop, axis=1) "
   ]
  },
  {
   "cell_type": "code",
   "execution_count": null,
   "id": "complete-raising",
   "metadata": {},
   "outputs": [],
   "source": [
    "praw_askreddit_df_copy.info(verbose=True, show_counts=True)"
   ]
  },
  {
   "cell_type": "markdown",
   "id": "olympic-petroleum",
   "metadata": {},
   "source": [
    "### 0 -  _reddit"
   ]
  },
  {
   "cell_type": "code",
   "execution_count": null,
   "id": "higher-brazilian",
   "metadata": {},
   "outputs": [],
   "source": [
    "praw_askreddit_df_copy['_reddit']"
   ]
  },
  {
   "cell_type": "code",
   "execution_count": null,
   "id": "laughing-process",
   "metadata": {},
   "outputs": [],
   "source": [
    "praw_askreddit_df_copy['_reddit'].value_counts()"
   ]
  },
  {
   "cell_type": "code",
   "execution_count": 4,
   "id": "guided-medium",
   "metadata": {},
   "outputs": [],
   "source": [
    "praw_askreddit_df_copy.drop(['_reddit'], axis=1, inplace=True) # Praw reddit object"
   ]
  },
  {
   "cell_type": "markdown",
   "id": "bearing-trade",
   "metadata": {},
   "source": [
    "### 1 - selftext"
   ]
  },
  {
   "cell_type": "code",
   "execution_count": null,
   "id": "three-visibility",
   "metadata": {},
   "outputs": [],
   "source": [
    "praw_askreddit_df_copy['selftext'].value_counts()"
   ]
  },
  {
   "cell_type": "markdown",
   "id": "coated-titanium",
   "metadata": {},
   "source": [
    "AskReddit rule 1: Questions must be clear and direct and may not use the body textbox"
   ]
  },
  {
   "cell_type": "code",
   "execution_count": null,
   "id": "exact-amateur",
   "metadata": {},
   "outputs": [],
   "source": [
    "not_removed_selftext = (praw_askreddit_df_copy['selftext'] != '[removed]') & (praw_askreddit_df_copy['selftext'] != '[deleted]') & (praw_askreddit_df_copy['selftext'] != '[usunięte]') & (praw_askreddit_df_copy['selftext'] != '[usunięto]') & (praw_askreddit_df_copy['selftext'] != '.') & (praw_askreddit_df_copy['selftext'] != '...') & (praw_askreddit_df_copy['selftext'] != '**')\n",
    "not_removed_selftext_df = praw_askreddit_df_copy[not_removed_selftext]"
   ]
  },
  {
   "cell_type": "code",
   "execution_count": null,
   "id": "virgin-device",
   "metadata": {},
   "outputs": [],
   "source": [
    "not_removed_selftext_df = not_removed_selftext_df.dropna(subset=['selftext'])"
   ]
  },
  {
   "cell_type": "code",
   "execution_count": null,
   "id": "signal-saturn",
   "metadata": {},
   "outputs": [],
   "source": [
    "not_removed_selftext_df['score'].value_counts().index"
   ]
  },
  {
   "cell_type": "code",
   "execution_count": null,
   "id": "disturbed-thirty",
   "metadata": {},
   "outputs": [],
   "source": [
    "not_removed_selftext_df[not_removed_selftext_df['score'] == 99382]"
   ]
  },
  {
   "cell_type": "code",
   "execution_count": null,
   "id": "retired-jersey",
   "metadata": {},
   "outputs": [],
   "source": [
    "not_removed_selftext_df.loc[893067,'link_flair_text']"
   ]
  },
  {
   "cell_type": "code",
   "execution_count": null,
   "id": "surgical-moore",
   "metadata": {},
   "outputs": [],
   "source": [
    "not_removed_selftext_df.loc[893067,'title']"
   ]
  },
  {
   "cell_type": "code",
   "execution_count": null,
   "id": "latter-accounting",
   "metadata": {},
   "outputs": [],
   "source": [
    "not_removed_selftext_df.loc[893067,'selftext']"
   ]
  },
  {
   "cell_type": "code",
   "execution_count": null,
   "id": "simplified-fourth",
   "metadata": {},
   "outputs": [],
   "source": [
    "not_removed_selftext_df.loc[893067,'distinguished']"
   ]
  },
  {
   "cell_type": "code",
   "execution_count": null,
   "id": "promising-organ",
   "metadata": {},
   "outputs": [],
   "source": [
    "not_removed_selftext_df[not_removed_selftext_df['score'] == 99382]"
   ]
  },
  {
   "cell_type": "code",
   "execution_count": null,
   "id": "blocked-circulation",
   "metadata": {},
   "outputs": [],
   "source": [
    "not_removed_selftext_df[not_removed_selftext_df['score'] == 76492]"
   ]
  },
  {
   "cell_type": "code",
   "execution_count": null,
   "id": "outdoor-forest",
   "metadata": {},
   "outputs": [],
   "source": [
    "not_removed_selftext_df.loc[719805,'title']"
   ]
  },
  {
   "cell_type": "code",
   "execution_count": null,
   "id": "indian-passing",
   "metadata": {},
   "outputs": [],
   "source": [
    "not_removed_selftext_df.loc[719805,'selftext']"
   ]
  },
  {
   "cell_type": "code",
   "execution_count": null,
   "id": "short-passport",
   "metadata": {},
   "outputs": [],
   "source": [
    "not_removed_selftext_df.loc[719805,'distinguished']"
   ]
  },
  {
   "cell_type": "code",
   "execution_count": null,
   "id": "logical-compound",
   "metadata": {},
   "outputs": [],
   "source": [
    "dt.datetime.fromtimestamp(not_removed_selftext_df.loc[719805,'created_utc'])"
   ]
  },
  {
   "cell_type": "markdown",
   "id": "auburn-mainstream",
   "metadata": {},
   "source": [
    "The 2020 United States presidential election was the 59th quadrennial presidential election, held on Tuesday, November 3"
   ]
  },
  {
   "cell_type": "code",
   "execution_count": null,
   "id": "floppy-extent",
   "metadata": {},
   "outputs": [],
   "source": [
    "not_removed_selftext_df[not_removed_selftext_df['score'] == 3870]"
   ]
  },
  {
   "cell_type": "code",
   "execution_count": null,
   "id": "racial-tooth",
   "metadata": {},
   "outputs": [],
   "source": [
    "not_removed_selftext_df.loc[1818589,'title']"
   ]
  },
  {
   "cell_type": "code",
   "execution_count": null,
   "id": "brown-seven",
   "metadata": {},
   "outputs": [],
   "source": [
    "not_removed_selftext_df.loc[1818589,'selftext']"
   ]
  },
  {
   "cell_type": "code",
   "execution_count": null,
   "id": "polish-average",
   "metadata": {},
   "outputs": [],
   "source": [
    "dt.datetime.fromtimestamp(not_removed_selftext_df.loc[1818589,'created_utc'])"
   ]
  },
  {
   "cell_type": "code",
   "execution_count": null,
   "id": "private-structure",
   "metadata": {},
   "outputs": [],
   "source": [
    "not_removed_selftext_df.loc[1818589,'url']"
   ]
  },
  {
   "cell_type": "markdown",
   "id": "greenhouse-jewel",
   "metadata": {},
   "source": [
    "An archived post is a post that is over 180 days old, which is roughly 6 months. In archived posts, no votes can be changed and no new comments can be made."
   ]
  },
  {
   "cell_type": "code",
   "execution_count": null,
   "id": "brown-ordering",
   "metadata": {},
   "outputs": [],
   "source": [
    "not_removed_selftext_df.loc[1818589,'archived']"
   ]
  },
  {
   "cell_type": "code",
   "execution_count": null,
   "id": "unusual-student",
   "metadata": {},
   "outputs": [],
   "source": [
    "not_removed_selftext_df[not_removed_selftext_df['score'] == 577]"
   ]
  },
  {
   "cell_type": "code",
   "execution_count": null,
   "id": "requested-mortality",
   "metadata": {},
   "outputs": [],
   "source": [
    "not_removed_selftext_df.loc[1404404,'title']"
   ]
  },
  {
   "cell_type": "code",
   "execution_count": null,
   "id": "understanding-abuse",
   "metadata": {},
   "outputs": [],
   "source": [
    "not_removed_selftext_df.loc[1404404,'selftext']"
   ]
  },
  {
   "cell_type": "code",
   "execution_count": null,
   "id": "frozen-toner",
   "metadata": {},
   "outputs": [],
   "source": [
    "not_removed_selftext_df.loc[1404404,'archived']"
   ]
  },
  {
   "cell_type": "code",
   "execution_count": null,
   "id": "ignored-causing",
   "metadata": {},
   "outputs": [],
   "source": [
    "not_removed_selftext_df[not_removed_selftext_df['score'] < 577]"
   ]
  },
  {
   "cell_type": "code",
   "execution_count": null,
   "id": "intended-offset",
   "metadata": {},
   "outputs": [],
   "source": [
    "not_removed_selftext_df[(not_removed_selftext_df['score'] < 577) & (not_removed_selftext_df['edited'] != 'False')]"
   ]
  },
  {
   "cell_type": "markdown",
   "id": "negative-range",
   "metadata": {},
   "source": [
    "1. 1 post - (moderator post) breaking news score = 99382\n",
    "2. 1 post - moderator announcement score = 76492\n",
    "3. 75 posts - edited (added text in body textbox)\n",
    "4. 50 posts have some text\n",
    "\n",
    "* probably will not be training on moderator posts. They are outliers\n",
    "* selftext column is either empty or edited after publishing -> unnecessary feature "
   ]
  },
  {
   "cell_type": "code",
   "execution_count": 5,
   "id": "nutritional-approach",
   "metadata": {},
   "outputs": [],
   "source": [
    "praw_askreddit_df_copy.drop([893067,719805], axis=0, inplace=True)"
   ]
  },
  {
   "cell_type": "code",
   "execution_count": 6,
   "id": "productive-flower",
   "metadata": {},
   "outputs": [],
   "source": [
    "praw_askreddit_df_copy.drop('selftext', axis=1, inplace=True)"
   ]
  },
  {
   "cell_type": "markdown",
   "id": "manufactured-trademark",
   "metadata": {},
   "source": [
    "### 2 - gilded"
   ]
  },
  {
   "cell_type": "code",
   "execution_count": null,
   "id": "soviet-ready",
   "metadata": {},
   "outputs": [],
   "source": [
    "praw_askreddit_df_copy['gilded'].value_counts() # how may gildings the post received"
   ]
  },
  {
   "cell_type": "code",
   "execution_count": null,
   "id": "negative-quest",
   "metadata": {},
   "outputs": [],
   "source": [
    "gilded_submissions_df = praw_askreddit_df_copy[praw_askreddit_df_copy['gilded'] != 0]"
   ]
  },
  {
   "cell_type": "code",
   "execution_count": null,
   "id": "hollywood-milwaukee",
   "metadata": {},
   "outputs": [],
   "source": [
    "len(gilded_submissions_df)"
   ]
  },
  {
   "cell_type": "code",
   "execution_count": null,
   "id": "touched-accountability",
   "metadata": {},
   "outputs": [],
   "source": [
    "gilded_submissions_df['gilded'].value_counts()"
   ]
  },
  {
   "cell_type": "code",
   "execution_count": null,
   "id": "innocent-excitement",
   "metadata": {},
   "outputs": [],
   "source": [
    "gilded_submissions_df.boxplot(column=['score'], by = ['gilded'])"
   ]
  },
  {
   "cell_type": "markdown",
   "id": "lesbian-range",
   "metadata": {},
   "source": [
    "### 3 - title"
   ]
  },
  {
   "cell_type": "code",
   "execution_count": null,
   "id": "failing-employer",
   "metadata": {},
   "outputs": [],
   "source": [
    "title_length = praw_askreddit_df_copy['title'].apply(lambda x : len(x.split())).rename(\"title_length\")"
   ]
  },
  {
   "cell_type": "code",
   "execution_count": null,
   "id": "clean-advancement",
   "metadata": {},
   "outputs": [],
   "source": [
    "title_length.min()"
   ]
  },
  {
   "cell_type": "code",
   "execution_count": null,
   "id": "therapeutic-sponsorship",
   "metadata": {},
   "outputs": [],
   "source": [
    "title_length.max()"
   ]
  },
  {
   "cell_type": "code",
   "execution_count": null,
   "id": "educated-pharmacology",
   "metadata": {},
   "outputs": [],
   "source": [
    "title_length.hist(bins=[0,5,10,15,20,25,30,150])"
   ]
  },
  {
   "cell_type": "code",
   "execution_count": null,
   "id": "capital-marriage",
   "metadata": {},
   "outputs": [],
   "source": [
    "plt.xlabel(\"Title length\") \n",
    "plt.ylabel(\"Score\") \n",
    "plt.scatter(x=title_length, y=praw_askreddit_df_copy['score'], s=5)"
   ]
  },
  {
   "cell_type": "code",
   "execution_count": null,
   "id": "heard-cricket",
   "metadata": {},
   "outputs": [],
   "source": [
    "plt.boxplot(title_length)"
   ]
  },
  {
   "cell_type": "code",
   "execution_count": null,
   "id": "going-membership",
   "metadata": {},
   "outputs": [],
   "source": [
    "copy = pd.concat([praw_askreddit_df_copy, title_length],axis=1)"
   ]
  },
  {
   "cell_type": "code",
   "execution_count": null,
   "id": "attractive-richardson",
   "metadata": {},
   "outputs": [],
   "source": [
    "copy[copy['title_length'] > 70]['title']"
   ]
  },
  {
   "cell_type": "code",
   "execution_count": null,
   "id": "arranged-investing",
   "metadata": {},
   "outputs": [],
   "source": [
    "copy.loc[1382836, 'url']"
   ]
  },
  {
   "cell_type": "code",
   "execution_count": null,
   "id": "sharing-popularity",
   "metadata": {},
   "outputs": [],
   "source": [
    "#TODO:\n",
    "# remove stop words and such, a, on, to, the....\n",
    "# most used words \n",
    "# least used words"
   ]
  },
  {
   "cell_type": "markdown",
   "id": "listed-rachel",
   "metadata": {},
   "source": [
    "### 4 - link_flair_richtext"
   ]
  },
  {
   "cell_type": "code",
   "execution_count": null,
   "id": "married-eclipse",
   "metadata": {},
   "outputs": [],
   "source": [
    "praw_askreddit_df_copy['link_flair_richtext'].value_counts()"
   ]
  },
  {
   "cell_type": "code",
   "execution_count": null,
   "id": "proud-making",
   "metadata": {},
   "outputs": [],
   "source": [
    "link_flair_richtext_df[link_flair_richtext_df['link_flair_richtext'] == \"[{'e': 'text', 't': '/r/IAmA Request'}]\"]"
   ]
  },
  {
   "cell_type": "code",
   "execution_count": null,
   "id": "understanding-console",
   "metadata": {},
   "outputs": [],
   "source": [
    "link_flair_richtext_df.loc[333541,'title']"
   ]
  },
  {
   "cell_type": "code",
   "execution_count": null,
   "id": "golden-computer",
   "metadata": {},
   "outputs": [],
   "source": [
    "link_flair_richtext_df.loc[333541,'score']"
   ]
  },
  {
   "cell_type": "code",
   "execution_count": null,
   "id": "saved-bahrain",
   "metadata": {},
   "outputs": [],
   "source": [
    "link_flair_richtext_df.loc[333541,'url']"
   ]
  },
  {
   "cell_type": "markdown",
   "id": "middle-victorian",
   "metadata": {},
   "source": [
    "This post is referenced to 'Ask me anything' subreddit.\n",
    "also delete this post"
   ]
  },
  {
   "cell_type": "code",
   "execution_count": 7,
   "id": "collective-philip",
   "metadata": {},
   "outputs": [],
   "source": [
    "praw_askreddit_df_copy.drop(333541, axis=0, inplace=True)"
   ]
  },
  {
   "cell_type": "markdown",
   "id": "polar-internship",
   "metadata": {},
   "source": [
    "### 5 - link_flair_css_class"
   ]
  },
  {
   "cell_type": "code",
   "execution_count": null,
   "id": "actual-helena",
   "metadata": {},
   "outputs": [],
   "source": [
    "praw_askreddit_df_copy['link_flair_css_class'].value_counts()"
   ]
  },
  {
   "cell_type": "code",
   "execution_count": null,
   "id": "continuing-western",
   "metadata": {},
   "outputs": [],
   "source": [
    "praw_askreddit_df_copy[praw_askreddit_df_copy['link_flair_css_class'] == 'serious']"
   ]
  },
  {
   "cell_type": "markdown",
   "id": "painful-morrison",
   "metadata": {},
   "source": [
    "This information is also in other columns (link_flair_richtext for example). Delete column"
   ]
  },
  {
   "cell_type": "code",
   "execution_count": 8,
   "id": "hispanic-rolling",
   "metadata": {},
   "outputs": [],
   "source": [
    "praw_askreddit_df_copy.drop(['link_flair_css_class'], axis=1, inplace=True)"
   ]
  },
  {
   "cell_type": "markdown",
   "id": "sitting-peninsula",
   "metadata": {},
   "source": [
    "### 6 - top awarded type"
   ]
  },
  {
   "cell_type": "code",
   "execution_count": null,
   "id": "suitable-button",
   "metadata": {},
   "outputs": [],
   "source": [
    "praw_askreddit_df_copy['top_awarded_type'].value_counts()"
   ]
  },
  {
   "cell_type": "markdown",
   "id": "handled-update",
   "metadata": {},
   "source": [
    "### 7 - name"
   ]
  },
  {
   "cell_type": "code",
   "execution_count": null,
   "id": "freelance-saint",
   "metadata": {},
   "outputs": [],
   "source": [
    "praw_askreddit_df_copy['name'].value_counts() # full submission id / fullname"
   ]
  },
  {
   "cell_type": "markdown",
   "id": "violent-lender",
   "metadata": {},
   "source": [
    "### 8 - link_flair_text_color"
   ]
  },
  {
   "cell_type": "code",
   "execution_count": null,
   "id": "burning-violence",
   "metadata": {},
   "outputs": [],
   "source": [
    "praw_askreddit_df_copy['link_flair_text_color'].value_counts()"
   ]
  },
  {
   "cell_type": "code",
   "execution_count": 9,
   "id": "gross-baker",
   "metadata": {},
   "outputs": [],
   "source": [
    "praw_askreddit_df_copy.drop('link_flair_text_color', axis=1, inplace=True)"
   ]
  },
  {
   "cell_type": "markdown",
   "id": "latin-limit",
   "metadata": {},
   "source": [
    "### 9 - upvote_ratio"
   ]
  },
  {
   "cell_type": "code",
   "execution_count": null,
   "id": "conditional-storage",
   "metadata": {},
   "outputs": [],
   "source": [
    "praw_askreddit_df_copy['upvote_ratio'].value_counts() # upvotes/total votes"
   ]
  },
  {
   "cell_type": "markdown",
   "id": "stuck-parts",
   "metadata": {},
   "source": [
    "### 10 - ups"
   ]
  },
  {
   "cell_type": "code",
   "execution_count": null,
   "id": "antique-settlement",
   "metadata": {},
   "outputs": [],
   "source": [
    "praw_askreddit_df_copy['ups'].value_counts()"
   ]
  },
  {
   "cell_type": "code",
   "execution_count": null,
   "id": "extended-local",
   "metadata": {},
   "outputs": [],
   "source": [
    "praw_askreddit_df_copy['ups'].equals(praw_askreddit_df_copy['score'])"
   ]
  },
  {
   "cell_type": "markdown",
   "id": "friendly-thunder",
   "metadata": {},
   "source": [
    "redumdant column"
   ]
  },
  {
   "cell_type": "code",
   "execution_count": 10,
   "id": "architectural-blackberry",
   "metadata": {},
   "outputs": [],
   "source": [
    "praw_askreddit_df_copy.drop('ups', axis=1, inplace=True)"
   ]
  },
  {
   "cell_type": "markdown",
   "id": "alpine-batman",
   "metadata": {},
   "source": [
    "### 11- total_awards_received"
   ]
  },
  {
   "cell_type": "code",
   "execution_count": null,
   "id": "introductory-occurrence",
   "metadata": {},
   "outputs": [],
   "source": [
    "praw_askreddit_df_copy['total_awards_received'].value_counts()"
   ]
  },
  {
   "cell_type": "code",
   "execution_count": null,
   "id": "brief-textbook",
   "metadata": {},
   "outputs": [],
   "source": [
    "# ציון כפונקציה של מס פרסים. האם יש מישהו שקיבלת פרסים על כמה פוסטים, מה מיוחד בפוסטים שקיבלו ממש הרבה פרסים. נניח לבנות היסטוגרמה לפי עשרות עד 100 ואז 200 ומעל 200"
   ]
  },
  {
   "cell_type": "markdown",
   "id": "floppy-jesus",
   "metadata": {},
   "source": [
    "### 12 - link_flair_text"
   ]
  },
  {
   "cell_type": "code",
   "execution_count": null,
   "id": "front-yeast",
   "metadata": {
    "scrolled": true
   },
   "outputs": [],
   "source": [
    "praw_askreddit_df_copy['link_flair_text'].value_counts()"
   ]
  },
  {
   "cell_type": "markdown",
   "id": "oriented-sitting",
   "metadata": {},
   "source": [
    "[serious] before post text"
   ]
  },
  {
   "cell_type": "code",
   "execution_count": null,
   "id": "governmental-motorcycle",
   "metadata": {},
   "outputs": [],
   "source": [
    "# ציון כפונקציה של הטקסט. אפשר להשתמש בפיצ'ר הזה כבינארי במקרה הזה. \n",
    "# אם יש פלייר אחר בפוסט חדש אז צריך להוסיף פיצ'ר חדש במקרה הזה"
   ]
  },
  {
   "cell_type": "markdown",
   "id": "lesser-notice",
   "metadata": {},
   "source": [
    "### 13 - score"
   ]
  },
  {
   "cell_type": "code",
   "execution_count": null,
   "id": "raising-injury",
   "metadata": {},
   "outputs": [],
   "source": [
    "praw_askreddit_df_copy['score'].value_counts()"
   ]
  },
  {
   "cell_type": "code",
   "execution_count": null,
   "id": "jewish-daniel",
   "metadata": {},
   "outputs": [],
   "source": [
    "bins_list=[0,100,20000,40000]\n",
    "praw_askreddit_df_copy['score'].hist(bins=bins_list)"
   ]
  },
  {
   "cell_type": "markdown",
   "id": "dietary-peoples",
   "metadata": {},
   "source": [
    "### 14 - thumbnail"
   ]
  },
  {
   "cell_type": "code",
   "execution_count": null,
   "id": "demanding-bidder",
   "metadata": {},
   "outputs": [],
   "source": [
    "praw_askreddit_df_copy['thumbnail'].value_counts()"
   ]
  },
  {
   "cell_type": "code",
   "execution_count": null,
   "id": "korean-botswana",
   "metadata": {},
   "outputs": [],
   "source": [
    "# only nsfw and spoiler are relevant info.\n",
    "# is_spoiler, is_nsfw"
   ]
  },
  {
   "cell_type": "markdown",
   "id": "identical-identity",
   "metadata": {},
   "source": [
    "### 15 - edited"
   ]
  },
  {
   "cell_type": "code",
   "execution_count": null,
   "id": "electoral-coral",
   "metadata": {},
   "outputs": [],
   "source": [
    "praw_askreddit_df_copy['edited'].value_counts()"
   ]
  },
  {
   "cell_type": "code",
   "execution_count": null,
   "id": "bronze-nicaragua",
   "metadata": {},
   "outputs": [],
   "source": [
    "edited_df = praw_askreddit_df_copy[praw_askreddit_df_copy['edited'] != 'False']"
   ]
  },
  {
   "cell_type": "code",
   "execution_count": null,
   "id": "sharing-ambassador",
   "metadata": {},
   "outputs": [],
   "source": [
    "edited_df.boxplot(column=['score'])"
   ]
  },
  {
   "cell_type": "code",
   "execution_count": null,
   "id": "blessed-patent",
   "metadata": {},
   "outputs": [],
   "source": [
    "len(edited_df)"
   ]
  },
  {
   "cell_type": "code",
   "execution_count": null,
   "id": "civilian-newman",
   "metadata": {},
   "outputs": [],
   "source": [
    "# change values to True - edited, not_edited.\n",
    "# edited vs not edited scores\n",
    "# how long after posting were they edited"
   ]
  },
  {
   "cell_type": "code",
   "execution_count": null,
   "id": "interior-pension",
   "metadata": {},
   "outputs": [],
   "source": [
    "unedited_df = praw_askreddit_df_copy[praw_askreddit_df_copy['edited'] == 'False']"
   ]
  },
  {
   "cell_type": "code",
   "execution_count": null,
   "id": "ethical-richmond",
   "metadata": {},
   "outputs": [],
   "source": [
    "unedited_df.boxplot(column=['score'])"
   ]
  },
  {
   "cell_type": "markdown",
   "id": "sustained-surprise",
   "metadata": {},
   "source": [
    "### 16 - gildings"
   ]
  },
  {
   "cell_type": "code",
   "execution_count": null,
   "id": "annual-trademark",
   "metadata": {},
   "outputs": [],
   "source": [
    "praw_askreddit_df_copy['gildings'].value_counts()"
   ]
  },
  {
   "cell_type": "code",
   "execution_count": null,
   "id": "pursuant-choir",
   "metadata": {},
   "outputs": [],
   "source": [
    "# 3 columns: gid1, gid2, gid3 - just for statistics. not a feature for the model"
   ]
  },
  {
   "cell_type": "markdown",
   "id": "composite-calcium",
   "metadata": {},
   "source": [
    "### 17 - created"
   ]
  },
  {
   "cell_type": "code",
   "execution_count": null,
   "id": "norman-strengthening",
   "metadata": {},
   "outputs": [],
   "source": [
    "# date, hour of day, day of week, week in year"
   ]
  },
  {
   "cell_type": "markdown",
   "id": "subsequent-spread",
   "metadata": {},
   "source": [
    "### 18 - link_flair_type"
   ]
  },
  {
   "cell_type": "code",
   "execution_count": null,
   "id": "urban-breast",
   "metadata": {},
   "outputs": [],
   "source": [
    "praw_askreddit_df_copy['link_flair_type'].value_counts()"
   ]
  },
  {
   "cell_type": "code",
   "execution_count": 11,
   "id": "better-norman",
   "metadata": {},
   "outputs": [],
   "source": [
    "praw_askreddit_df_copy.drop('link_flair_type', axis=1, inplace=True)"
   ]
  },
  {
   "cell_type": "markdown",
   "id": "laughing-wales",
   "metadata": {},
   "source": [
    "### 19 - wls"
   ]
  },
  {
   "cell_type": "code",
   "execution_count": null,
   "id": "large-globe",
   "metadata": {},
   "outputs": [],
   "source": [
    "praw_askreddit_df_copy['wls'].value_counts() # win lose steak . don't know what this means yet "
   ]
  },
  {
   "cell_type": "markdown",
   "id": "alternate-driver",
   "metadata": {},
   "source": [
    "### 20 - removed_by_category"
   ]
  },
  {
   "cell_type": "code",
   "execution_count": null,
   "id": "downtown-significance",
   "metadata": {},
   "outputs": [],
   "source": [
    "praw_askreddit_df_copy['removed_by_category'].value_counts()"
   ]
  },
  {
   "cell_type": "code",
   "execution_count": null,
   "id": "atmospheric-adobe",
   "metadata": {},
   "outputs": [],
   "source": [
    "deleted_by_user_df = praw_askreddit_df_copy[praw_askreddit_df_copy['removed_by_category'] == 'deleted']"
   ]
  },
  {
   "cell_type": "markdown",
   "id": "vulnerable-monster",
   "metadata": {},
   "source": [
    " this post was deleted by the person who originally posted it."
   ]
  },
  {
   "cell_type": "code",
   "execution_count": null,
   "id": "brilliant-portsmouth",
   "metadata": {},
   "outputs": [],
   "source": [
    "deleted_df.loc[1999294,'url']"
   ]
  },
  {
   "cell_type": "code",
   "execution_count": null,
   "id": "aerial-courage",
   "metadata": {},
   "outputs": [],
   "source": [
    "removed_by_moderator_df = praw_askreddit_df_copy[praw_askreddit_df_copy['removed_by_category'] == 'moderator']"
   ]
  },
  {
   "cell_type": "markdown",
   "id": "liquid-family",
   "metadata": {},
   "source": [
    "Sorry, this post has been removed by the moderators of r/AskReddit.\n",
    "Moderators remove posts from feeds for a variety of reasons, including keeping communities safe, civil, and true to their purpose."
   ]
  },
  {
   "cell_type": "code",
   "execution_count": null,
   "id": "quantitative-therapist",
   "metadata": {},
   "outputs": [],
   "source": [
    "removed_by_moderator_df.loc[1999283,'url']"
   ]
  },
  {
   "cell_type": "code",
   "execution_count": null,
   "id": "selective-sally",
   "metadata": {},
   "outputs": [],
   "source": [
    "removed_by_moderator_df['score'].value_counts()"
   ]
  },
  {
   "cell_type": "code",
   "execution_count": null,
   "id": "happy-tractor",
   "metadata": {},
   "outputs": [],
   "source": [
    "removed_by_reddit_df = praw_askreddit_df_copy[praw_askreddit_df_copy['removed_by_category'] == 'reddit']"
   ]
  },
  {
   "cell_type": "markdown",
   "id": "ready-jackson",
   "metadata": {},
   "source": [
    "Sorry, this post was removed by Reddit's spam filters.\n",
    "Reddit's automated bots frequently filter posts it thinks might be spam."
   ]
  },
  {
   "cell_type": "code",
   "execution_count": null,
   "id": "guided-collaboration",
   "metadata": {},
   "outputs": [],
   "source": [
    "removed_by_reddit_df.loc[18,'url']"
   ]
  },
  {
   "cell_type": "code",
   "execution_count": null,
   "id": "continental-marine",
   "metadata": {},
   "outputs": [],
   "source": [
    "len(removed_by_reddit_df[removed_by_reddit_df['score']>100])"
   ]
  },
  {
   "cell_type": "code",
   "execution_count": null,
   "id": "toxic-relationship",
   "metadata": {},
   "outputs": [],
   "source": [
    "removed_by_automod_df = praw_askreddit_df_copy[praw_askreddit_df_copy['removed_by_category'] == 'automod_filtered']"
   ]
  },
  {
   "cell_type": "code",
   "execution_count": null,
   "id": "hollywood-nomination",
   "metadata": {},
   "outputs": [],
   "source": [
    "removed_by_automod_df['score'].value_counts()"
   ]
  },
  {
   "cell_type": "markdown",
   "id": "twelve-manchester",
   "metadata": {},
   "source": [
    "Post is awaiting moderator approval.\n",
    "This post is currently awaiting approval by the moderators of r/AskReddit before it can appear in the subreddit."
   ]
  },
  {
   "cell_type": "code",
   "execution_count": null,
   "id": "consolidated-basket",
   "metadata": {},
   "outputs": [],
   "source": [
    "removed_by_anti_evil_ops_df = praw_askreddit_df_copy[praw_askreddit_df_copy['removed_by_category'] == 'anti_evil_ops']"
   ]
  },
  {
   "cell_type": "code",
   "execution_count": null,
   "id": "piano-rider",
   "metadata": {},
   "outputs": [],
   "source": [
    "removed_by_anti_evil_ops_df['score']"
   ]
  },
  {
   "cell_type": "markdown",
   "id": "wireless-passing",
   "metadata": {},
   "source": [
    "Sorry, this post was removed by Reddit's Anti-Evil Operations team.\n",
    "To keep Reddit and its communities safe, the Anti-Evil Operations team removes posts that violate Reddit's User Agreement and Content Policy ."
   ]
  },
  {
   "cell_type": "markdown",
   "id": "lovely-estonia",
   "metadata": {},
   "source": [
    "These post are pretty evil"
   ]
  },
  {
   "cell_type": "code",
   "execution_count": null,
   "id": "expensive-decision",
   "metadata": {},
   "outputs": [],
   "source": [
    "content_takedown_df = praw_askreddit_df_copy[praw_askreddit_df_copy['removed_by_category'] == 'content_takedown']"
   ]
  },
  {
   "cell_type": "code",
   "execution_count": null,
   "id": "identified-cigarette",
   "metadata": {},
   "outputs": [],
   "source": [
    "content_takedown_df['score']"
   ]
  },
  {
   "cell_type": "code",
   "execution_count": null,
   "id": "three-converter",
   "metadata": {},
   "outputs": [],
   "source": [
    "content_takedown_df['url'].tolist()"
   ]
  },
  {
   "cell_type": "markdown",
   "id": "acknowledged-jacket",
   "metadata": {},
   "source": [
    "Sorry, this post was removed by Reddit's Legal Operations team.\n",
    "This content was removed for a violation of Reddit's Content Policy ."
   ]
  },
  {
   "cell_type": "markdown",
   "id": "whole-photographer",
   "metadata": {},
   "source": [
    "* deleted by user - keep\n",
    "* deleted by moderator - keep. There are many high score posts in this category\n",
    "* detected by reddit as spam - keep. Has many false positives and hight score posts in this category\n",
    "* automod_filtered Post is awaiting moderator approval - drop\n",
    "* anti_evil_ops - drop\n",
    "* content_takedown - drop\n",
    "- most of them got very low scores so will be filtered out anyway - score > 50"
   ]
  },
  {
   "cell_type": "markdown",
   "id": "polar-accounting",
   "metadata": {},
   "source": [
    "### 21 - allow_live_comments"
   ]
  },
  {
   "cell_type": "code",
   "execution_count": null,
   "id": "advisory-steam",
   "metadata": {},
   "outputs": [],
   "source": [
    "praw_askreddit_df_copy['allow_live_comments'].value_counts()"
   ]
  },
  {
   "cell_type": "markdown",
   "id": "married-latino",
   "metadata": {},
   "source": [
    "live comments in Reddit app. Deleting this column"
   ]
  },
  {
   "cell_type": "code",
   "execution_count": 12,
   "id": "aggregate-robinson",
   "metadata": {},
   "outputs": [],
   "source": [
    "praw_askreddit_df_copy.drop('allow_live_comments', axis=1, inplace=True)"
   ]
  },
  {
   "cell_type": "markdown",
   "id": "junior-morocco",
   "metadata": {},
   "source": [
    "### 22 - selftext_html"
   ]
  },
  {
   "cell_type": "code",
   "execution_count": null,
   "id": "informed-chinese",
   "metadata": {},
   "outputs": [],
   "source": [
    "praw_askreddit_df_copy['selftext_html'].value_counts()"
   ]
  },
  {
   "cell_type": "code",
   "execution_count": 13,
   "id": "recovered-specialist",
   "metadata": {},
   "outputs": [],
   "source": [
    "praw_askreddit_df_copy.drop('selftext_html', axis=1, inplace=True)"
   ]
  },
  {
   "cell_type": "markdown",
   "id": "southwest-acting",
   "metadata": {},
   "source": [
    "### 23 - suggested_sort"
   ]
  },
  {
   "cell_type": "code",
   "execution_count": null,
   "id": "adult-valuable",
   "metadata": {},
   "outputs": [],
   "source": [
    "praw_askreddit_df_copy['suggested_sort'].value_counts()"
   ]
  },
  {
   "cell_type": "code",
   "execution_count": 14,
   "id": "banner-conversion",
   "metadata": {},
   "outputs": [],
   "source": [
    "praw_askreddit_df_copy.drop('suggested_sort', axis=1, inplace=True)"
   ]
  },
  {
   "cell_type": "markdown",
   "id": "miniature-aerospace",
   "metadata": {},
   "source": [
    "### 24 - archived"
   ]
  },
  {
   "cell_type": "code",
   "execution_count": null,
   "id": "green-confidence",
   "metadata": {},
   "outputs": [],
   "source": [
    "praw_askreddit_df_copy['archived'].value_counts()"
   ]
  },
  {
   "cell_type": "code",
   "execution_count": null,
   "id": "empirical-nursery",
   "metadata": {},
   "outputs": [],
   "source": [
    "archived_df = praw_askreddit_df_copy[praw_askreddit_df_copy['archived'] == True]"
   ]
  },
  {
   "cell_type": "code",
   "execution_count": null,
   "id": "saving-target",
   "metadata": {},
   "outputs": [],
   "source": [
    "import datetime as dt\n",
    "\n",
    "start_date = dt.datetime.fromtimestamp(archived_df['created_utc'].min())\n",
    "end_date = dt.datetime.fromtimestamp(archived_df['created_utc'].max())\n",
    "\n",
    "print(str(start_date) + \" - \" + str(end_date))"
   ]
  },
  {
   "cell_type": "markdown",
   "id": "apparent-plenty",
   "metadata": {},
   "source": [
    "Posts are archived after 180 days"
   ]
  },
  {
   "cell_type": "markdown",
   "id": "comic-novelty",
   "metadata": {},
   "source": [
    "### 25 - no_follow"
   ]
  },
  {
   "cell_type": "markdown",
   "id": "approved-silver",
   "metadata": {},
   "source": [
    "### 26 -  is_crosspostable"
   ]
  },
  {
   "cell_type": "markdown",
   "id": "expanded-huntington",
   "metadata": {},
   "source": [
    "### 27 - over_18"
   ]
  },
  {
   "cell_type": "code",
   "execution_count": null,
   "id": "interstate-nightmare",
   "metadata": {},
   "outputs": [],
   "source": [
    "praw_askreddit_df_copy['over_18'].value_counts()"
   ]
  },
  {
   "cell_type": "code",
   "execution_count": null,
   "id": "baking-presence",
   "metadata": {},
   "outputs": [],
   "source": [
    "over_18_df = praw_askreddit_df_copy[praw_askreddit_df_copy['over_18'] == True]"
   ]
  },
  {
   "cell_type": "code",
   "execution_count": null,
   "id": "developed-rainbow",
   "metadata": {},
   "outputs": [],
   "source": [
    "over_18_df['thumbnail'].value_counts() "
   ]
  },
  {
   "cell_type": "markdown",
   "id": "instructional-boulder",
   "metadata": {},
   "source": [
    "All posts with thumbnail nsfw are also 'over_18'"
   ]
  },
  {
   "cell_type": "code",
   "execution_count": null,
   "id": "downtown-undergraduate",
   "metadata": {},
   "outputs": [],
   "source": [
    "nsfw_thumbnail = over_18_df[over_18_df['thumbnail'] == 'nsfw']"
   ]
  },
  {
   "cell_type": "code",
   "execution_count": null,
   "id": "radical-pilot",
   "metadata": {},
   "outputs": [],
   "source": [
    "nsfw_thumbnail['removed_by_category'].value_counts()"
   ]
  },
  {
   "cell_type": "code",
   "execution_count": null,
   "id": "irish-abortion",
   "metadata": {},
   "outputs": [],
   "source": [
    "default_thumbnail = over_18_df[over_18_df['thumbnail'] == 'default']"
   ]
  },
  {
   "cell_type": "code",
   "execution_count": null,
   "id": "manufactured-audit",
   "metadata": {},
   "outputs": [],
   "source": [
    "default_thumbnail['removed_by_category'].value_counts()"
   ]
  },
  {
   "cell_type": "code",
   "execution_count": null,
   "id": "associate-logistics",
   "metadata": {},
   "outputs": [],
   "source": [
    "len(default_thumbnail[default_thumbnail['score'] > 50])"
   ]
  },
  {
   "cell_type": "code",
   "execution_count": null,
   "id": "corrected-tragedy",
   "metadata": {},
   "outputs": [],
   "source": [
    "over_18_not_removed = over_18_df[over_18_df['removed_by_category'].isnull()]"
   ]
  },
  {
   "cell_type": "code",
   "execution_count": null,
   "id": "later-balloon",
   "metadata": {},
   "outputs": [],
   "source": [
    "over_18_not_removed['thumbnail'].value_counts()"
   ]
  },
  {
   "cell_type": "markdown",
   "id": "north-refund",
   "metadata": {},
   "source": [
    "nsfw posts weren't removed at all."
   ]
  },
  {
   "cell_type": "code",
   "execution_count": null,
   "id": "headed-pierre",
   "metadata": {},
   "outputs": [],
   "source": [
    "over_18_not_removed[over_18_not_removed['thumbnail'] == 'default']['url'].tolist()"
   ]
  },
  {
   "cell_type": "markdown",
   "id": "intermediate-spanking",
   "metadata": {},
   "source": [
    "Will use 'over_18' as a feature"
   ]
  },
  {
   "cell_type": "markdown",
   "id": "expensive-complexity",
   "metadata": {},
   "source": [
    "### 28 - all_awardings"
   ]
  },
  {
   "cell_type": "markdown",
   "id": "greenhouse-buyer",
   "metadata": {},
   "source": [
    "list of awards."
   ]
  },
  {
   "cell_type": "markdown",
   "id": "pleasant-folks",
   "metadata": {},
   "source": [
    "### 29 -  can_gild"
   ]
  },
  {
   "cell_type": "code",
   "execution_count": null,
   "id": "narrative-briefs",
   "metadata": {},
   "outputs": [],
   "source": [
    "praw_askreddit_df_copy['can_gild'].value_counts()"
   ]
  },
  {
   "cell_type": "markdown",
   "id": "bronze-routine",
   "metadata": {},
   "source": [
    "### 30 - spoiler"
   ]
  },
  {
   "cell_type": "code",
   "execution_count": null,
   "id": "patent-repository",
   "metadata": {},
   "outputs": [],
   "source": [
    "praw_askreddit_df_copy['spoiler'].value_counts()"
   ]
  },
  {
   "cell_type": "code",
   "execution_count": null,
   "id": "motivated-processor",
   "metadata": {},
   "outputs": [],
   "source": [
    "spoilers_df = praw_askreddit_df_copy[praw_askreddit_df_copy['spoiler'] == True]"
   ]
  },
  {
   "cell_type": "code",
   "execution_count": null,
   "id": "nasty-missouri",
   "metadata": {},
   "outputs": [],
   "source": [
    "spoilers_df['thumbnail'].value_counts()"
   ]
  },
  {
   "cell_type": "code",
   "execution_count": null,
   "id": "prerequisite-server",
   "metadata": {},
   "outputs": [],
   "source": [
    "nsfw_spoilers_df = spoilers_df[spoilers_df['thumbnail'] == 'nsfw']"
   ]
  },
  {
   "cell_type": "code",
   "execution_count": null,
   "id": "unique-consumer",
   "metadata": {},
   "outputs": [],
   "source": [
    "nsfw_spoilers_df['over_18'].value_counts()"
   ]
  },
  {
   "cell_type": "markdown",
   "id": "accomplished-truth",
   "metadata": {},
   "source": [
    "These posts have both 'nsfw' and 'spoiler' thumbnails"
   ]
  },
  {
   "cell_type": "code",
   "execution_count": null,
   "id": "conventional-contrary",
   "metadata": {},
   "outputs": [],
   "source": [
    "only_spoilers_df = spoilers_df[spoilers_df['thumbnail'] == 'spoiler']"
   ]
  },
  {
   "cell_type": "code",
   "execution_count": null,
   "id": "chronic-hampshire",
   "metadata": {},
   "outputs": [],
   "source": [
    "only_spoilers_df['over_18'].value_counts()"
   ]
  },
  {
   "cell_type": "markdown",
   "id": "contemporary-greenhouse",
   "metadata": {},
   "source": [
    "These posts have just the 'spoiler' thumbnail"
   ]
  },
  {
   "cell_type": "code",
   "execution_count": null,
   "id": "dying-austin",
   "metadata": {},
   "outputs": [],
   "source": [
    "default_spoilers_df = spoilers_df[spoilers_df['thumbnail'] == 'default']"
   ]
  },
  {
   "cell_type": "code",
   "execution_count": null,
   "id": "tired-narrative",
   "metadata": {},
   "outputs": [],
   "source": [
    "default_spoilers_df['over_18'].value_counts()"
   ]
  },
  {
   "cell_type": "code",
   "execution_count": null,
   "id": "employed-latter",
   "metadata": {},
   "outputs": [],
   "source": [
    "default_spoilers_df"
   ]
  },
  {
   "cell_type": "code",
   "execution_count": null,
   "id": "rotary-flooring",
   "metadata": {},
   "outputs": [],
   "source": [
    "default_spoilers_df['url'].tolist()"
   ]
  },
  {
   "cell_type": "code",
   "execution_count": null,
   "id": "moving-macro",
   "metadata": {},
   "outputs": [],
   "source": [
    "spoilers_df['removed_by_category'].value_counts()"
   ]
  },
  {
   "cell_type": "code",
   "execution_count": null,
   "id": "satellite-colonial",
   "metadata": {},
   "outputs": [],
   "source": [
    "spoilers_df['score'].describe()"
   ]
  },
  {
   "cell_type": "markdown",
   "id": "first-warren",
   "metadata": {},
   "source": [
    "all spoilers have 'spoiler' thumbnail. will be using this feature"
   ]
  },
  {
   "cell_type": "markdown",
   "id": "brave-ideal",
   "metadata": {},
   "source": [
    "### 31 - locked"
   ]
  },
  {
   "cell_type": "code",
   "execution_count": null,
   "id": "difficult-wayne",
   "metadata": {},
   "outputs": [],
   "source": [
    "praw_askreddit_df_copy['locked'].value_counts()"
   ]
  },
  {
   "cell_type": "code",
   "execution_count": null,
   "id": "committed-activity",
   "metadata": {},
   "outputs": [],
   "source": [
    "praw_askreddit_df_copy[praw_askreddit_df_copy['locked'] == True]['score']"
   ]
  },
  {
   "cell_type": "markdown",
   "id": "robust-recycling",
   "metadata": {},
   "source": [
    "these will be filtered out"
   ]
  },
  {
   "cell_type": "markdown",
   "id": "confident-spotlight",
   "metadata": {},
   "source": [
    "### 32 - treatment_tags"
   ]
  },
  {
   "cell_type": "code",
   "execution_count": null,
   "id": "general-carbon",
   "metadata": {},
   "outputs": [],
   "source": [
    "praw_askreddit_df_copy['treatment_tags'].value_counts()"
   ]
  },
  {
   "cell_type": "code",
   "execution_count": null,
   "id": "opening-recorder",
   "metadata": {},
   "outputs": [],
   "source": [
    "praw_askreddit_df_copy[praw_askreddit_df_copy['treatment_tags'] != '[]']['url'].tolist()"
   ]
  },
  {
   "cell_type": "markdown",
   "id": "durable-million",
   "metadata": {},
   "source": [
    "deleting this column"
   ]
  },
  {
   "cell_type": "code",
   "execution_count": 15,
   "id": "expanded-berry",
   "metadata": {},
   "outputs": [],
   "source": [
    "praw_askreddit_df_copy.drop('treatment_tags', axis=1, inplace=True)"
   ]
  },
  {
   "cell_type": "markdown",
   "id": "educational-drinking",
   "metadata": {},
   "source": [
    "### 33 - distinguished"
   ]
  },
  {
   "cell_type": "code",
   "execution_count": null,
   "id": "present-characterization",
   "metadata": {},
   "outputs": [],
   "source": [
    "praw_askreddit_df_copy['distinguished'].value_counts()"
   ]
  },
  {
   "cell_type": "code",
   "execution_count": 16,
   "id": "effective-douglas",
   "metadata": {},
   "outputs": [],
   "source": [
    "praw_askreddit_df_copy.drop('distinguished', axis=1, inplace=True)"
   ]
  },
  {
   "cell_type": "markdown",
   "id": "unable-foster",
   "metadata": {},
   "source": [
    "### 34 - removal_reason"
   ]
  },
  {
   "cell_type": "code",
   "execution_count": null,
   "id": "pacific-working",
   "metadata": {},
   "outputs": [],
   "source": [
    "praw_askreddit_df_copy['removal_reason'].value_counts()"
   ]
  },
  {
   "cell_type": "code",
   "execution_count": 17,
   "id": "disciplinary-villa",
   "metadata": {},
   "outputs": [],
   "source": [
    "praw_askreddit_df_copy.drop('removal_reason', axis=1, inplace=True)"
   ]
  },
  {
   "cell_type": "markdown",
   "id": "clean-naples",
   "metadata": {},
   "source": [
    "### 35 - link_flair_background_color"
   ]
  },
  {
   "cell_type": "code",
   "execution_count": null,
   "id": "concrete-cotton",
   "metadata": {},
   "outputs": [],
   "source": [
    "praw_askreddit_df_copy['link_flair_background_color'].value_counts()"
   ]
  },
  {
   "cell_type": "markdown",
   "id": "twelve-pearl",
   "metadata": {},
   "source": [
    "Serious thumbnail posts are green"
   ]
  },
  {
   "cell_type": "code",
   "execution_count": 18,
   "id": "hybrid-armenia",
   "metadata": {},
   "outputs": [],
   "source": [
    "praw_askreddit_df_copy.drop('link_flair_background_color', axis=1, inplace=True)"
   ]
  },
  {
   "cell_type": "markdown",
   "id": "valid-florence",
   "metadata": {},
   "source": [
    "### 36 - id"
   ]
  },
  {
   "cell_type": "markdown",
   "id": "primary-cancellation",
   "metadata": {},
   "source": [
    "### 37 - is_robot_indexable"
   ]
  },
  {
   "cell_type": "code",
   "execution_count": null,
   "id": "attended-words",
   "metadata": {},
   "outputs": [],
   "source": [
    "praw_askreddit_df_copy['is_robot_indexable'].value_counts()"
   ]
  },
  {
   "cell_type": "code",
   "execution_count": null,
   "id": "first-dispatch",
   "metadata": {},
   "outputs": [],
   "source": [
    "unindexable_df = praw_askreddit_df_copy[praw_askreddit_df_copy['is_robot_indexable'] == False]"
   ]
  },
  {
   "cell_type": "code",
   "execution_count": null,
   "id": "dietary-estate",
   "metadata": {},
   "outputs": [],
   "source": [
    "unindexable_df['score'].value_counts()"
   ]
  },
  {
   "cell_type": "code",
   "execution_count": null,
   "id": "choice-depth",
   "metadata": {},
   "outputs": [],
   "source": [
    "# group by - box plot score"
   ]
  },
  {
   "cell_type": "markdown",
   "id": "heated-portugal",
   "metadata": {},
   "source": [
    "### 38 - author"
   ]
  },
  {
   "cell_type": "code",
   "execution_count": null,
   "id": "everyday-restriction",
   "metadata": {},
   "outputs": [],
   "source": [
    "author_counts = praw_askreddit_df_copy['author'].value_counts()"
   ]
  },
  {
   "cell_type": "code",
   "execution_count": null,
   "id": "popular-study",
   "metadata": {},
   "outputs": [],
   "source": [
    "len(author_counts)"
   ]
  },
  {
   "cell_type": "code",
   "execution_count": null,
   "id": "involved-convenience",
   "metadata": {},
   "outputs": [],
   "source": [
    "author_counts.describe()"
   ]
  },
  {
   "cell_type": "code",
   "execution_count": null,
   "id": "backed-surveillance",
   "metadata": {},
   "outputs": [],
   "source": [
    "author_counts.hist(bins=[0,10,20,30,40,50,60,70,80,90,100,200,300,400,500,1000,3000])"
   ]
  },
  {
   "cell_type": "code",
   "execution_count": null,
   "id": "australian-repeat",
   "metadata": {},
   "outputs": [],
   "source": [
    "# what is the frequency of an authors posts"
   ]
  },
  {
   "cell_type": "markdown",
   "id": "fluid-charleston",
   "metadata": {},
   "source": [
    "### 39 - num_comments"
   ]
  },
  {
   "cell_type": "markdown",
   "id": "likely-wellington",
   "metadata": {},
   "source": [
    "### 40 - send_replies"
   ]
  },
  {
   "cell_type": "markdown",
   "id": "exclusive-verification",
   "metadata": {},
   "source": [
    "### 41 - whitelist_status"
   ]
  },
  {
   "cell_type": "code",
   "execution_count": null,
   "id": "studied-replication",
   "metadata": {},
   "outputs": [],
   "source": [
    "praw_askreddit_df_copy['whitelist_status'].value_counts()"
   ]
  },
  {
   "cell_type": "code",
   "execution_count": null,
   "id": "bacterial-vancouver",
   "metadata": {},
   "outputs": [],
   "source": [
    "promo_adult_nsfw_df = praw_askreddit_df_copy[praw_askreddit_df_copy['whitelist_status'] == 'promo_adult_nsfw']"
   ]
  },
  {
   "cell_type": "code",
   "execution_count": null,
   "id": "sonic-investigator",
   "metadata": {},
   "outputs": [],
   "source": [
    "promo_adult_nsfw_df['thumbnail'].value_counts()"
   ]
  },
  {
   "cell_type": "code",
   "execution_count": null,
   "id": "downtown-sound",
   "metadata": {},
   "outputs": [],
   "source": [
    "promo_adult_nsfw_df['over_18'].value_counts()"
   ]
  },
  {
   "cell_type": "markdown",
   "id": "charged-livestock",
   "metadata": {},
   "source": [
    "all 'over_18' posts are also 'promo_adult_nsfw'"
   ]
  },
  {
   "cell_type": "code",
   "execution_count": null,
   "id": "hawaiian-southwest",
   "metadata": {},
   "outputs": [],
   "source": [
    "all_ads_df = praw_askreddit_df_copy[praw_askreddit_df_copy['whitelist_status'] == 'all_ads']"
   ]
  },
  {
   "cell_type": "code",
   "execution_count": null,
   "id": "hollywood-layout",
   "metadata": {},
   "outputs": [],
   "source": [
    "all_ads_df['thumbnail'].value_counts()"
   ]
  },
  {
   "cell_type": "markdown",
   "id": "terminal-marks",
   "metadata": {},
   "source": [
    "This column does not add any info. "
   ]
  },
  {
   "cell_type": "code",
   "execution_count": 19,
   "id": "upper-austin",
   "metadata": {},
   "outputs": [],
   "source": [
    "praw_askreddit_df_copy.drop('whitelist_status', axis=1, inplace=True)"
   ]
  },
  {
   "cell_type": "markdown",
   "id": "simple-television",
   "metadata": {},
   "source": [
    "### 42 - author_flair_text_color"
   ]
  },
  {
   "cell_type": "code",
   "execution_count": null,
   "id": "strategic-placement",
   "metadata": {},
   "outputs": [],
   "source": [
    "praw_askreddit_df_copy['author_flair_text_color'].value_counts()"
   ]
  },
  {
   "cell_type": "code",
   "execution_count": 20,
   "id": "fifty-ground",
   "metadata": {},
   "outputs": [],
   "source": [
    "praw_askreddit_df_copy.drop(['author_flair_text_color'], axis=1, inplace=True)"
   ]
  },
  {
   "cell_type": "markdown",
   "id": "executed-treasurer",
   "metadata": {},
   "source": [
    "### 43 - permalink"
   ]
  },
  {
   "cell_type": "code",
   "execution_count": null,
   "id": "baking-quantum",
   "metadata": {},
   "outputs": [],
   "source": [
    "praw_askreddit_df_copy.loc[0,'permalink']"
   ]
  },
  {
   "cell_type": "markdown",
   "id": "synthetic-count",
   "metadata": {},
   "source": [
    "link without the https://www.reddit.com/ part"
   ]
  },
  {
   "cell_type": "markdown",
   "id": "dominican-found",
   "metadata": {},
   "source": [
    "### 44 - stickied"
   ]
  },
  {
   "cell_type": "code",
   "execution_count": null,
   "id": "missing-western",
   "metadata": {},
   "outputs": [],
   "source": [
    "praw_askreddit_df_copy['stickied'].value_counts()"
   ]
  },
  {
   "cell_type": "code",
   "execution_count": null,
   "id": "future-cause",
   "metadata": {},
   "outputs": [],
   "source": [
    "len(praw_askreddit_df_copy)"
   ]
  },
  {
   "cell_type": "code",
   "execution_count": 21,
   "id": "separate-prayer",
   "metadata": {},
   "outputs": [],
   "source": [
    "praw_askreddit_df_copy.drop(['stickied'], axis=1, inplace=True)"
   ]
  },
  {
   "cell_type": "markdown",
   "id": "capital-peace",
   "metadata": {},
   "source": [
    "### 45 - url"
   ]
  },
  {
   "cell_type": "markdown",
   "id": "legislative-crisis",
   "metadata": {},
   "source": [
    "### 46 - subreddit_subscribers"
   ]
  },
  {
   "cell_type": "code",
   "execution_count": null,
   "id": "informal-assurance",
   "metadata": {},
   "outputs": [],
   "source": [
    "print(\"min \"+ str(praw_askreddit_df_copy['subreddit_subscribers'].min()))\n",
    "print(\"max \" + str(praw_askreddit_df_copy['subreddit_subscribers'].max()))\n",
    "print(\"mean \" +str(praw_askreddit_df_copy['subreddit_subscribers'].mean()))"
   ]
  },
  {
   "cell_type": "code",
   "execution_count": null,
   "id": "elegant-fusion",
   "metadata": {},
   "outputs": [],
   "source": [
    "sorted_by_created_utc_df = praw_askreddit_df_copy.sort_values(by='created_utc', axis=0, ascending=True)"
   ]
  },
  {
   "cell_type": "code",
   "execution_count": null,
   "id": "multiple-press",
   "metadata": {},
   "outputs": [],
   "source": [
    "subreddit_subscribers = sorted_by_created_utc_df['subreddit_subscribers'].apply(lambda x: x-31000000)"
   ]
  },
  {
   "cell_type": "code",
   "execution_count": null,
   "id": "ceramic-limitation",
   "metadata": {},
   "outputs": [],
   "source": [
    "len(subreddit_subscribers)"
   ]
  },
  {
   "cell_type": "code",
   "execution_count": null,
   "id": "linear-jesus",
   "metadata": {},
   "outputs": [],
   "source": [
    "plt.scatter(range(1999293), subreddit_subscribers)"
   ]
  },
  {
   "cell_type": "code",
   "execution_count": null,
   "id": "coated-pride",
   "metadata": {},
   "outputs": [],
   "source": [
    "len(praw_askreddit_df_copy['created'].unique())"
   ]
  },
  {
   "cell_type": "markdown",
   "id": "several-insider",
   "metadata": {},
   "source": [
    "### 47 - created_utc"
   ]
  },
  {
   "cell_type": "code",
   "execution_count": null,
   "id": "celtic-december",
   "metadata": {},
   "outputs": [],
   "source": [
    "# date, hour of day, day of week, week in year"
   ]
  },
  {
   "cell_type": "markdown",
   "id": "fatal-danger",
   "metadata": {},
   "source": [
    "### 48 - num_crossposts"
   ]
  },
  {
   "cell_type": "markdown",
   "id": "disciplinary-macro",
   "metadata": {},
   "source": [
    "### 49 - author_fullname"
   ]
  },
  {
   "cell_type": "markdown",
   "id": "african-syndicate",
   "metadata": {},
   "source": [
    "author id"
   ]
  },
  {
   "cell_type": "markdown",
   "id": "fatal-salon",
   "metadata": {},
   "source": [
    "### 50 - author_premium"
   ]
  },
  {
   "cell_type": "markdown",
   "id": "accepting-beads",
   "metadata": {},
   "source": [
    "### 51 - author_flair_richtext"
   ]
  },
  {
   "cell_type": "code",
   "execution_count": null,
   "id": "fancy-press",
   "metadata": {},
   "outputs": [],
   "source": [
    "praw_askreddit_df_copy['author_flair_richtext'].value_counts()"
   ]
  },
  {
   "cell_type": "code",
   "execution_count": 22,
   "id": "intimate-alexandria",
   "metadata": {},
   "outputs": [],
   "source": [
    "praw_askreddit_df_copy.drop('author_flair_richtext',axis=1,inplace=True)"
   ]
  },
  {
   "cell_type": "markdown",
   "id": "continental-virtue",
   "metadata": {},
   "source": [
    "### 52 - author_flair_type"
   ]
  },
  {
   "cell_type": "code",
   "execution_count": null,
   "id": "cleared-attendance",
   "metadata": {},
   "outputs": [],
   "source": [
    "praw_askreddit_df_copy['author_flair_type'].value_counts()"
   ]
  },
  {
   "cell_type": "code",
   "execution_count": 23,
   "id": "instructional-hygiene",
   "metadata": {},
   "outputs": [],
   "source": [
    "praw_askreddit_df_copy.drop('author_flair_type',axis=1,inplace=True)"
   ]
  },
  {
   "cell_type": "markdown",
   "id": "agricultural-commonwealth",
   "metadata": {},
   "source": [
    "### 53 - author_patreon_flair"
   ]
  },
  {
   "cell_type": "code",
   "execution_count": null,
   "id": "instant-magazine",
   "metadata": {},
   "outputs": [],
   "source": [
    "praw_askreddit_df_copy['author_patreon_flair'].value_counts()"
   ]
  },
  {
   "cell_type": "code",
   "execution_count": 24,
   "id": "statistical-summit",
   "metadata": {},
   "outputs": [],
   "source": [
    "praw_askreddit_df_copy.drop('author_patreon_flair',axis=1,inplace=True)"
   ]
  },
  {
   "cell_type": "markdown",
   "id": "permanent-criterion",
   "metadata": {},
   "source": [
    "### 54 - link_flair_template_id"
   ]
  },
  {
   "cell_type": "code",
   "execution_count": null,
   "id": "concerned-thunder",
   "metadata": {},
   "outputs": [],
   "source": [
    "praw_askreddit_df_copy['link_flair_template_id'].value_counts()"
   ]
  },
  {
   "cell_type": "code",
   "execution_count": 25,
   "id": "furnished-numbers",
   "metadata": {},
   "outputs": [],
   "source": [
    "praw_askreddit_df_copy.drop('link_flair_template_id',axis=1,inplace=True)"
   ]
  },
  {
   "cell_type": "markdown",
   "id": "contained-intelligence",
   "metadata": {},
   "source": [
    "### 55 - author_cakeday"
   ]
  },
  {
   "cell_type": "code",
   "execution_count": null,
   "id": "bacterial-dallas",
   "metadata": {},
   "outputs": [],
   "source": [
    "praw_askreddit_df_copy['author_cakeday'].value_counts()"
   ]
  },
  {
   "cell_type": "markdown",
   "id": "irish-desperate",
   "metadata": {},
   "source": [
    "is submission posten on author cake day - the day someone created a reddit account "
   ]
  },
  {
   "cell_type": "markdown",
   "id": "minute-prisoner",
   "metadata": {},
   "source": [
    "### 56 - post_hint"
   ]
  },
  {
   "cell_type": "code",
   "execution_count": null,
   "id": "attended-inventory",
   "metadata": {},
   "outputs": [],
   "source": [
    "praw_askreddit_df_copy['post_hint'].value_counts()"
   ]
  },
  {
   "cell_type": "code",
   "execution_count": 26,
   "id": "thrown-kinase",
   "metadata": {},
   "outputs": [],
   "source": [
    "praw_askreddit_df_copy.drop('post_hint',axis=1,inplace=True)"
   ]
  },
  {
   "cell_type": "markdown",
   "id": "nutritional-surgery",
   "metadata": {},
   "source": [
    "### 57 - preview"
   ]
  },
  {
   "cell_type": "code",
   "execution_count": null,
   "id": "equal-fiber",
   "metadata": {},
   "outputs": [],
   "source": [
    "praw_askreddit_df_copy[praw_askreddit_df_copy['preview'].notnull()]['preview'].tolist()"
   ]
  },
  {
   "cell_type": "code",
   "execution_count": 27,
   "id": "circular-violence",
   "metadata": {},
   "outputs": [],
   "source": [
    "praw_askreddit_df_copy.drop('preview',axis=1,inplace=True)"
   ]
  },
  {
   "cell_type": "code",
   "execution_count": null,
   "id": "defined-specialist",
   "metadata": {},
   "outputs": [],
   "source": [
    "praw_askreddit_df_copy.info()"
   ]
  },
  {
   "cell_type": "code",
   "execution_count": 28,
   "id": "demonstrated-korean",
   "metadata": {},
   "outputs": [],
   "source": [
    "clean_file_path = Path(\"C:/Users/iravi/Data Projects/Reddit/reddit_data_project/data/praw_askreddit_clean_data.csv\")\n",
    "praw_askreddit_df_copy.to_csv(clean_file_path)"
   ]
  },
  {
   "cell_type": "markdown",
   "id": "overhead-slovenia",
   "metadata": {},
   "source": [
    "----------------------------------------------------------------------------------------------------------------------------"
   ]
  },
  {
   "cell_type": "markdown",
   "id": "moral-concept",
   "metadata": {},
   "source": [
    "## choose threshold"
   ]
  },
  {
   "cell_type": "code",
   "execution_count": 29,
   "id": "chicken-clear",
   "metadata": {},
   "outputs": [],
   "source": [
    "praw_askreddit_score_50_df = praw_askreddit_df_copy[praw_askreddit_df_copy['score'] > 49]"
   ]
  },
  {
   "cell_type": "code",
   "execution_count": null,
   "id": "imported-birmingham",
   "metadata": {},
   "outputs": [],
   "source": [
    "len(praw_askreddit_score_50_df)"
   ]
  },
  {
   "cell_type": "code",
   "execution_count": null,
   "id": "compact-minute",
   "metadata": {},
   "outputs": [],
   "source": [
    "praw_askreddit_score_50_df['score'].hist()"
   ]
  },
  {
   "cell_type": "markdown",
   "id": "responsible-input",
   "metadata": {},
   "source": [
    "## Feature engineering"
   ]
  },
  {
   "cell_type": "code",
   "execution_count": 30,
   "id": "freelance-holmes",
   "metadata": {},
   "outputs": [],
   "source": [
    "title_lenght = praw_askreddit_score_50_df['title'].apply(lambda x: len(x.split())).rename('title_lenght')"
   ]
  },
  {
   "cell_type": "code",
   "execution_count": null,
   "id": "headed-purchase",
   "metadata": {},
   "outputs": [],
   "source": [
    "title_lenght.isnull().sum()"
   ]
  },
  {
   "cell_type": "code",
   "execution_count": 32,
   "id": "owned-permit",
   "metadata": {},
   "outputs": [],
   "source": [
    "import datetime as dt"
   ]
  },
  {
   "cell_type": "code",
   "execution_count": 33,
   "id": "opposite-outdoors",
   "metadata": {},
   "outputs": [],
   "source": [
    "def epoch_to_hour(x):\n",
    "    date = dt.datetime.fromtimestamp(x) \n",
    "    return int(date.strftime(\"%H\"))\n",
    "\n",
    "hour_of_day = praw_askreddit_score_50_df['created_utc'].apply(lambda x: epoch_to_hour(x)).rename('hour_of_day')"
   ]
  },
  {
   "cell_type": "code",
   "execution_count": null,
   "id": "isolated-stability",
   "metadata": {},
   "outputs": [],
   "source": [
    "hour_of_day.isnull().sum()"
   ]
  },
  {
   "cell_type": "code",
   "execution_count": 34,
   "id": "impressive-honduras",
   "metadata": {},
   "outputs": [],
   "source": [
    "def epoch_to_day_of_week(x):\n",
    "    date = dt.datetime.fromtimestamp(x)\n",
    "    return int(date.strftime(\"%w\"))\n",
    "    \n",
    "day_of_week = praw_askreddit_score_50_df['created_utc'].apply(lambda x: epoch_to_day_of_week(x)).rename('day_of_week')"
   ]
  },
  {
   "cell_type": "code",
   "execution_count": null,
   "id": "popular-function",
   "metadata": {},
   "outputs": [],
   "source": [
    "day_of_week.isnull().sum()"
   ]
  },
  {
   "cell_type": "code",
   "execution_count": 35,
   "id": "executive-cardiff",
   "metadata": {},
   "outputs": [],
   "source": [
    "def epoch_to_week_of_year(x):\n",
    "    date = dt.datetime.fromtimestamp(x)\n",
    "    return int(date.strftime(\"%U\"))\n",
    "    \n",
    "week_of_year = praw_askreddit_score_50_df['created_utc'].apply(lambda x: epoch_to_week_of_year(x)).rename('week_of_year')"
   ]
  },
  {
   "cell_type": "code",
   "execution_count": 36,
   "id": "seventh-lying",
   "metadata": {},
   "outputs": [],
   "source": [
    "def epoch_to_date(x):\n",
    "    date = dt.datetime.fromtimestamp(x)\n",
    "    return date.strftime(\"%x\")\n",
    "\n",
    "date = praw_askreddit_score_50_df['created_utc'].apply(lambda x: epoch_to_date(x)).rename('date')"
   ]
  },
  {
   "cell_type": "code",
   "execution_count": 37,
   "id": "recovered-squad",
   "metadata": {},
   "outputs": [],
   "source": [
    "serious_replies = (praw_askreddit_score_50_df['link_flair_text'] == 'Serious Replies Only').astype(int).rename('serious_replies')"
   ]
  },
  {
   "cell_type": "code",
   "execution_count": 38,
   "id": "polished-interim",
   "metadata": {},
   "outputs": [],
   "source": [
    "is_over_18 = praw_askreddit_score_50_df['over_18'].astype(int)\n",
    "is_spoiler = praw_askreddit_score_50_df['spoiler'].astype(int)\n",
    "score = praw_askreddit_score_50_df['score']"
   ]
  },
  {
   "cell_type": "code",
   "execution_count": 39,
   "id": "organized-childhood",
   "metadata": {},
   "outputs": [],
   "source": [
    "features_list = [title_lenght, hour_of_day, day_of_week, week_of_year, serious_replies, is_over_18, is_spoiler, score]\n",
    "features_df = pd.concat(features_list, axis=1)"
   ]
  },
  {
   "cell_type": "code",
   "execution_count": 40,
   "id": "automotive-navigator",
   "metadata": {},
   "outputs": [],
   "source": [
    "features_file_path = Path(\"C:/Users/iravi/Data Projects/Reddit/reddit_data_project/data/features.csv\")\n",
    "features_df.to_csv(complete_file_path)"
   ]
  },
  {
   "cell_type": "code",
   "execution_count": 6,
   "id": "broken-classic",
   "metadata": {},
   "outputs": [],
   "source": [
    "import praw\n",
    "\n",
    "with open('reddit_developer_credentials.txt', 'r') as reddit_credentials:\n",
    "    lines = reddit_credentials.readlines()\n",
    "    credentials_dict = {}\n",
    "    for line in lines:\n",
    "        credentials = line.split('=')\n",
    "        credentials_dict[credentials[0]] = credentials[1].strip()\n",
    "    reddit_credentials.close()    \n",
    "    \n",
    "\n",
    "CLIENT_ID = credentials_dict['CLIENT_ID']\n",
    "CLIENT_SECRET = credentials_dict['CLIENT_SECRET']\n",
    "PASSWORD = credentials_dict['PASSWORD']\n",
    "USERNAME = credentials_dict['USERNAME']\n",
    "USERAGENT = credentials_dict['USERAGENT']\n",
    "\n",
    "reddit = praw.Reddit(client_id=CLIENT_ID,\n",
    "                     client_secret=CLIENT_SECRET,\n",
    "                     password=PASSWORD,\n",
    "                     username=USERNAME,\n",
    "                     user_agent=USERAGENT)"
   ]
  },
  {
   "cell_type": "code",
   "execution_count": 10,
   "id": "adequate-jurisdiction",
   "metadata": {},
   "outputs": [
    {
     "data": {
      "text/html": [
       "<div>\n",
       "<style scoped>\n",
       "    .dataframe tbody tr th:only-of-type {\n",
       "        vertical-align: middle;\n",
       "    }\n",
       "\n",
       "    .dataframe tbody tr th {\n",
       "        vertical-align: top;\n",
       "    }\n",
       "\n",
       "    .dataframe thead th {\n",
       "        text-align: right;\n",
       "    }\n",
       "</style>\n",
       "<table border=\"1\" class=\"dataframe\">\n",
       "  <thead>\n",
       "    <tr style=\"text-align: right;\">\n",
       "      <th></th>\n",
       "      <th>Unnamed: 0</th>\n",
       "      <th>_reddit</th>\n",
       "      <th>approved_at_utc</th>\n",
       "      <th>subreddit</th>\n",
       "      <th>selftext</th>\n",
       "      <th>user_reports</th>\n",
       "      <th>saved</th>\n",
       "      <th>mod_reason_title</th>\n",
       "      <th>gilded</th>\n",
       "      <th>clicked</th>\n",
       "      <th>...</th>\n",
       "      <th>_comments_by_id</th>\n",
       "      <th>author_fullname</th>\n",
       "      <th>author_premium</th>\n",
       "      <th>author_flair_richtext</th>\n",
       "      <th>author_flair_type</th>\n",
       "      <th>author_patreon_flair</th>\n",
       "      <th>link_flair_template_id</th>\n",
       "      <th>author_cakeday</th>\n",
       "      <th>post_hint</th>\n",
       "      <th>preview</th>\n",
       "    </tr>\n",
       "  </thead>\n",
       "  <tbody>\n",
       "    <tr>\n",
       "      <th>222</th>\n",
       "      <td>222</td>\n",
       "      <td>&lt;praw.reddit.Reddit object at 0x0000015D9F8DF220&gt;</td>\n",
       "      <td>NaN</td>\n",
       "      <td>AskReddit</td>\n",
       "      <td>NaN</td>\n",
       "      <td>[]</td>\n",
       "      <td>False</td>\n",
       "      <td>NaN</td>\n",
       "      <td>0</td>\n",
       "      <td>False</td>\n",
       "      <td>...</td>\n",
       "      <td>{}</td>\n",
       "      <td>t2_136r3s</td>\n",
       "      <td>True</td>\n",
       "      <td>[]</td>\n",
       "      <td>text</td>\n",
       "      <td>False</td>\n",
       "      <td>NaN</td>\n",
       "      <td>NaN</td>\n",
       "      <td>NaN</td>\n",
       "      <td>NaN</td>\n",
       "    </tr>\n",
       "    <tr>\n",
       "      <th>1256</th>\n",
       "      <td>1256</td>\n",
       "      <td>&lt;praw.reddit.Reddit object at 0x0000015D9F8DF220&gt;</td>\n",
       "      <td>NaN</td>\n",
       "      <td>AskReddit</td>\n",
       "      <td>NaN</td>\n",
       "      <td>[]</td>\n",
       "      <td>False</td>\n",
       "      <td>NaN</td>\n",
       "      <td>0</td>\n",
       "      <td>False</td>\n",
       "      <td>...</td>\n",
       "      <td>{}</td>\n",
       "      <td>t2_6xs43d3p</td>\n",
       "      <td>False</td>\n",
       "      <td>[]</td>\n",
       "      <td>text</td>\n",
       "      <td>False</td>\n",
       "      <td>NaN</td>\n",
       "      <td>NaN</td>\n",
       "      <td>NaN</td>\n",
       "      <td>NaN</td>\n",
       "    </tr>\n",
       "    <tr>\n",
       "      <th>1646</th>\n",
       "      <td>1646</td>\n",
       "      <td>&lt;praw.reddit.Reddit object at 0x0000015D9F8DF220&gt;</td>\n",
       "      <td>NaN</td>\n",
       "      <td>AskReddit</td>\n",
       "      <td>NaN</td>\n",
       "      <td>[]</td>\n",
       "      <td>False</td>\n",
       "      <td>NaN</td>\n",
       "      <td>0</td>\n",
       "      <td>False</td>\n",
       "      <td>...</td>\n",
       "      <td>{}</td>\n",
       "      <td>t2_8fsn6ugp</td>\n",
       "      <td>False</td>\n",
       "      <td>[]</td>\n",
       "      <td>text</td>\n",
       "      <td>False</td>\n",
       "      <td>NaN</td>\n",
       "      <td>NaN</td>\n",
       "      <td>NaN</td>\n",
       "      <td>NaN</td>\n",
       "    </tr>\n",
       "    <tr>\n",
       "      <th>2835</th>\n",
       "      <td>2835</td>\n",
       "      <td>&lt;praw.reddit.Reddit object at 0x0000015D9F8DF220&gt;</td>\n",
       "      <td>NaN</td>\n",
       "      <td>AskReddit</td>\n",
       "      <td>NaN</td>\n",
       "      <td>[]</td>\n",
       "      <td>False</td>\n",
       "      <td>NaN</td>\n",
       "      <td>0</td>\n",
       "      <td>False</td>\n",
       "      <td>...</td>\n",
       "      <td>{}</td>\n",
       "      <td>t2_613os6wa</td>\n",
       "      <td>False</td>\n",
       "      <td>[]</td>\n",
       "      <td>text</td>\n",
       "      <td>False</td>\n",
       "      <td>NaN</td>\n",
       "      <td>NaN</td>\n",
       "      <td>NaN</td>\n",
       "      <td>NaN</td>\n",
       "    </tr>\n",
       "    <tr>\n",
       "      <th>4097</th>\n",
       "      <td>4097</td>\n",
       "      <td>&lt;praw.reddit.Reddit object at 0x0000015D9F8DF220&gt;</td>\n",
       "      <td>NaN</td>\n",
       "      <td>AskReddit</td>\n",
       "      <td>[removed]</td>\n",
       "      <td>[]</td>\n",
       "      <td>False</td>\n",
       "      <td>NaN</td>\n",
       "      <td>0</td>\n",
       "      <td>False</td>\n",
       "      <td>...</td>\n",
       "      <td>{}</td>\n",
       "      <td>t2_3esvvszc</td>\n",
       "      <td>False</td>\n",
       "      <td>[]</td>\n",
       "      <td>text</td>\n",
       "      <td>False</td>\n",
       "      <td>NaN</td>\n",
       "      <td>NaN</td>\n",
       "      <td>NaN</td>\n",
       "      <td>NaN</td>\n",
       "    </tr>\n",
       "    <tr>\n",
       "      <th>...</th>\n",
       "      <td>...</td>\n",
       "      <td>...</td>\n",
       "      <td>...</td>\n",
       "      <td>...</td>\n",
       "      <td>...</td>\n",
       "      <td>...</td>\n",
       "      <td>...</td>\n",
       "      <td>...</td>\n",
       "      <td>...</td>\n",
       "      <td>...</td>\n",
       "      <td>...</td>\n",
       "      <td>...</td>\n",
       "      <td>...</td>\n",
       "      <td>...</td>\n",
       "      <td>...</td>\n",
       "      <td>...</td>\n",
       "      <td>...</td>\n",
       "      <td>...</td>\n",
       "      <td>...</td>\n",
       "      <td>...</td>\n",
       "      <td>...</td>\n",
       "    </tr>\n",
       "    <tr>\n",
       "      <th>1993722</th>\n",
       "      <td>1993722</td>\n",
       "      <td>&lt;praw.reddit.Reddit object at 0x00000276F73FF220&gt;</td>\n",
       "      <td>NaN</td>\n",
       "      <td>AskReddit</td>\n",
       "      <td>NaN</td>\n",
       "      <td>[]</td>\n",
       "      <td>False</td>\n",
       "      <td>NaN</td>\n",
       "      <td>0</td>\n",
       "      <td>False</td>\n",
       "      <td>...</td>\n",
       "      <td>{}</td>\n",
       "      <td>t2_1zjs93lo</td>\n",
       "      <td>False</td>\n",
       "      <td>[]</td>\n",
       "      <td>text</td>\n",
       "      <td>False</td>\n",
       "      <td>NaN</td>\n",
       "      <td>NaN</td>\n",
       "      <td>NaN</td>\n",
       "      <td>NaN</td>\n",
       "    </tr>\n",
       "    <tr>\n",
       "      <th>1993735</th>\n",
       "      <td>1993735</td>\n",
       "      <td>&lt;praw.reddit.Reddit object at 0x00000276F73FF220&gt;</td>\n",
       "      <td>NaN</td>\n",
       "      <td>AskReddit</td>\n",
       "      <td>NaN</td>\n",
       "      <td>[]</td>\n",
       "      <td>False</td>\n",
       "      <td>NaN</td>\n",
       "      <td>0</td>\n",
       "      <td>False</td>\n",
       "      <td>...</td>\n",
       "      <td>{}</td>\n",
       "      <td>t2_3vcpgk5t</td>\n",
       "      <td>False</td>\n",
       "      <td>[]</td>\n",
       "      <td>text</td>\n",
       "      <td>False</td>\n",
       "      <td>NaN</td>\n",
       "      <td>NaN</td>\n",
       "      <td>NaN</td>\n",
       "      <td>NaN</td>\n",
       "    </tr>\n",
       "    <tr>\n",
       "      <th>1994090</th>\n",
       "      <td>1994090</td>\n",
       "      <td>&lt;praw.reddit.Reddit object at 0x00000276F73FF220&gt;</td>\n",
       "      <td>NaN</td>\n",
       "      <td>AskReddit</td>\n",
       "      <td>NaN</td>\n",
       "      <td>[]</td>\n",
       "      <td>False</td>\n",
       "      <td>NaN</td>\n",
       "      <td>1</td>\n",
       "      <td>False</td>\n",
       "      <td>...</td>\n",
       "      <td>{}</td>\n",
       "      <td>t2_8dhrnx8</td>\n",
       "      <td>False</td>\n",
       "      <td>[]</td>\n",
       "      <td>text</td>\n",
       "      <td>False</td>\n",
       "      <td>NaN</td>\n",
       "      <td>NaN</td>\n",
       "      <td>NaN</td>\n",
       "      <td>NaN</td>\n",
       "    </tr>\n",
       "    <tr>\n",
       "      <th>1995954</th>\n",
       "      <td>1995954</td>\n",
       "      <td>&lt;praw.reddit.Reddit object at 0x00000276F73FF220&gt;</td>\n",
       "      <td>NaN</td>\n",
       "      <td>AskReddit</td>\n",
       "      <td>[removed]</td>\n",
       "      <td>[]</td>\n",
       "      <td>False</td>\n",
       "      <td>NaN</td>\n",
       "      <td>1</td>\n",
       "      <td>False</td>\n",
       "      <td>...</td>\n",
       "      <td>{}</td>\n",
       "      <td>t2_1trghkm</td>\n",
       "      <td>False</td>\n",
       "      <td>[]</td>\n",
       "      <td>text</td>\n",
       "      <td>False</td>\n",
       "      <td>NaN</td>\n",
       "      <td>NaN</td>\n",
       "      <td>NaN</td>\n",
       "      <td>NaN</td>\n",
       "    </tr>\n",
       "    <tr>\n",
       "      <th>1998071</th>\n",
       "      <td>1998071</td>\n",
       "      <td>&lt;praw.reddit.Reddit object at 0x00000276F73FF220&gt;</td>\n",
       "      <td>NaN</td>\n",
       "      <td>AskReddit</td>\n",
       "      <td>[deleted]</td>\n",
       "      <td>[]</td>\n",
       "      <td>False</td>\n",
       "      <td>NaN</td>\n",
       "      <td>0</td>\n",
       "      <td>False</td>\n",
       "      <td>...</td>\n",
       "      <td>{}</td>\n",
       "      <td>NaN</td>\n",
       "      <td>NaN</td>\n",
       "      <td>NaN</td>\n",
       "      <td>NaN</td>\n",
       "      <td>NaN</td>\n",
       "      <td>NaN</td>\n",
       "      <td>NaN</td>\n",
       "      <td>NaN</td>\n",
       "      <td>NaN</td>\n",
       "    </tr>\n",
       "  </tbody>\n",
       "</table>\n",
       "<p>1430 rows × 114 columns</p>\n",
       "</div>"
      ],
      "text/plain": [
       "         Unnamed: 0                                            _reddit  \\\n",
       "222             222  <praw.reddit.Reddit object at 0x0000015D9F8DF220>   \n",
       "1256           1256  <praw.reddit.Reddit object at 0x0000015D9F8DF220>   \n",
       "1646           1646  <praw.reddit.Reddit object at 0x0000015D9F8DF220>   \n",
       "2835           2835  <praw.reddit.Reddit object at 0x0000015D9F8DF220>   \n",
       "4097           4097  <praw.reddit.Reddit object at 0x0000015D9F8DF220>   \n",
       "...             ...                                                ...   \n",
       "1993722     1993722  <praw.reddit.Reddit object at 0x00000276F73FF220>   \n",
       "1993735     1993735  <praw.reddit.Reddit object at 0x00000276F73FF220>   \n",
       "1994090     1994090  <praw.reddit.Reddit object at 0x00000276F73FF220>   \n",
       "1995954     1995954  <praw.reddit.Reddit object at 0x00000276F73FF220>   \n",
       "1998071     1998071  <praw.reddit.Reddit object at 0x00000276F73FF220>   \n",
       "\n",
       "         approved_at_utc  subreddit   selftext user_reports  saved  \\\n",
       "222                  NaN  AskReddit        NaN           []  False   \n",
       "1256                 NaN  AskReddit        NaN           []  False   \n",
       "1646                 NaN  AskReddit        NaN           []  False   \n",
       "2835                 NaN  AskReddit        NaN           []  False   \n",
       "4097                 NaN  AskReddit  [removed]           []  False   \n",
       "...                  ...        ...        ...          ...    ...   \n",
       "1993722              NaN  AskReddit        NaN           []  False   \n",
       "1993735              NaN  AskReddit        NaN           []  False   \n",
       "1994090              NaN  AskReddit        NaN           []  False   \n",
       "1995954              NaN  AskReddit  [removed]           []  False   \n",
       "1998071              NaN  AskReddit  [deleted]           []  False   \n",
       "\n",
       "         mod_reason_title  gilded  clicked  ... _comments_by_id  \\\n",
       "222                   NaN       0    False  ...              {}   \n",
       "1256                  NaN       0    False  ...              {}   \n",
       "1646                  NaN       0    False  ...              {}   \n",
       "2835                  NaN       0    False  ...              {}   \n",
       "4097                  NaN       0    False  ...              {}   \n",
       "...                   ...     ...      ...  ...             ...   \n",
       "1993722               NaN       0    False  ...              {}   \n",
       "1993735               NaN       0    False  ...              {}   \n",
       "1994090               NaN       1    False  ...              {}   \n",
       "1995954               NaN       1    False  ...              {}   \n",
       "1998071               NaN       0    False  ...              {}   \n",
       "\n",
       "        author_fullname author_premium  author_flair_richtext  \\\n",
       "222           t2_136r3s           True                     []   \n",
       "1256        t2_6xs43d3p          False                     []   \n",
       "1646        t2_8fsn6ugp          False                     []   \n",
       "2835        t2_613os6wa          False                     []   \n",
       "4097        t2_3esvvszc          False                     []   \n",
       "...                 ...            ...                    ...   \n",
       "1993722     t2_1zjs93lo          False                     []   \n",
       "1993735     t2_3vcpgk5t          False                     []   \n",
       "1994090      t2_8dhrnx8          False                     []   \n",
       "1995954      t2_1trghkm          False                     []   \n",
       "1998071             NaN            NaN                    NaN   \n",
       "\n",
       "         author_flair_type author_patreon_flair  link_flair_template_id  \\\n",
       "222                   text                False                     NaN   \n",
       "1256                  text                False                     NaN   \n",
       "1646                  text                False                     NaN   \n",
       "2835                  text                False                     NaN   \n",
       "4097                  text                False                     NaN   \n",
       "...                    ...                  ...                     ...   \n",
       "1993722               text                False                     NaN   \n",
       "1993735               text                False                     NaN   \n",
       "1994090               text                False                     NaN   \n",
       "1995954               text                False                     NaN   \n",
       "1998071                NaN                  NaN                     NaN   \n",
       "\n",
       "         author_cakeday post_hint  preview  \n",
       "222                 NaN       NaN      NaN  \n",
       "1256                NaN       NaN      NaN  \n",
       "1646                NaN       NaN      NaN  \n",
       "2835                NaN       NaN      NaN  \n",
       "4097                NaN       NaN      NaN  \n",
       "...                 ...       ...      ...  \n",
       "1993722             NaN       NaN      NaN  \n",
       "1993735             NaN       NaN      NaN  \n",
       "1994090             NaN       NaN      NaN  \n",
       "1995954             NaN       NaN      NaN  \n",
       "1998071             NaN       NaN      NaN  \n",
       "\n",
       "[1430 rows x 114 columns]"
      ]
     },
     "execution_count": 10,
     "metadata": {},
     "output_type": "execute_result"
    }
   ],
   "source": [
    "praw_askreddit_df[praw_askreddit_df['score']>2000]"
   ]
  },
  {
   "cell_type": "code",
   "execution_count": 69,
   "id": "controlling-coordination",
   "metadata": {},
   "outputs": [
    {
     "data": {
      "text/plain": [
       "'t2_8fsn6ugp'"
      ]
     },
     "execution_count": 69,
     "metadata": {},
     "output_type": "execute_result"
    }
   ],
   "source": [
    "praw_askreddit_df.loc[1646,'author_fullname']"
   ]
  },
  {
   "cell_type": "code",
   "execution_count": 70,
   "id": "adopted-reminder",
   "metadata": {},
   "outputs": [
    {
     "data": {
      "text/plain": [
       "'HarveyGone'"
      ]
     },
     "execution_count": 70,
     "metadata": {},
     "output_type": "execute_result"
    }
   ],
   "source": [
    "praw_askreddit_df.loc[1646,'author']"
   ]
  },
  {
   "cell_type": "code",
   "execution_count": 67,
   "id": "restricted-yield",
   "metadata": {},
   "outputs": [],
   "source": [
    "redditor_info = reddit.info(fullnames=['t2_1zjs93lo'])"
   ]
  },
  {
   "cell_type": "code",
   "execution_count": 68,
   "id": "legal-reward",
   "metadata": {},
   "outputs": [],
   "source": [
    "for redditor in redditor_info:\n",
    "    print(redditor.name)"
   ]
  },
  {
   "cell_type": "code",
   "execution_count": 71,
   "id": "preceding-fraud",
   "metadata": {},
   "outputs": [],
   "source": [
    "redditor1 = reddit.redditor(\"HarveyGone\")"
   ]
  },
  {
   "cell_type": "code",
   "execution_count": 77,
   "id": "falling-ticket",
   "metadata": {},
   "outputs": [
    {
     "data": {
      "text/plain": [
       "{'_reddit': <praw.reddit.Reddit at 0x2839799a190>,\n",
       " '_fetched': True,\n",
       " '_listing_use_sort': True,\n",
       " 'name': 'HarveyGone',\n",
       " 'is_employee': False,\n",
       " 'is_friend': False,\n",
       " 'subreddit': {'default_set': True,\n",
       "  'user_is_contributor': False,\n",
       "  'banner_img': 'https://styles.redditmedia.com/t5_39makr/styles/profileBanner_x2w0nvtsui261.jpg?width=1280&height=384&crop=1280:384,smart&frame=1&s=816e7531ad49300b53fb2b9ad90e139d99a13b9e',\n",
       "  'restrict_posting': True,\n",
       "  'user_is_banned': False,\n",
       "  'free_form_reports': True,\n",
       "  'community_icon': None,\n",
       "  'show_media': True,\n",
       "  'icon_color': '',\n",
       "  'user_is_muted': False,\n",
       "  'display_name': 'u_HarveyGone',\n",
       "  'header_img': None,\n",
       "  'title': 'HarveyGone',\n",
       "  'previous_names': [],\n",
       "  'over_18': False,\n",
       "  'icon_size': [256, 256],\n",
       "  'primary_color': '',\n",
       "  'icon_img': 'https://styles.redditmedia.com/t5_39makr/styles/profileIcon_snoob8ebccec-5c72-44d2-8587-0d3a395a9872-headshot.png?width=256&height=256&crop=256:256,smart&frame=1&s=65d6e1ff723c42dc38fd83b64f2fbde89d9bfc9a',\n",
       "  'description': '',\n",
       "  'submit_link_label': '',\n",
       "  'header_size': None,\n",
       "  'restrict_commenting': False,\n",
       "  'subscribers': 0,\n",
       "  'submit_text_label': '',\n",
       "  'is_default_icon': False,\n",
       "  'link_flair_position': '',\n",
       "  'display_name_prefixed': 'u/HarveyGone',\n",
       "  'key_color': '',\n",
       "  'name': 't5_39makr',\n",
       "  'is_default_banner': False,\n",
       "  'url': '/user/HarveyGone/',\n",
       "  'quarantine': False,\n",
       "  'banner_size': [1280, 384],\n",
       "  'user_is_moderator': False,\n",
       "  'public_description': 'please stop my parents might hear',\n",
       "  'link_flair_enabled': False,\n",
       "  'disable_contributor_requests': False,\n",
       "  'subreddit_type': 'user',\n",
       "  'user_is_subscriber': False},\n",
       " 'snoovatar_size': [380, 600],\n",
       " 'awardee_karma': 1070,\n",
       " 'id': '8fsn6ugp',\n",
       " 'verified': True,\n",
       " 'is_gold': False,\n",
       " 'is_mod': True,\n",
       " 'awarder_karma': 12,\n",
       " 'has_verified_email': True,\n",
       " 'icon_img': 'https://styles.redditmedia.com/t5_39makr/styles/profileIcon_snoob8ebccec-5c72-44d2-8587-0d3a395a9872-headshot.png?width=256&height=256&crop=256:256,smart&frame=1&s=65d6e1ff723c42dc38fd83b64f2fbde89d9bfc9a',\n",
       " 'hide_from_robots': False,\n",
       " 'link_karma': 7000,\n",
       " 'pref_show_snoovatar': False,\n",
       " 'total_karma': 8983,\n",
       " 'accept_chats': False,\n",
       " 'created': 1602910475.0,\n",
       " 'created_utc': 1602881675.0,\n",
       " 'snoovatar_img': 'https://i.redd.it/snoovatar/snoovatars/b8ebccec-5c72-44d2-8587-0d3a395a9872.png',\n",
       " 'comment_karma': 901,\n",
       " 'has_subscribed': True,\n",
       " 'accept_pms': True}"
      ]
     },
     "execution_count": 77,
     "metadata": {},
     "output_type": "execute_result"
    }
   ],
   "source": [
    "vars(redditor1)"
   ]
  },
  {
   "cell_type": "code",
   "execution_count": 72,
   "id": "accompanied-portal",
   "metadata": {},
   "outputs": [
    {
     "name": "stdout",
     "output_type": "stream",
     "text": [
      "2020-10-16 23:54:35\n"
     ]
    }
   ],
   "source": [
    "print(dt.datetime.fromtimestamp(redditor1.created_utc))"
   ]
  },
  {
   "cell_type": "code",
   "execution_count": 73,
   "id": "statewide-shade",
   "metadata": {},
   "outputs": [
    {
     "data": {
      "text/plain": [
       "[]"
      ]
     },
     "execution_count": 73,
     "metadata": {},
     "output_type": "execute_result"
    }
   ],
   "source": [
    "redditor1.trophies() "
   ]
  },
  {
   "cell_type": "code",
   "execution_count": 76,
   "id": "social-brass",
   "metadata": {},
   "outputs": [
    {
     "name": "stdout",
     "output_type": "stream",
     "text": [
      "2020-12-05 04:36:55\n",
      "1\n",
      "2020-12-01 23:39:42\n",
      "2\n",
      "2020-12-01 23:18:23\n",
      "2\n",
      "2020-12-01 11:53:46\n",
      "2\n",
      "2020-12-01 10:29:44\n",
      "1\n",
      "2020-12-01 10:27:00\n",
      "1\n",
      "2020-12-01 10:24:35\n",
      "1\n",
      "2020-12-01 09:16:06\n",
      "1\n",
      "2020-12-01 09:15:12\n",
      "3\n",
      "2020-12-01 09:11:57\n",
      "1\n",
      "2020-12-01 09:09:53\n",
      "1\n",
      "2020-12-01 08:59:31\n",
      "1\n",
      "2020-12-01 07:36:28\n",
      "19\n",
      "2020-11-30 07:54:05\n",
      "32205\n",
      "2020-11-02 00:57:26\n",
      "3\n",
      "2020-11-02 00:52:07\n",
      "3\n",
      "2020-11-02 00:51:16\n",
      "3\n",
      "2020-10-31 03:27:09\n",
      "6\n",
      "2020-10-30 00:00:48\n",
      "9\n",
      "2020-10-28 05:16:28\n",
      "5\n"
     ]
    }
   ],
   "source": [
    "for submission in reddit.redditor(\"HarveyGone\").submissions.new():  #year/month...\n",
    "    created = submission.created_utc\n",
    "    print(dt.datetime.fromtimestamp(created))\n",
    "    print(submission.score)\n",
    " "
   ]
  },
  {
   "cell_type": "code",
   "execution_count": null,
   "id": "wireless-review",
   "metadata": {},
   "outputs": [],
   "source": [
    "import nltk\n",
    "nltk.download('stopwords')"
   ]
  },
  {
   "cell_type": "code",
   "execution_count": 149,
   "id": "unusual-memorabilia",
   "metadata": {},
   "outputs": [],
   "source": [
    "from nltk.corpus import stopwords\n",
    "stop_words = stopwords.words('english')"
   ]
  },
  {
   "cell_type": "code",
   "execution_count": null,
   "id": "going-longitude",
   "metadata": {},
   "outputs": [],
   "source": [
    "nltk.download('punkt')"
   ]
  },
  {
   "cell_type": "code",
   "execution_count": null,
   "id": "tribal-lemon",
   "metadata": {},
   "outputs": [],
   "source": [
    "nltk.download('averaged_perceptron_tagger')"
   ]
  },
  {
   "cell_type": "code",
   "execution_count": 177,
   "id": "english-central",
   "metadata": {},
   "outputs": [
    {
     "data": {
      "text/plain": [
       "['I', 'went', 'on', 'a', 'trip', 'to', 'Scotland']"
      ]
     },
     "execution_count": 177,
     "metadata": {},
     "output_type": "execute_result"
    }
   ],
   "source": [
    "import re\n",
    "# remove punctuations and digits from oldtext\n",
    "\n",
    "sentence = \"I went on a trip to Scotland!!! :)\"\n",
    "# TODO: use nltk to remove punctuation\n",
    "new_sentence = re.sub(r'[^\\w\\s]','',sentence)\n",
    "\n",
    "from nltk.tokenize import word_tokenize\n",
    "word_tokens = word_tokenize(new_sentence)\n",
    "word_tokens"
   ]
  },
  {
   "cell_type": "code",
   "execution_count": 178,
   "id": "ongoing-employee",
   "metadata": {},
   "outputs": [],
   "source": [
    "from nltk.corpus import wordnet\n",
    "\n",
    "def get_wordnet_pos(word_tokens):\n",
    "    \"\"\"Map POS tag to first character lemmatize() accepts\"\"\"\n",
    "    tag_dict = {\"J\": wordnet.ADJ,\n",
    "                \"N\": wordnet.NOUN,\n",
    "                \"V\": wordnet.VERB,\n",
    "                \"R\": wordnet.ADV}\n",
    "    \n",
    "    wn_tags = []\n",
    "    tags = nltk.pos_tag(word_tokens)\n",
    "    for tag_tuple in tags:\n",
    "        #tag is a tuple (word,tag)\n",
    "        word = tag_tuple[0]\n",
    "        first_letter = tag_tuple[1][0].upper()\n",
    "        wn_tag = tag_dict.get(first_letter, wordnet.NOUN)\n",
    "        wn_tags.append((word, wn_tag))\n",
    "\n",
    "    return wn_tags"
   ]
  },
  {
   "cell_type": "code",
   "execution_count": 179,
   "id": "boring-humor",
   "metadata": {},
   "outputs": [],
   "source": [
    "tokens_pos_tags = get_wordnet_pos(word_tokens)"
   ]
  },
  {
   "cell_type": "code",
   "execution_count": 180,
   "id": "minute-sweet",
   "metadata": {},
   "outputs": [],
   "source": [
    "filtered_sentence = [w for w in tokens_pos_tags if not w[0].lower() in stop_words] "
   ]
  },
  {
   "cell_type": "code",
   "execution_count": 181,
   "id": "patient-invasion",
   "metadata": {},
   "outputs": [
    {
     "data": {
      "text/plain": [
       "[('went', 'v'), ('trip', 'n'), ('Scotland', 'v')]"
      ]
     },
     "execution_count": 181,
     "metadata": {},
     "output_type": "execute_result"
    }
   ],
   "source": [
    "filtered_sentence"
   ]
  },
  {
   "cell_type": "code",
   "execution_count": null,
   "id": "martial-parent",
   "metadata": {},
   "outputs": [],
   "source": [
    "nltk.download('wordnet')"
   ]
  },
  {
   "cell_type": "code",
   "execution_count": 182,
   "id": "young-margin",
   "metadata": {},
   "outputs": [
    {
     "name": "stdout",
     "output_type": "stream",
     "text": [
      "['go', 'trip', 'Scotland']\n"
     ]
    }
   ],
   "source": [
    "from nltk.stem import WordNetLemmatizer \n",
    "# 1. Init Lemmatizer\n",
    "lemmatizer = WordNetLemmatizer()\n",
    "\n",
    "# 3. Lemmatize a Sentence with the appropriate POS tag\n",
    "#sentence = \"The striped bats are hanging on their feet for best\"\n",
    "print([lemmatizer.lemmatize(w[0],w[1]) for w in filtered_sentence])\n",
    "#> ['The', 'strip', 'bat', 'be', 'hang', 'on', 'their', 'foot', 'for', 'best']"
   ]
  },
  {
   "cell_type": "code",
   "execution_count": 123,
   "id": "amber-anderson",
   "metadata": {},
   "outputs": [],
   "source": []
  },
  {
   "cell_type": "markdown",
   "id": "demanding-territory",
   "metadata": {},
   "source": [
    "## Cluster sample by score"
   ]
  },
  {
   "cell_type": "code",
   "execution_count": 41,
   "id": "pressed-riverside",
   "metadata": {},
   "outputs": [],
   "source": [
    "from sklearn.cluster import KMeans "
   ]
  },
  {
   "cell_type": "code",
   "execution_count": 42,
   "id": "guilty-cotton",
   "metadata": {},
   "outputs": [],
   "source": [
    "X = features_df['score'].to_numpy()\n",
    "X = X.reshape(-1, 1)"
   ]
  },
  {
   "cell_type": "code",
   "execution_count": 43,
   "id": "crucial-wednesday",
   "metadata": {},
   "outputs": [],
   "source": [
    "num_of_clusters = 10\n",
    "KM = KMeans(n_clusters = num_of_clusters, random_state=0) \n",
    "KM.fit(X)\n",
    "labels = pd.DataFrame(KM.labels_, columns=['label'], index=features_df.index)\n",
    "\n",
    "labeled_df = pd.concat([features_df, labels],axis=1)"
   ]
  },
  {
   "cell_type": "code",
   "execution_count": null,
   "id": "offshore-yugoslavia",
   "metadata": {},
   "outputs": [],
   "source": [
    "labeled_df['label'].value_counts()"
   ]
  },
  {
   "cell_type": "code",
   "execution_count": 45,
   "id": "danish-advance",
   "metadata": {},
   "outputs": [],
   "source": [
    "labeled_df_copy = labeled_df.copy()"
   ]
  },
  {
   "cell_type": "code",
   "execution_count": 46,
   "id": "double-cylinder",
   "metadata": {},
   "outputs": [],
   "source": [
    "labeled_df.drop('score', axis=1, inplace=True)"
   ]
  },
  {
   "cell_type": "code",
   "execution_count": 56,
   "id": "constitutional-cache",
   "metadata": {},
   "outputs": [
    {
     "data": {
      "text/plain": [
       "0    8608\n",
       "8     510\n",
       "9     234\n",
       "4     146\n",
       "5     123\n",
       "1     118\n",
       "2     113\n",
       "6      86\n",
       "3      32\n",
       "7       8\n",
       "Name: label, dtype: int64"
      ]
     },
     "execution_count": 56,
     "metadata": {},
     "output_type": "execute_result"
    }
   ],
   "source": [
    "labeled_df['label'].value_counts()"
   ]
  },
  {
   "cell_type": "code",
   "execution_count": 57,
   "id": "micro-forward",
   "metadata": {},
   "outputs": [],
   "source": [
    "score_label_df = labeled_df_copy[['score','label']]\n",
    "groups = labeled_df_copy.groupby('label')\n",
    "\n",
    "sorted_medians = groups['score'].median().sort_values()"
   ]
  },
  {
   "cell_type": "code",
   "execution_count": null,
   "id": "boolean-reading",
   "metadata": {},
   "outputs": [],
   "source": [
    "sorted_groups_df = pd.DataFrame()\n",
    "for i in sorted_medians.index:\n",
    "    group_i = groups.get_group(i)['score'].rename(i)\n",
    "    print(group_i.name)\n",
    "    sorted_groups_df = pd.concat([sorted_groups_df, group_i], axis=1) "
   ]
  },
  {
   "cell_type": "code",
   "execution_count": null,
   "id": "wooden-awareness",
   "metadata": {},
   "outputs": [],
   "source": [
    "sorted_groups_df"
   ]
  },
  {
   "cell_type": "code",
   "execution_count": 65,
   "id": "lucky-timeline",
   "metadata": {},
   "outputs": [
    {
     "data": {
      "application/javascript": [
       "/* Put everything inside the global mpl namespace */\n",
       "/* global mpl */\n",
       "window.mpl = {};\n",
       "\n",
       "mpl.get_websocket_type = function () {\n",
       "    if (typeof WebSocket !== 'undefined') {\n",
       "        return WebSocket;\n",
       "    } else if (typeof MozWebSocket !== 'undefined') {\n",
       "        return MozWebSocket;\n",
       "    } else {\n",
       "        alert(\n",
       "            'Your browser does not have WebSocket support. ' +\n",
       "                'Please try Chrome, Safari or Firefox ≥ 6. ' +\n",
       "                'Firefox 4 and 5 are also supported but you ' +\n",
       "                'have to enable WebSockets in about:config.'\n",
       "        );\n",
       "    }\n",
       "};\n",
       "\n",
       "mpl.figure = function (figure_id, websocket, ondownload, parent_element) {\n",
       "    this.id = figure_id;\n",
       "\n",
       "    this.ws = websocket;\n",
       "\n",
       "    this.supports_binary = this.ws.binaryType !== undefined;\n",
       "\n",
       "    if (!this.supports_binary) {\n",
       "        var warnings = document.getElementById('mpl-warnings');\n",
       "        if (warnings) {\n",
       "            warnings.style.display = 'block';\n",
       "            warnings.textContent =\n",
       "                'This browser does not support binary websocket messages. ' +\n",
       "                'Performance may be slow.';\n",
       "        }\n",
       "    }\n",
       "\n",
       "    this.imageObj = new Image();\n",
       "\n",
       "    this.context = undefined;\n",
       "    this.message = undefined;\n",
       "    this.canvas = undefined;\n",
       "    this.rubberband_canvas = undefined;\n",
       "    this.rubberband_context = undefined;\n",
       "    this.format_dropdown = undefined;\n",
       "\n",
       "    this.image_mode = 'full';\n",
       "\n",
       "    this.root = document.createElement('div');\n",
       "    this.root.setAttribute('style', 'display: inline-block');\n",
       "    this._root_extra_style(this.root);\n",
       "\n",
       "    parent_element.appendChild(this.root);\n",
       "\n",
       "    this._init_header(this);\n",
       "    this._init_canvas(this);\n",
       "    this._init_toolbar(this);\n",
       "\n",
       "    var fig = this;\n",
       "\n",
       "    this.waiting = false;\n",
       "\n",
       "    this.ws.onopen = function () {\n",
       "        fig.send_message('supports_binary', { value: fig.supports_binary });\n",
       "        fig.send_message('send_image_mode', {});\n",
       "        if (fig.ratio !== 1) {\n",
       "            fig.send_message('set_dpi_ratio', { dpi_ratio: fig.ratio });\n",
       "        }\n",
       "        fig.send_message('refresh', {});\n",
       "    };\n",
       "\n",
       "    this.imageObj.onload = function () {\n",
       "        if (fig.image_mode === 'full') {\n",
       "            // Full images could contain transparency (where diff images\n",
       "            // almost always do), so we need to clear the canvas so that\n",
       "            // there is no ghosting.\n",
       "            fig.context.clearRect(0, 0, fig.canvas.width, fig.canvas.height);\n",
       "        }\n",
       "        fig.context.drawImage(fig.imageObj, 0, 0);\n",
       "    };\n",
       "\n",
       "    this.imageObj.onunload = function () {\n",
       "        fig.ws.close();\n",
       "    };\n",
       "\n",
       "    this.ws.onmessage = this._make_on_message_function(this);\n",
       "\n",
       "    this.ondownload = ondownload;\n",
       "};\n",
       "\n",
       "mpl.figure.prototype._init_header = function () {\n",
       "    var titlebar = document.createElement('div');\n",
       "    titlebar.classList =\n",
       "        'ui-dialog-titlebar ui-widget-header ui-corner-all ui-helper-clearfix';\n",
       "    var titletext = document.createElement('div');\n",
       "    titletext.classList = 'ui-dialog-title';\n",
       "    titletext.setAttribute(\n",
       "        'style',\n",
       "        'width: 100%; text-align: center; padding: 3px;'\n",
       "    );\n",
       "    titlebar.appendChild(titletext);\n",
       "    this.root.appendChild(titlebar);\n",
       "    this.header = titletext;\n",
       "};\n",
       "\n",
       "mpl.figure.prototype._canvas_extra_style = function (_canvas_div) {};\n",
       "\n",
       "mpl.figure.prototype._root_extra_style = function (_canvas_div) {};\n",
       "\n",
       "mpl.figure.prototype._init_canvas = function () {\n",
       "    var fig = this;\n",
       "\n",
       "    var canvas_div = (this.canvas_div = document.createElement('div'));\n",
       "    canvas_div.setAttribute(\n",
       "        'style',\n",
       "        'border: 1px solid #ddd;' +\n",
       "            'box-sizing: content-box;' +\n",
       "            'clear: both;' +\n",
       "            'min-height: 1px;' +\n",
       "            'min-width: 1px;' +\n",
       "            'outline: 0;' +\n",
       "            'overflow: hidden;' +\n",
       "            'position: relative;' +\n",
       "            'resize: both;'\n",
       "    );\n",
       "\n",
       "    function on_keyboard_event_closure(name) {\n",
       "        return function (event) {\n",
       "            return fig.key_event(event, name);\n",
       "        };\n",
       "    }\n",
       "\n",
       "    canvas_div.addEventListener(\n",
       "        'keydown',\n",
       "        on_keyboard_event_closure('key_press')\n",
       "    );\n",
       "    canvas_div.addEventListener(\n",
       "        'keyup',\n",
       "        on_keyboard_event_closure('key_release')\n",
       "    );\n",
       "\n",
       "    this._canvas_extra_style(canvas_div);\n",
       "    this.root.appendChild(canvas_div);\n",
       "\n",
       "    var canvas = (this.canvas = document.createElement('canvas'));\n",
       "    canvas.classList.add('mpl-canvas');\n",
       "    canvas.setAttribute('style', 'box-sizing: content-box;');\n",
       "\n",
       "    this.context = canvas.getContext('2d');\n",
       "\n",
       "    var backingStore =\n",
       "        this.context.backingStorePixelRatio ||\n",
       "        this.context.webkitBackingStorePixelRatio ||\n",
       "        this.context.mozBackingStorePixelRatio ||\n",
       "        this.context.msBackingStorePixelRatio ||\n",
       "        this.context.oBackingStorePixelRatio ||\n",
       "        this.context.backingStorePixelRatio ||\n",
       "        1;\n",
       "\n",
       "    this.ratio = (window.devicePixelRatio || 1) / backingStore;\n",
       "    if (this.ratio !== 1) {\n",
       "        fig.send_message('set_dpi_ratio', { dpi_ratio: this.ratio });\n",
       "    }\n",
       "\n",
       "    var rubberband_canvas = (this.rubberband_canvas = document.createElement(\n",
       "        'canvas'\n",
       "    ));\n",
       "    rubberband_canvas.setAttribute(\n",
       "        'style',\n",
       "        'box-sizing: content-box; position: absolute; left: 0; top: 0; z-index: 1;'\n",
       "    );\n",
       "\n",
       "    var resizeObserver = new ResizeObserver(function (entries) {\n",
       "        var nentries = entries.length;\n",
       "        for (var i = 0; i < nentries; i++) {\n",
       "            var entry = entries[i];\n",
       "            var width, height;\n",
       "            if (entry.contentBoxSize) {\n",
       "                if (entry.contentBoxSize instanceof Array) {\n",
       "                    // Chrome 84 implements new version of spec.\n",
       "                    width = entry.contentBoxSize[0].inlineSize;\n",
       "                    height = entry.contentBoxSize[0].blockSize;\n",
       "                } else {\n",
       "                    // Firefox implements old version of spec.\n",
       "                    width = entry.contentBoxSize.inlineSize;\n",
       "                    height = entry.contentBoxSize.blockSize;\n",
       "                }\n",
       "            } else {\n",
       "                // Chrome <84 implements even older version of spec.\n",
       "                width = entry.contentRect.width;\n",
       "                height = entry.contentRect.height;\n",
       "            }\n",
       "\n",
       "            // Keep the size of the canvas and rubber band canvas in sync with\n",
       "            // the canvas container.\n",
       "            if (entry.devicePixelContentBoxSize) {\n",
       "                // Chrome 84 implements new version of spec.\n",
       "                canvas.setAttribute(\n",
       "                    'width',\n",
       "                    entry.devicePixelContentBoxSize[0].inlineSize\n",
       "                );\n",
       "                canvas.setAttribute(\n",
       "                    'height',\n",
       "                    entry.devicePixelContentBoxSize[0].blockSize\n",
       "                );\n",
       "            } else {\n",
       "                canvas.setAttribute('width', width * fig.ratio);\n",
       "                canvas.setAttribute('height', height * fig.ratio);\n",
       "            }\n",
       "            canvas.setAttribute(\n",
       "                'style',\n",
       "                'width: ' + width + 'px; height: ' + height + 'px;'\n",
       "            );\n",
       "\n",
       "            rubberband_canvas.setAttribute('width', width);\n",
       "            rubberband_canvas.setAttribute('height', height);\n",
       "\n",
       "            // And update the size in Python. We ignore the initial 0/0 size\n",
       "            // that occurs as the element is placed into the DOM, which should\n",
       "            // otherwise not happen due to the minimum size styling.\n",
       "            if (width != 0 && height != 0) {\n",
       "                fig.request_resize(width, height);\n",
       "            }\n",
       "        }\n",
       "    });\n",
       "    resizeObserver.observe(canvas_div);\n",
       "\n",
       "    function on_mouse_event_closure(name) {\n",
       "        return function (event) {\n",
       "            return fig.mouse_event(event, name);\n",
       "        };\n",
       "    }\n",
       "\n",
       "    rubberband_canvas.addEventListener(\n",
       "        'mousedown',\n",
       "        on_mouse_event_closure('button_press')\n",
       "    );\n",
       "    rubberband_canvas.addEventListener(\n",
       "        'mouseup',\n",
       "        on_mouse_event_closure('button_release')\n",
       "    );\n",
       "    // Throttle sequential mouse events to 1 every 20ms.\n",
       "    rubberband_canvas.addEventListener(\n",
       "        'mousemove',\n",
       "        on_mouse_event_closure('motion_notify')\n",
       "    );\n",
       "\n",
       "    rubberband_canvas.addEventListener(\n",
       "        'mouseenter',\n",
       "        on_mouse_event_closure('figure_enter')\n",
       "    );\n",
       "    rubberband_canvas.addEventListener(\n",
       "        'mouseleave',\n",
       "        on_mouse_event_closure('figure_leave')\n",
       "    );\n",
       "\n",
       "    canvas_div.addEventListener('wheel', function (event) {\n",
       "        if (event.deltaY < 0) {\n",
       "            event.step = 1;\n",
       "        } else {\n",
       "            event.step = -1;\n",
       "        }\n",
       "        on_mouse_event_closure('scroll')(event);\n",
       "    });\n",
       "\n",
       "    canvas_div.appendChild(canvas);\n",
       "    canvas_div.appendChild(rubberband_canvas);\n",
       "\n",
       "    this.rubberband_context = rubberband_canvas.getContext('2d');\n",
       "    this.rubberband_context.strokeStyle = '#000000';\n",
       "\n",
       "    this._resize_canvas = function (width, height, forward) {\n",
       "        if (forward) {\n",
       "            canvas_div.style.width = width + 'px';\n",
       "            canvas_div.style.height = height + 'px';\n",
       "        }\n",
       "    };\n",
       "\n",
       "    // Disable right mouse context menu.\n",
       "    this.rubberband_canvas.addEventListener('contextmenu', function (_e) {\n",
       "        event.preventDefault();\n",
       "        return false;\n",
       "    });\n",
       "\n",
       "    function set_focus() {\n",
       "        canvas.focus();\n",
       "        canvas_div.focus();\n",
       "    }\n",
       "\n",
       "    window.setTimeout(set_focus, 100);\n",
       "};\n",
       "\n",
       "mpl.figure.prototype._init_toolbar = function () {\n",
       "    var fig = this;\n",
       "\n",
       "    var toolbar = document.createElement('div');\n",
       "    toolbar.classList = 'mpl-toolbar';\n",
       "    this.root.appendChild(toolbar);\n",
       "\n",
       "    function on_click_closure(name) {\n",
       "        return function (_event) {\n",
       "            return fig.toolbar_button_onclick(name);\n",
       "        };\n",
       "    }\n",
       "\n",
       "    function on_mouseover_closure(tooltip) {\n",
       "        return function (event) {\n",
       "            if (!event.currentTarget.disabled) {\n",
       "                return fig.toolbar_button_onmouseover(tooltip);\n",
       "            }\n",
       "        };\n",
       "    }\n",
       "\n",
       "    fig.buttons = {};\n",
       "    var buttonGroup = document.createElement('div');\n",
       "    buttonGroup.classList = 'mpl-button-group';\n",
       "    for (var toolbar_ind in mpl.toolbar_items) {\n",
       "        var name = mpl.toolbar_items[toolbar_ind][0];\n",
       "        var tooltip = mpl.toolbar_items[toolbar_ind][1];\n",
       "        var image = mpl.toolbar_items[toolbar_ind][2];\n",
       "        var method_name = mpl.toolbar_items[toolbar_ind][3];\n",
       "\n",
       "        if (!name) {\n",
       "            /* Instead of a spacer, we start a new button group. */\n",
       "            if (buttonGroup.hasChildNodes()) {\n",
       "                toolbar.appendChild(buttonGroup);\n",
       "            }\n",
       "            buttonGroup = document.createElement('div');\n",
       "            buttonGroup.classList = 'mpl-button-group';\n",
       "            continue;\n",
       "        }\n",
       "\n",
       "        var button = (fig.buttons[name] = document.createElement('button'));\n",
       "        button.classList = 'mpl-widget';\n",
       "        button.setAttribute('role', 'button');\n",
       "        button.setAttribute('aria-disabled', 'false');\n",
       "        button.addEventListener('click', on_click_closure(method_name));\n",
       "        button.addEventListener('mouseover', on_mouseover_closure(tooltip));\n",
       "\n",
       "        var icon_img = document.createElement('img');\n",
       "        icon_img.src = '_images/' + image + '.png';\n",
       "        icon_img.srcset = '_images/' + image + '_large.png 2x';\n",
       "        icon_img.alt = tooltip;\n",
       "        button.appendChild(icon_img);\n",
       "\n",
       "        buttonGroup.appendChild(button);\n",
       "    }\n",
       "\n",
       "    if (buttonGroup.hasChildNodes()) {\n",
       "        toolbar.appendChild(buttonGroup);\n",
       "    }\n",
       "\n",
       "    var fmt_picker = document.createElement('select');\n",
       "    fmt_picker.classList = 'mpl-widget';\n",
       "    toolbar.appendChild(fmt_picker);\n",
       "    this.format_dropdown = fmt_picker;\n",
       "\n",
       "    for (var ind in mpl.extensions) {\n",
       "        var fmt = mpl.extensions[ind];\n",
       "        var option = document.createElement('option');\n",
       "        option.selected = fmt === mpl.default_extension;\n",
       "        option.innerHTML = fmt;\n",
       "        fmt_picker.appendChild(option);\n",
       "    }\n",
       "\n",
       "    var status_bar = document.createElement('span');\n",
       "    status_bar.classList = 'mpl-message';\n",
       "    toolbar.appendChild(status_bar);\n",
       "    this.message = status_bar;\n",
       "};\n",
       "\n",
       "mpl.figure.prototype.request_resize = function (x_pixels, y_pixels) {\n",
       "    // Request matplotlib to resize the figure. Matplotlib will then trigger a resize in the client,\n",
       "    // which will in turn request a refresh of the image.\n",
       "    this.send_message('resize', { width: x_pixels, height: y_pixels });\n",
       "};\n",
       "\n",
       "mpl.figure.prototype.send_message = function (type, properties) {\n",
       "    properties['type'] = type;\n",
       "    properties['figure_id'] = this.id;\n",
       "    this.ws.send(JSON.stringify(properties));\n",
       "};\n",
       "\n",
       "mpl.figure.prototype.send_draw_message = function () {\n",
       "    if (!this.waiting) {\n",
       "        this.waiting = true;\n",
       "        this.ws.send(JSON.stringify({ type: 'draw', figure_id: this.id }));\n",
       "    }\n",
       "};\n",
       "\n",
       "mpl.figure.prototype.handle_save = function (fig, _msg) {\n",
       "    var format_dropdown = fig.format_dropdown;\n",
       "    var format = format_dropdown.options[format_dropdown.selectedIndex].value;\n",
       "    fig.ondownload(fig, format);\n",
       "};\n",
       "\n",
       "mpl.figure.prototype.handle_resize = function (fig, msg) {\n",
       "    var size = msg['size'];\n",
       "    if (size[0] !== fig.canvas.width || size[1] !== fig.canvas.height) {\n",
       "        fig._resize_canvas(size[0], size[1], msg['forward']);\n",
       "        fig.send_message('refresh', {});\n",
       "    }\n",
       "};\n",
       "\n",
       "mpl.figure.prototype.handle_rubberband = function (fig, msg) {\n",
       "    var x0 = msg['x0'] / fig.ratio;\n",
       "    var y0 = (fig.canvas.height - msg['y0']) / fig.ratio;\n",
       "    var x1 = msg['x1'] / fig.ratio;\n",
       "    var y1 = (fig.canvas.height - msg['y1']) / fig.ratio;\n",
       "    x0 = Math.floor(x0) + 0.5;\n",
       "    y0 = Math.floor(y0) + 0.5;\n",
       "    x1 = Math.floor(x1) + 0.5;\n",
       "    y1 = Math.floor(y1) + 0.5;\n",
       "    var min_x = Math.min(x0, x1);\n",
       "    var min_y = Math.min(y0, y1);\n",
       "    var width = Math.abs(x1 - x0);\n",
       "    var height = Math.abs(y1 - y0);\n",
       "\n",
       "    fig.rubberband_context.clearRect(\n",
       "        0,\n",
       "        0,\n",
       "        fig.canvas.width / fig.ratio,\n",
       "        fig.canvas.height / fig.ratio\n",
       "    );\n",
       "\n",
       "    fig.rubberband_context.strokeRect(min_x, min_y, width, height);\n",
       "};\n",
       "\n",
       "mpl.figure.prototype.handle_figure_label = function (fig, msg) {\n",
       "    // Updates the figure title.\n",
       "    fig.header.textContent = msg['label'];\n",
       "};\n",
       "\n",
       "mpl.figure.prototype.handle_cursor = function (fig, msg) {\n",
       "    var cursor = msg['cursor'];\n",
       "    switch (cursor) {\n",
       "        case 0:\n",
       "            cursor = 'pointer';\n",
       "            break;\n",
       "        case 1:\n",
       "            cursor = 'default';\n",
       "            break;\n",
       "        case 2:\n",
       "            cursor = 'crosshair';\n",
       "            break;\n",
       "        case 3:\n",
       "            cursor = 'move';\n",
       "            break;\n",
       "    }\n",
       "    fig.rubberband_canvas.style.cursor = cursor;\n",
       "};\n",
       "\n",
       "mpl.figure.prototype.handle_message = function (fig, msg) {\n",
       "    fig.message.textContent = msg['message'];\n",
       "};\n",
       "\n",
       "mpl.figure.prototype.handle_draw = function (fig, _msg) {\n",
       "    // Request the server to send over a new figure.\n",
       "    fig.send_draw_message();\n",
       "};\n",
       "\n",
       "mpl.figure.prototype.handle_image_mode = function (fig, msg) {\n",
       "    fig.image_mode = msg['mode'];\n",
       "};\n",
       "\n",
       "mpl.figure.prototype.handle_history_buttons = function (fig, msg) {\n",
       "    for (var key in msg) {\n",
       "        if (!(key in fig.buttons)) {\n",
       "            continue;\n",
       "        }\n",
       "        fig.buttons[key].disabled = !msg[key];\n",
       "        fig.buttons[key].setAttribute('aria-disabled', !msg[key]);\n",
       "    }\n",
       "};\n",
       "\n",
       "mpl.figure.prototype.handle_navigate_mode = function (fig, msg) {\n",
       "    if (msg['mode'] === 'PAN') {\n",
       "        fig.buttons['Pan'].classList.add('active');\n",
       "        fig.buttons['Zoom'].classList.remove('active');\n",
       "    } else if (msg['mode'] === 'ZOOM') {\n",
       "        fig.buttons['Pan'].classList.remove('active');\n",
       "        fig.buttons['Zoom'].classList.add('active');\n",
       "    } else {\n",
       "        fig.buttons['Pan'].classList.remove('active');\n",
       "        fig.buttons['Zoom'].classList.remove('active');\n",
       "    }\n",
       "};\n",
       "\n",
       "mpl.figure.prototype.updated_canvas_event = function () {\n",
       "    // Called whenever the canvas gets updated.\n",
       "    this.send_message('ack', {});\n",
       "};\n",
       "\n",
       "// A function to construct a web socket function for onmessage handling.\n",
       "// Called in the figure constructor.\n",
       "mpl.figure.prototype._make_on_message_function = function (fig) {\n",
       "    return function socket_on_message(evt) {\n",
       "        if (evt.data instanceof Blob) {\n",
       "            /* FIXME: We get \"Resource interpreted as Image but\n",
       "             * transferred with MIME type text/plain:\" errors on\n",
       "             * Chrome.  But how to set the MIME type?  It doesn't seem\n",
       "             * to be part of the websocket stream */\n",
       "            evt.data.type = 'image/png';\n",
       "\n",
       "            /* Free the memory for the previous frames */\n",
       "            if (fig.imageObj.src) {\n",
       "                (window.URL || window.webkitURL).revokeObjectURL(\n",
       "                    fig.imageObj.src\n",
       "                );\n",
       "            }\n",
       "\n",
       "            fig.imageObj.src = (window.URL || window.webkitURL).createObjectURL(\n",
       "                evt.data\n",
       "            );\n",
       "            fig.updated_canvas_event();\n",
       "            fig.waiting = false;\n",
       "            return;\n",
       "        } else if (\n",
       "            typeof evt.data === 'string' &&\n",
       "            evt.data.slice(0, 21) === 'data:image/png;base64'\n",
       "        ) {\n",
       "            fig.imageObj.src = evt.data;\n",
       "            fig.updated_canvas_event();\n",
       "            fig.waiting = false;\n",
       "            return;\n",
       "        }\n",
       "\n",
       "        var msg = JSON.parse(evt.data);\n",
       "        var msg_type = msg['type'];\n",
       "\n",
       "        // Call the  \"handle_{type}\" callback, which takes\n",
       "        // the figure and JSON message as its only arguments.\n",
       "        try {\n",
       "            var callback = fig['handle_' + msg_type];\n",
       "        } catch (e) {\n",
       "            console.log(\n",
       "                \"No handler for the '\" + msg_type + \"' message type: \",\n",
       "                msg\n",
       "            );\n",
       "            return;\n",
       "        }\n",
       "\n",
       "        if (callback) {\n",
       "            try {\n",
       "                // console.log(\"Handling '\" + msg_type + \"' message: \", msg);\n",
       "                callback(fig, msg);\n",
       "            } catch (e) {\n",
       "                console.log(\n",
       "                    \"Exception inside the 'handler_\" + msg_type + \"' callback:\",\n",
       "                    e,\n",
       "                    e.stack,\n",
       "                    msg\n",
       "                );\n",
       "            }\n",
       "        }\n",
       "    };\n",
       "};\n",
       "\n",
       "// from http://stackoverflow.com/questions/1114465/getting-mouse-location-in-canvas\n",
       "mpl.findpos = function (e) {\n",
       "    //this section is from http://www.quirksmode.org/js/events_properties.html\n",
       "    var targ;\n",
       "    if (!e) {\n",
       "        e = window.event;\n",
       "    }\n",
       "    if (e.target) {\n",
       "        targ = e.target;\n",
       "    } else if (e.srcElement) {\n",
       "        targ = e.srcElement;\n",
       "    }\n",
       "    if (targ.nodeType === 3) {\n",
       "        // defeat Safari bug\n",
       "        targ = targ.parentNode;\n",
       "    }\n",
       "\n",
       "    // pageX,Y are the mouse positions relative to the document\n",
       "    var boundingRect = targ.getBoundingClientRect();\n",
       "    var x = e.pageX - (boundingRect.left + document.body.scrollLeft);\n",
       "    var y = e.pageY - (boundingRect.top + document.body.scrollTop);\n",
       "\n",
       "    return { x: x, y: y };\n",
       "};\n",
       "\n",
       "/*\n",
       " * return a copy of an object with only non-object keys\n",
       " * we need this to avoid circular references\n",
       " * http://stackoverflow.com/a/24161582/3208463\n",
       " */\n",
       "function simpleKeys(original) {\n",
       "    return Object.keys(original).reduce(function (obj, key) {\n",
       "        if (typeof original[key] !== 'object') {\n",
       "            obj[key] = original[key];\n",
       "        }\n",
       "        return obj;\n",
       "    }, {});\n",
       "}\n",
       "\n",
       "mpl.figure.prototype.mouse_event = function (event, name) {\n",
       "    var canvas_pos = mpl.findpos(event);\n",
       "\n",
       "    if (name === 'button_press') {\n",
       "        this.canvas.focus();\n",
       "        this.canvas_div.focus();\n",
       "    }\n",
       "\n",
       "    var x = canvas_pos.x * this.ratio;\n",
       "    var y = canvas_pos.y * this.ratio;\n",
       "\n",
       "    this.send_message(name, {\n",
       "        x: x,\n",
       "        y: y,\n",
       "        button: event.button,\n",
       "        step: event.step,\n",
       "        guiEvent: simpleKeys(event),\n",
       "    });\n",
       "\n",
       "    /* This prevents the web browser from automatically changing to\n",
       "     * the text insertion cursor when the button is pressed.  We want\n",
       "     * to control all of the cursor setting manually through the\n",
       "     * 'cursor' event from matplotlib */\n",
       "    event.preventDefault();\n",
       "    return false;\n",
       "};\n",
       "\n",
       "mpl.figure.prototype._key_event_extra = function (_event, _name) {\n",
       "    // Handle any extra behaviour associated with a key event\n",
       "};\n",
       "\n",
       "mpl.figure.prototype.key_event = function (event, name) {\n",
       "    // Prevent repeat events\n",
       "    if (name === 'key_press') {\n",
       "        if (event.which === this._key) {\n",
       "            return;\n",
       "        } else {\n",
       "            this._key = event.which;\n",
       "        }\n",
       "    }\n",
       "    if (name === 'key_release') {\n",
       "        this._key = null;\n",
       "    }\n",
       "\n",
       "    var value = '';\n",
       "    if (event.ctrlKey && event.which !== 17) {\n",
       "        value += 'ctrl+';\n",
       "    }\n",
       "    if (event.altKey && event.which !== 18) {\n",
       "        value += 'alt+';\n",
       "    }\n",
       "    if (event.shiftKey && event.which !== 16) {\n",
       "        value += 'shift+';\n",
       "    }\n",
       "\n",
       "    value += 'k';\n",
       "    value += event.which.toString();\n",
       "\n",
       "    this._key_event_extra(event, name);\n",
       "\n",
       "    this.send_message(name, { key: value, guiEvent: simpleKeys(event) });\n",
       "    return false;\n",
       "};\n",
       "\n",
       "mpl.figure.prototype.toolbar_button_onclick = function (name) {\n",
       "    if (name === 'download') {\n",
       "        this.handle_save(this, null);\n",
       "    } else {\n",
       "        this.send_message('toolbar_button', { name: name });\n",
       "    }\n",
       "};\n",
       "\n",
       "mpl.figure.prototype.toolbar_button_onmouseover = function (tooltip) {\n",
       "    this.message.textContent = tooltip;\n",
       "};\n",
       "mpl.toolbar_items = [[\"Home\", \"Reset original view\", \"fa fa-home icon-home\", \"home\"], [\"Back\", \"Back to previous view\", \"fa fa-arrow-left icon-arrow-left\", \"back\"], [\"Forward\", \"Forward to next view\", \"fa fa-arrow-right icon-arrow-right\", \"forward\"], [\"\", \"\", \"\", \"\"], [\"Pan\", \"Left button pans, Right button zooms\\nx/y fixes axis, CTRL fixes aspect\", \"fa fa-arrows icon-move\", \"pan\"], [\"Zoom\", \"Zoom to rectangle\\nx/y fixes axis, CTRL fixes aspect\", \"fa fa-square-o icon-check-empty\", \"zoom\"], [\"\", \"\", \"\", \"\"], [\"Download\", \"Download plot\", \"fa fa-floppy-o icon-save\", \"download\"]];\n",
       "\n",
       "mpl.extensions = [\"eps\", \"jpeg\", \"pdf\", \"png\", \"ps\", \"raw\", \"svg\", \"tif\"];\n",
       "\n",
       "mpl.default_extension = \"png\";/* global mpl */\n",
       "\n",
       "var comm_websocket_adapter = function (comm) {\n",
       "    // Create a \"websocket\"-like object which calls the given IPython comm\n",
       "    // object with the appropriate methods. Currently this is a non binary\n",
       "    // socket, so there is still some room for performance tuning.\n",
       "    var ws = {};\n",
       "\n",
       "    ws.close = function () {\n",
       "        comm.close();\n",
       "    };\n",
       "    ws.send = function (m) {\n",
       "        //console.log('sending', m);\n",
       "        comm.send(m);\n",
       "    };\n",
       "    // Register the callback with on_msg.\n",
       "    comm.on_msg(function (msg) {\n",
       "        //console.log('receiving', msg['content']['data'], msg);\n",
       "        // Pass the mpl event to the overridden (by mpl) onmessage function.\n",
       "        ws.onmessage(msg['content']['data']);\n",
       "    });\n",
       "    return ws;\n",
       "};\n",
       "\n",
       "mpl.mpl_figure_comm = function (comm, msg) {\n",
       "    // This is the function which gets called when the mpl process\n",
       "    // starts-up an IPython Comm through the \"matplotlib\" channel.\n",
       "\n",
       "    var id = msg.content.data.id;\n",
       "    // Get hold of the div created by the display call when the Comm\n",
       "    // socket was opened in Python.\n",
       "    var element = document.getElementById(id);\n",
       "    var ws_proxy = comm_websocket_adapter(comm);\n",
       "\n",
       "    function ondownload(figure, _format) {\n",
       "        window.open(figure.canvas.toDataURL());\n",
       "    }\n",
       "\n",
       "    var fig = new mpl.figure(id, ws_proxy, ondownload, element);\n",
       "\n",
       "    // Call onopen now - mpl needs it, as it is assuming we've passed it a real\n",
       "    // web socket which is closed, not our websocket->open comm proxy.\n",
       "    ws_proxy.onopen();\n",
       "\n",
       "    fig.parent_element = element;\n",
       "    fig.cell_info = mpl.find_output_cell(\"<div id='\" + id + \"'></div>\");\n",
       "    if (!fig.cell_info) {\n",
       "        console.error('Failed to find cell for figure', id, fig);\n",
       "        return;\n",
       "    }\n",
       "    fig.cell_info[0].output_area.element.one(\n",
       "        'cleared',\n",
       "        { fig: fig },\n",
       "        fig._remove_fig_handler\n",
       "    );\n",
       "};\n",
       "\n",
       "mpl.figure.prototype.handle_close = function (fig, msg) {\n",
       "    var width = fig.canvas.width / fig.ratio;\n",
       "    fig.cell_info[0].output_area.element.off(\n",
       "        'cleared',\n",
       "        fig._remove_fig_handler\n",
       "    );\n",
       "\n",
       "    // Update the output cell to use the data from the current canvas.\n",
       "    fig.push_to_output();\n",
       "    var dataURL = fig.canvas.toDataURL();\n",
       "    // Re-enable the keyboard manager in IPython - without this line, in FF,\n",
       "    // the notebook keyboard shortcuts fail.\n",
       "    IPython.keyboard_manager.enable();\n",
       "    fig.parent_element.innerHTML =\n",
       "        '<img src=\"' + dataURL + '\" width=\"' + width + '\">';\n",
       "    fig.close_ws(fig, msg);\n",
       "};\n",
       "\n",
       "mpl.figure.prototype.close_ws = function (fig, msg) {\n",
       "    fig.send_message('closing', msg);\n",
       "    // fig.ws.close()\n",
       "};\n",
       "\n",
       "mpl.figure.prototype.push_to_output = function (_remove_interactive) {\n",
       "    // Turn the data on the canvas into data in the output cell.\n",
       "    var width = this.canvas.width / this.ratio;\n",
       "    var dataURL = this.canvas.toDataURL();\n",
       "    this.cell_info[1]['text/html'] =\n",
       "        '<img src=\"' + dataURL + '\" width=\"' + width + '\">';\n",
       "};\n",
       "\n",
       "mpl.figure.prototype.updated_canvas_event = function () {\n",
       "    // Tell IPython that the notebook contents must change.\n",
       "    IPython.notebook.set_dirty(true);\n",
       "    this.send_message('ack', {});\n",
       "    var fig = this;\n",
       "    // Wait a second, then push the new image to the DOM so\n",
       "    // that it is saved nicely (might be nice to debounce this).\n",
       "    setTimeout(function () {\n",
       "        fig.push_to_output();\n",
       "    }, 1000);\n",
       "};\n",
       "\n",
       "mpl.figure.prototype._init_toolbar = function () {\n",
       "    var fig = this;\n",
       "\n",
       "    var toolbar = document.createElement('div');\n",
       "    toolbar.classList = 'btn-toolbar';\n",
       "    this.root.appendChild(toolbar);\n",
       "\n",
       "    function on_click_closure(name) {\n",
       "        return function (_event) {\n",
       "            return fig.toolbar_button_onclick(name);\n",
       "        };\n",
       "    }\n",
       "\n",
       "    function on_mouseover_closure(tooltip) {\n",
       "        return function (event) {\n",
       "            if (!event.currentTarget.disabled) {\n",
       "                return fig.toolbar_button_onmouseover(tooltip);\n",
       "            }\n",
       "        };\n",
       "    }\n",
       "\n",
       "    fig.buttons = {};\n",
       "    var buttonGroup = document.createElement('div');\n",
       "    buttonGroup.classList = 'btn-group';\n",
       "    var button;\n",
       "    for (var toolbar_ind in mpl.toolbar_items) {\n",
       "        var name = mpl.toolbar_items[toolbar_ind][0];\n",
       "        var tooltip = mpl.toolbar_items[toolbar_ind][1];\n",
       "        var image = mpl.toolbar_items[toolbar_ind][2];\n",
       "        var method_name = mpl.toolbar_items[toolbar_ind][3];\n",
       "\n",
       "        if (!name) {\n",
       "            /* Instead of a spacer, we start a new button group. */\n",
       "            if (buttonGroup.hasChildNodes()) {\n",
       "                toolbar.appendChild(buttonGroup);\n",
       "            }\n",
       "            buttonGroup = document.createElement('div');\n",
       "            buttonGroup.classList = 'btn-group';\n",
       "            continue;\n",
       "        }\n",
       "\n",
       "        button = fig.buttons[name] = document.createElement('button');\n",
       "        button.classList = 'btn btn-default';\n",
       "        button.href = '#';\n",
       "        button.title = name;\n",
       "        button.innerHTML = '<i class=\"fa ' + image + ' fa-lg\"></i>';\n",
       "        button.addEventListener('click', on_click_closure(method_name));\n",
       "        button.addEventListener('mouseover', on_mouseover_closure(tooltip));\n",
       "        buttonGroup.appendChild(button);\n",
       "    }\n",
       "\n",
       "    if (buttonGroup.hasChildNodes()) {\n",
       "        toolbar.appendChild(buttonGroup);\n",
       "    }\n",
       "\n",
       "    // Add the status bar.\n",
       "    var status_bar = document.createElement('span');\n",
       "    status_bar.classList = 'mpl-message pull-right';\n",
       "    toolbar.appendChild(status_bar);\n",
       "    this.message = status_bar;\n",
       "\n",
       "    // Add the close button to the window.\n",
       "    var buttongrp = document.createElement('div');\n",
       "    buttongrp.classList = 'btn-group inline pull-right';\n",
       "    button = document.createElement('button');\n",
       "    button.classList = 'btn btn-mini btn-primary';\n",
       "    button.href = '#';\n",
       "    button.title = 'Stop Interaction';\n",
       "    button.innerHTML = '<i class=\"fa fa-power-off icon-remove icon-large\"></i>';\n",
       "    button.addEventListener('click', function (_evt) {\n",
       "        fig.handle_close(fig, {});\n",
       "    });\n",
       "    button.addEventListener(\n",
       "        'mouseover',\n",
       "        on_mouseover_closure('Stop Interaction')\n",
       "    );\n",
       "    buttongrp.appendChild(button);\n",
       "    var titlebar = this.root.querySelector('.ui-dialog-titlebar');\n",
       "    titlebar.insertBefore(buttongrp, titlebar.firstChild);\n",
       "};\n",
       "\n",
       "mpl.figure.prototype._remove_fig_handler = function (event) {\n",
       "    var fig = event.data.fig;\n",
       "    fig.close_ws(fig, {});\n",
       "};\n",
       "\n",
       "mpl.figure.prototype._root_extra_style = function (el) {\n",
       "    el.style.boxSizing = 'content-box'; // override notebook setting of border-box.\n",
       "};\n",
       "\n",
       "mpl.figure.prototype._canvas_extra_style = function (el) {\n",
       "    // this is important to make the div 'focusable\n",
       "    el.setAttribute('tabindex', 0);\n",
       "    // reach out to IPython and tell the keyboard manager to turn it's self\n",
       "    // off when our div gets focus\n",
       "\n",
       "    // location in version 3\n",
       "    if (IPython.notebook.keyboard_manager) {\n",
       "        IPython.notebook.keyboard_manager.register_events(el);\n",
       "    } else {\n",
       "        // location in version 2\n",
       "        IPython.keyboard_manager.register_events(el);\n",
       "    }\n",
       "};\n",
       "\n",
       "mpl.figure.prototype._key_event_extra = function (event, _name) {\n",
       "    var manager = IPython.notebook.keyboard_manager;\n",
       "    if (!manager) {\n",
       "        manager = IPython.keyboard_manager;\n",
       "    }\n",
       "\n",
       "    // Check for shift+enter\n",
       "    if (event.shiftKey && event.which === 13) {\n",
       "        this.canvas_div.blur();\n",
       "        // select the cell after this one\n",
       "        var index = IPython.notebook.find_cell_index(this.cell_info[0]);\n",
       "        IPython.notebook.select(index + 1);\n",
       "    }\n",
       "};\n",
       "\n",
       "mpl.figure.prototype.handle_save = function (fig, _msg) {\n",
       "    fig.ondownload(fig, null);\n",
       "};\n",
       "\n",
       "mpl.find_output_cell = function (html_output) {\n",
       "    // Return the cell and output element which can be found *uniquely* in the notebook.\n",
       "    // Note - this is a bit hacky, but it is done because the \"notebook_saving.Notebook\"\n",
       "    // IPython event is triggered only after the cells have been serialised, which for\n",
       "    // our purposes (turning an active figure into a static one), is too late.\n",
       "    var cells = IPython.notebook.get_cells();\n",
       "    var ncells = cells.length;\n",
       "    for (var i = 0; i < ncells; i++) {\n",
       "        var cell = cells[i];\n",
       "        if (cell.cell_type === 'code') {\n",
       "            for (var j = 0; j < cell.output_area.outputs.length; j++) {\n",
       "                var data = cell.output_area.outputs[j];\n",
       "                if (data.data) {\n",
       "                    // IPython >= 3 moved mimebundle to data attribute of output\n",
       "                    data = data.data;\n",
       "                }\n",
       "                if (data['text/html'] === html_output) {\n",
       "                    return [cell, data, j];\n",
       "                }\n",
       "            }\n",
       "        }\n",
       "    }\n",
       "};\n",
       "\n",
       "// Register the function which deals with the matplotlib target/channel.\n",
       "// The kernel may be null if the page has been refreshed.\n",
       "if (IPython.notebook.kernel !== null) {\n",
       "    IPython.notebook.kernel.comm_manager.register_target(\n",
       "        'matplotlib',\n",
       "        mpl.mpl_figure_comm\n",
       "    );\n",
       "}\n"
      ],
      "text/plain": [
       "<IPython.core.display.Javascript object>"
      ]
     },
     "metadata": {},
     "output_type": "display_data"
    },
    {
     "data": {
      "text/html": [
       "<img src=\"data:image/png;base64,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\" width=\"640\">"
      ],
      "text/plain": [
       "<IPython.core.display.HTML object>"
      ]
     },
     "metadata": {},
     "output_type": "display_data"
    },
    {
     "data": {
      "text/plain": [
       "<AxesSubplot:>"
      ]
     },
     "execution_count": 65,
     "metadata": {},
     "output_type": "execute_result"
    }
   ],
   "source": [
    "sorted_groups_df.boxplot()"
   ]
  },
  {
   "cell_type": "code",
   "execution_count": null,
   "id": "phantom-activation",
   "metadata": {},
   "outputs": [],
   "source": [
    "# def compare_clusters(num_of_clusters):\n",
    "#     sorted_groups_df = pd.DataFrame()\n",
    "#     for i in num_of_clusters:\n",
    "#         KM = KMeans(n_clusters = i, random_state=0) \n",
    "#         KM.fit(X)\n",
    "#         labels = pd.DataFrame(KM.labels_, columns=['label'], index=praw_askreddit_score_50_df.index)\n",
    "#         labeled_df = pd.concat([praw_askreddit_score_50_df, labels],axis=1)\n",
    "#         score_label_df = labeled_df[['score','label']]\n",
    "#         groups = score_label_df.groupby('label')\n",
    "#         sorted_medians = groups['score'].median().sort_values()\n",
    "#         for j in sorted_medians.index:\n",
    "#             sorted_groups_df = pd.concat([sorted_groups_df, groups.get_group(j)['score'].rename(str(i)+\".\"+str(j))], ignore_index=True, axis=1) \n",
    "#     sorted_groups_df.boxplot()  \n",
    "\n",
    "# num_of_clusters_list = [10,5,3]\n",
    "# compare_clusters(num_of_clusters_list)"
   ]
  },
  {
   "cell_type": "markdown",
   "id": "least-shadow",
   "metadata": {},
   "source": [
    "## Devide samples into train and validation"
   ]
  },
  {
   "cell_type": "code",
   "execution_count": 47,
   "id": "colonial-arctic",
   "metadata": {},
   "outputs": [
    {
     "name": "stdout",
     "output_type": "stream",
     "text": [
      "5222\n",
      "4756\n"
     ]
    }
   ],
   "source": [
    "median_week = labeled_df['week_of_year'].median()\n",
    "train = labeled_df[labeled_df['week_of_year'] <= median_week]\n",
    "validation = labeled_df[labeled_df['week_of_year'] > median_week]\n",
    "print(len(train))\n",
    "print(len(validation))"
   ]
  },
  {
   "cell_type": "code",
   "execution_count": 124,
   "id": "central-satin",
   "metadata": {},
   "outputs": [
    {
     "data": {
      "text/plain": [
       "0    4521\n",
       "8     256\n",
       "9     121\n",
       "4      72\n",
       "1      63\n",
       "5      62\n",
       "2      59\n",
       "6      47\n",
       "3      18\n",
       "7       3\n",
       "Name: label, dtype: int64"
      ]
     },
     "execution_count": 124,
     "metadata": {},
     "output_type": "execute_result"
    }
   ],
   "source": [
    "train['label'].value_counts()"
   ]
  },
  {
   "cell_type": "markdown",
   "id": "posted-rolling",
   "metadata": {},
   "source": [
    "## Models"
   ]
  },
  {
   "cell_type": "markdown",
   "id": "residential-cover",
   "metadata": {},
   "source": [
    "### Decision trees"
   ]
  },
  {
   "cell_type": "code",
   "execution_count": 125,
   "id": "fixed-johns",
   "metadata": {},
   "outputs": [],
   "source": [
    "from sklearn.tree import DecisionTreeClassifier\n",
    "from sklearn import metrics\n",
    "\n",
    "feature_cols = ['title_lenght', 'hour_of_day', 'day_of_week', 'serious_replies', 'over_18', 'spoiler']\n",
    "X_train = train[feature_cols] \n",
    "y_train = train['label']"
   ]
  },
  {
   "cell_type": "code",
   "execution_count": 126,
   "id": "metropolitan-twins",
   "metadata": {},
   "outputs": [],
   "source": [
    "X_valid = validation[feature_cols]\n",
    "y_valid = validation['label']"
   ]
  },
  {
   "cell_type": "code",
   "execution_count": 127,
   "id": "weird-paintball",
   "metadata": {},
   "outputs": [],
   "source": [
    "clf = DecisionTreeClassifier()\n",
    "\n",
    "clf = clf.fit(X_train,y_train)\n",
    "\n",
    "y_pred = clf.predict(X_valid)"
   ]
  },
  {
   "cell_type": "code",
   "execution_count": 133,
   "id": "average-coordinator",
   "metadata": {},
   "outputs": [
    {
     "data": {
      "text/plain": [
       "array([0.36844869, 0.29376469, 0.26247023, 0.03632602, 0.03551294,\n",
       "       0.00347743])"
      ]
     },
     "execution_count": 133,
     "metadata": {},
     "output_type": "execute_result"
    }
   ],
   "source": [
    "clf.feature_importances_"
   ]
  },
  {
   "cell_type": "code",
   "execution_count": 128,
   "id": "western-cycle",
   "metadata": {},
   "outputs": [
    {
     "name": "stdout",
     "output_type": "stream",
     "text": [
      "Accuracy: 0.7798570227081582\n"
     ]
    }
   ],
   "source": [
    "print(\"Accuracy:\",metrics.accuracy_score(y_valid, y_pred))"
   ]
  },
  {
   "cell_type": "code",
   "execution_count": null,
   "id": "distinguished-worship",
   "metadata": {},
   "outputs": [],
   "source": [
    "from sklearn import tree\n",
    "tree.plot_tree(clf) "
   ]
  },
  {
   "cell_type": "code",
   "execution_count": 129,
   "id": "driven-above",
   "metadata": {},
   "outputs": [
    {
     "data": {
      "text/plain": [
       "0    4290\n",
       "8     187\n",
       "9      75\n",
       "4      52\n",
       "5      40\n",
       "6      40\n",
       "1      39\n",
       "2      28\n",
       "3       4\n",
       "7       1\n",
       "dtype: int64"
      ]
     },
     "execution_count": 129,
     "metadata": {},
     "output_type": "execute_result"
    }
   ],
   "source": [
    "pd.DataFrame(y_pred).value_counts()"
   ]
  },
  {
   "cell_type": "code",
   "execution_count": 130,
   "id": "compound-needle",
   "metadata": {},
   "outputs": [],
   "source": [
    "y_pred_df = pd.DataFrame(y_pred, columns=['predicted_label'], index=y_valid.index)\n",
    "results = pd.concat([y_valid,y_pred_df], axis=1)"
   ]
  },
  {
   "cell_type": "code",
   "execution_count": 131,
   "id": "laden-following",
   "metadata": {},
   "outputs": [
    {
     "data": {
      "text/html": [
       "<div>\n",
       "<style scoped>\n",
       "    .dataframe tbody tr th:only-of-type {\n",
       "        vertical-align: middle;\n",
       "    }\n",
       "\n",
       "    .dataframe tbody tr th {\n",
       "        vertical-align: top;\n",
       "    }\n",
       "\n",
       "    .dataframe thead th {\n",
       "        text-align: right;\n",
       "    }\n",
       "</style>\n",
       "<table border=\"1\" class=\"dataframe\">\n",
       "  <thead>\n",
       "    <tr style=\"text-align: right;\">\n",
       "      <th></th>\n",
       "      <th>label</th>\n",
       "      <th>predicted_label</th>\n",
       "    </tr>\n",
       "  </thead>\n",
       "  <tbody>\n",
       "    <tr>\n",
       "      <th>168</th>\n",
       "      <td>0</td>\n",
       "      <td>0</td>\n",
       "    </tr>\n",
       "    <tr>\n",
       "      <th>222</th>\n",
       "      <td>9</td>\n",
       "      <td>0</td>\n",
       "    </tr>\n",
       "    <tr>\n",
       "      <th>239</th>\n",
       "      <td>0</td>\n",
       "      <td>0</td>\n",
       "    </tr>\n",
       "    <tr>\n",
       "      <th>261</th>\n",
       "      <td>0</td>\n",
       "      <td>0</td>\n",
       "    </tr>\n",
       "    <tr>\n",
       "      <th>275</th>\n",
       "      <td>0</td>\n",
       "      <td>0</td>\n",
       "    </tr>\n",
       "    <tr>\n",
       "      <th>...</th>\n",
       "      <td>...</td>\n",
       "      <td>...</td>\n",
       "    </tr>\n",
       "    <tr>\n",
       "      <th>883090</th>\n",
       "      <td>0</td>\n",
       "      <td>0</td>\n",
       "    </tr>\n",
       "    <tr>\n",
       "      <th>883279</th>\n",
       "      <td>8</td>\n",
       "      <td>0</td>\n",
       "    </tr>\n",
       "    <tr>\n",
       "      <th>999423</th>\n",
       "      <td>0</td>\n",
       "      <td>0</td>\n",
       "    </tr>\n",
       "    <tr>\n",
       "      <th>999645</th>\n",
       "      <td>8</td>\n",
       "      <td>0</td>\n",
       "    </tr>\n",
       "    <tr>\n",
       "      <th>999923</th>\n",
       "      <td>7</td>\n",
       "      <td>0</td>\n",
       "    </tr>\n",
       "  </tbody>\n",
       "</table>\n",
       "<p>4756 rows × 2 columns</p>\n",
       "</div>"
      ],
      "text/plain": [
       "        label  predicted_label\n",
       "168         0                0\n",
       "222         9                0\n",
       "239         0                0\n",
       "261         0                0\n",
       "275         0                0\n",
       "...       ...              ...\n",
       "883090      0                0\n",
       "883279      8                0\n",
       "999423      0                0\n",
       "999645      8                0\n",
       "999923      7                0\n",
       "\n",
       "[4756 rows x 2 columns]"
      ]
     },
     "execution_count": 131,
     "metadata": {},
     "output_type": "execute_result"
    }
   ],
   "source": [
    "results"
   ]
  },
  {
   "cell_type": "code",
   "execution_count": 132,
   "id": "later-living",
   "metadata": {},
   "outputs": [
    {
     "data": {
      "text/html": [
       "<div>\n",
       "<style scoped>\n",
       "    .dataframe tbody tr th:only-of-type {\n",
       "        vertical-align: middle;\n",
       "    }\n",
       "\n",
       "    .dataframe tbody tr th {\n",
       "        vertical-align: top;\n",
       "    }\n",
       "\n",
       "    .dataframe thead th {\n",
       "        text-align: right;\n",
       "    }\n",
       "</style>\n",
       "<table border=\"1\" class=\"dataframe\">\n",
       "  <thead>\n",
       "    <tr style=\"text-align: right;\">\n",
       "      <th></th>\n",
       "      <th>0</th>\n",
       "      <th>1</th>\n",
       "      <th>2</th>\n",
       "      <th>3</th>\n",
       "      <th>4</th>\n",
       "      <th>5</th>\n",
       "      <th>6</th>\n",
       "      <th>7</th>\n",
       "      <th>8</th>\n",
       "      <th>9</th>\n",
       "    </tr>\n",
       "  </thead>\n",
       "  <tbody>\n",
       "    <tr>\n",
       "      <th>0</th>\n",
       "      <td>3694</td>\n",
       "      <td>50.0</td>\n",
       "      <td>47.0</td>\n",
       "      <td>13.0</td>\n",
       "      <td>68.0</td>\n",
       "      <td>50.0</td>\n",
       "      <td>38.0</td>\n",
       "      <td>4.0</td>\n",
       "      <td>229.0</td>\n",
       "      <td>97.0</td>\n",
       "    </tr>\n",
       "    <tr>\n",
       "      <th>1</th>\n",
       "      <td>34</td>\n",
       "      <td>NaN</td>\n",
       "      <td>2.0</td>\n",
       "      <td>NaN</td>\n",
       "      <td>NaN</td>\n",
       "      <td>1.0</td>\n",
       "      <td>1.0</td>\n",
       "      <td>NaN</td>\n",
       "      <td>NaN</td>\n",
       "      <td>1.0</td>\n",
       "    </tr>\n",
       "    <tr>\n",
       "      <th>2</th>\n",
       "      <td>23</td>\n",
       "      <td>NaN</td>\n",
       "      <td>NaN</td>\n",
       "      <td>NaN</td>\n",
       "      <td>NaN</td>\n",
       "      <td>NaN</td>\n",
       "      <td>NaN</td>\n",
       "      <td>NaN</td>\n",
       "      <td>3.0</td>\n",
       "      <td>2.0</td>\n",
       "    </tr>\n",
       "    <tr>\n",
       "      <th>3</th>\n",
       "      <td>4</td>\n",
       "      <td>NaN</td>\n",
       "      <td>NaN</td>\n",
       "      <td>NaN</td>\n",
       "      <td>NaN</td>\n",
       "      <td>NaN</td>\n",
       "      <td>NaN</td>\n",
       "      <td>NaN</td>\n",
       "      <td>NaN</td>\n",
       "      <td>NaN</td>\n",
       "    </tr>\n",
       "    <tr>\n",
       "      <th>4</th>\n",
       "      <td>47</td>\n",
       "      <td>NaN</td>\n",
       "      <td>1.0</td>\n",
       "      <td>NaN</td>\n",
       "      <td>1.0</td>\n",
       "      <td>1.0</td>\n",
       "      <td>NaN</td>\n",
       "      <td>NaN</td>\n",
       "      <td>1.0</td>\n",
       "      <td>1.0</td>\n",
       "    </tr>\n",
       "    <tr>\n",
       "      <th>5</th>\n",
       "      <td>30</td>\n",
       "      <td>NaN</td>\n",
       "      <td>2.0</td>\n",
       "      <td>1.0</td>\n",
       "      <td>1.0</td>\n",
       "      <td>1.0</td>\n",
       "      <td>NaN</td>\n",
       "      <td>NaN</td>\n",
       "      <td>2.0</td>\n",
       "      <td>3.0</td>\n",
       "    </tr>\n",
       "    <tr>\n",
       "      <th>6</th>\n",
       "      <td>35</td>\n",
       "      <td>NaN</td>\n",
       "      <td>NaN</td>\n",
       "      <td>NaN</td>\n",
       "      <td>NaN</td>\n",
       "      <td>1.0</td>\n",
       "      <td>NaN</td>\n",
       "      <td>NaN</td>\n",
       "      <td>4.0</td>\n",
       "      <td>NaN</td>\n",
       "    </tr>\n",
       "    <tr>\n",
       "      <th>7</th>\n",
       "      <td>1</td>\n",
       "      <td>NaN</td>\n",
       "      <td>NaN</td>\n",
       "      <td>NaN</td>\n",
       "      <td>NaN</td>\n",
       "      <td>NaN</td>\n",
       "      <td>NaN</td>\n",
       "      <td>NaN</td>\n",
       "      <td>NaN</td>\n",
       "      <td>NaN</td>\n",
       "    </tr>\n",
       "    <tr>\n",
       "      <th>8</th>\n",
       "      <td>159</td>\n",
       "      <td>1.0</td>\n",
       "      <td>2.0</td>\n",
       "      <td>NaN</td>\n",
       "      <td>2.0</td>\n",
       "      <td>6.0</td>\n",
       "      <td>NaN</td>\n",
       "      <td>1.0</td>\n",
       "      <td>10.0</td>\n",
       "      <td>6.0</td>\n",
       "    </tr>\n",
       "    <tr>\n",
       "      <th>9</th>\n",
       "      <td>60</td>\n",
       "      <td>4.0</td>\n",
       "      <td>NaN</td>\n",
       "      <td>NaN</td>\n",
       "      <td>2.0</td>\n",
       "      <td>1.0</td>\n",
       "      <td>NaN</td>\n",
       "      <td>NaN</td>\n",
       "      <td>5.0</td>\n",
       "      <td>3.0</td>\n",
       "    </tr>\n",
       "  </tbody>\n",
       "</table>\n",
       "</div>"
      ],
      "text/plain": [
       "      0     1     2     3     4     5     6    7      8     9\n",
       "0  3694  50.0  47.0  13.0  68.0  50.0  38.0  4.0  229.0  97.0\n",
       "1    34   NaN   2.0   NaN   NaN   1.0   1.0  NaN    NaN   1.0\n",
       "2    23   NaN   NaN   NaN   NaN   NaN   NaN  NaN    3.0   2.0\n",
       "3     4   NaN   NaN   NaN   NaN   NaN   NaN  NaN    NaN   NaN\n",
       "4    47   NaN   1.0   NaN   1.0   1.0   NaN  NaN    1.0   1.0\n",
       "5    30   NaN   2.0   1.0   1.0   1.0   NaN  NaN    2.0   3.0\n",
       "6    35   NaN   NaN   NaN   NaN   1.0   NaN  NaN    4.0   NaN\n",
       "7     1   NaN   NaN   NaN   NaN   NaN   NaN  NaN    NaN   NaN\n",
       "8   159   1.0   2.0   NaN   2.0   6.0   NaN  1.0   10.0   6.0\n",
       "9    60   4.0   NaN   NaN   2.0   1.0   NaN  NaN    5.0   3.0"
      ]
     },
     "execution_count": 132,
     "metadata": {},
     "output_type": "execute_result"
    }
   ],
   "source": [
    "result_groups = results.groupby('label')\n",
    "group_value_counts = pd.DataFrame(index = list(range(10)))\n",
    "for name, group in result_groups:\n",
    "    group_value_counts = pd.concat([group_value_counts,group['predicted_label'].value_counts().rename(name)], axis=1)\n",
    "\n",
    "group_value_counts"
   ]
  },
  {
   "cell_type": "markdown",
   "id": "digital-scene",
   "metadata": {},
   "source": [
    "As expected most of the samples in class 0 got correct predictions."
   ]
  },
  {
   "cell_type": "code",
   "execution_count": 134,
   "id": "first-triumph",
   "metadata": {},
   "outputs": [
    {
     "name": "stdout",
     "output_type": "stream",
     "text": [
      "              precision    recall  f1-score   support\n",
      "\n",
      "           0       0.86      0.90      0.88      4087\n",
      "           1       0.00      0.00      0.00        55\n",
      "           2       0.00      0.00      0.00        54\n",
      "           3       0.00      0.00      0.00        14\n",
      "           4       0.02      0.01      0.02        74\n",
      "           5       0.03      0.02      0.02        61\n",
      "           6       0.00      0.00      0.00        39\n",
      "           7       0.00      0.00      0.00         5\n",
      "           8       0.05      0.04      0.05       254\n",
      "           9       0.04      0.03      0.03       113\n",
      "\n",
      "    accuracy                           0.78      4756\n",
      "   macro avg       0.10      0.10      0.10      4756\n",
      "weighted avg       0.74      0.78      0.76      4756\n",
      "\n"
     ]
    }
   ],
   "source": [
    "from sklearn.metrics import classification_report\n",
    "labels_list=[0, 1, 2, 3, 4, 5, 6, 7, 8, 9]\n",
    "print(classification_report(y_valid, y_pred, labels=labels_list))"
   ]
  },
  {
   "cell_type": "markdown",
   "id": "structured-disabled",
   "metadata": {},
   "source": [
    "First let's see what happens if we remove class 0"
   ]
  },
  {
   "cell_type": "markdown",
   "id": "advanced-mouse",
   "metadata": {},
   "source": [
    "## Balance train labels"
   ]
  },
  {
   "cell_type": "code",
   "execution_count": 119,
   "id": "quality-procedure",
   "metadata": {},
   "outputs": [
    {
     "name": "stdout",
     "output_type": "stream",
     "text": [
      "0.7.0\n"
     ]
    }
   ],
   "source": [
    "# check version number\n",
    "import imblearn\n",
    "print(imblearn.__version__)"
   ]
  },
  {
   "cell_type": "code",
   "execution_count": 120,
   "id": "french-prairie",
   "metadata": {},
   "outputs": [
    {
     "ename": "ValueError",
     "evalue": "Expected n_neighbors <= n_samples,  but n_samples = 3, n_neighbors = 6",
     "output_type": "error",
     "traceback": [
      "\u001b[1;31m---------------------------------------------------------------------------\u001b[0m",
      "\u001b[1;31mValueError\u001b[0m                                Traceback (most recent call last)",
      "\u001b[1;32m<ipython-input-120-43370804df40>\u001b[0m in \u001b[0;36m<module>\u001b[1;34m\u001b[0m\n\u001b[0;32m      5\u001b[0m \u001b[1;31m# transform the dataset\u001b[0m\u001b[1;33m\u001b[0m\u001b[1;33m\u001b[0m\u001b[1;33m\u001b[0m\u001b[0m\n\u001b[0;32m      6\u001b[0m \u001b[0moversample\u001b[0m \u001b[1;33m=\u001b[0m \u001b[0mSMOTE\u001b[0m\u001b[1;33m(\u001b[0m\u001b[1;33m)\u001b[0m\u001b[1;33m\u001b[0m\u001b[1;33m\u001b[0m\u001b[0m\n\u001b[1;32m----> 7\u001b[1;33m \u001b[0mX\u001b[0m\u001b[1;33m,\u001b[0m \u001b[0my\u001b[0m \u001b[1;33m=\u001b[0m \u001b[0moversample\u001b[0m\u001b[1;33m.\u001b[0m\u001b[0mfit_resample\u001b[0m\u001b[1;33m(\u001b[0m\u001b[0mX_train\u001b[0m\u001b[1;33m,\u001b[0m \u001b[0my_train\u001b[0m\u001b[1;33m)\u001b[0m\u001b[1;33m\u001b[0m\u001b[1;33m\u001b[0m\u001b[0m\n\u001b[0m",
      "\u001b[1;32m~\\anaconda3\\lib\\site-packages\\imblearn\\base.py\u001b[0m in \u001b[0;36mfit_resample\u001b[1;34m(self, X, y)\u001b[0m\n\u001b[0;32m     81\u001b[0m         )\n\u001b[0;32m     82\u001b[0m \u001b[1;33m\u001b[0m\u001b[0m\n\u001b[1;32m---> 83\u001b[1;33m         \u001b[0moutput\u001b[0m \u001b[1;33m=\u001b[0m \u001b[0mself\u001b[0m\u001b[1;33m.\u001b[0m\u001b[0m_fit_resample\u001b[0m\u001b[1;33m(\u001b[0m\u001b[0mX\u001b[0m\u001b[1;33m,\u001b[0m \u001b[0my\u001b[0m\u001b[1;33m)\u001b[0m\u001b[1;33m\u001b[0m\u001b[1;33m\u001b[0m\u001b[0m\n\u001b[0m\u001b[0;32m     84\u001b[0m \u001b[1;33m\u001b[0m\u001b[0m\n\u001b[0;32m     85\u001b[0m         y_ = (label_binarize(output[1], np.unique(y))\n",
      "\u001b[1;32m~\\anaconda3\\lib\\site-packages\\imblearn\\over_sampling\\_smote.py\u001b[0m in \u001b[0;36m_fit_resample\u001b[1;34m(self, X, y)\u001b[0m\n\u001b[0;32m    730\u001b[0m \u001b[1;33m\u001b[0m\u001b[0m\n\u001b[0;32m    731\u001b[0m             \u001b[0mself\u001b[0m\u001b[1;33m.\u001b[0m\u001b[0mnn_k_\u001b[0m\u001b[1;33m.\u001b[0m\u001b[0mfit\u001b[0m\u001b[1;33m(\u001b[0m\u001b[0mX_class\u001b[0m\u001b[1;33m)\u001b[0m\u001b[1;33m\u001b[0m\u001b[1;33m\u001b[0m\u001b[0m\n\u001b[1;32m--> 732\u001b[1;33m             \u001b[0mnns\u001b[0m \u001b[1;33m=\u001b[0m \u001b[0mself\u001b[0m\u001b[1;33m.\u001b[0m\u001b[0mnn_k_\u001b[0m\u001b[1;33m.\u001b[0m\u001b[0mkneighbors\u001b[0m\u001b[1;33m(\u001b[0m\u001b[0mX_class\u001b[0m\u001b[1;33m,\u001b[0m \u001b[0mreturn_distance\u001b[0m\u001b[1;33m=\u001b[0m\u001b[1;32mFalse\u001b[0m\u001b[1;33m)\u001b[0m\u001b[1;33m[\u001b[0m\u001b[1;33m:\u001b[0m\u001b[1;33m,\u001b[0m \u001b[1;36m1\u001b[0m\u001b[1;33m:\u001b[0m\u001b[1;33m]\u001b[0m\u001b[1;33m\u001b[0m\u001b[1;33m\u001b[0m\u001b[0m\n\u001b[0m\u001b[0;32m    733\u001b[0m             X_new, y_new = self._make_samples(\n\u001b[0;32m    734\u001b[0m                 \u001b[0mX_class\u001b[0m\u001b[1;33m,\u001b[0m \u001b[0my\u001b[0m\u001b[1;33m.\u001b[0m\u001b[0mdtype\u001b[0m\u001b[1;33m,\u001b[0m \u001b[0mclass_sample\u001b[0m\u001b[1;33m,\u001b[0m \u001b[0mX_class\u001b[0m\u001b[1;33m,\u001b[0m \u001b[0mnns\u001b[0m\u001b[1;33m,\u001b[0m \u001b[0mn_samples\u001b[0m\u001b[1;33m,\u001b[0m \u001b[1;36m1.0\u001b[0m\u001b[1;33m\u001b[0m\u001b[1;33m\u001b[0m\u001b[0m\n",
      "\u001b[1;32m~\\anaconda3\\lib\\site-packages\\sklearn\\neighbors\\_base.py\u001b[0m in \u001b[0;36mkneighbors\u001b[1;34m(self, X, n_neighbors, return_distance)\u001b[0m\n\u001b[0;32m    614\u001b[0m         \u001b[0mn_samples_fit\u001b[0m \u001b[1;33m=\u001b[0m \u001b[0mself\u001b[0m\u001b[1;33m.\u001b[0m\u001b[0mn_samples_fit_\u001b[0m\u001b[1;33m\u001b[0m\u001b[1;33m\u001b[0m\u001b[0m\n\u001b[0;32m    615\u001b[0m         \u001b[1;32mif\u001b[0m \u001b[0mn_neighbors\u001b[0m \u001b[1;33m>\u001b[0m \u001b[0mn_samples_fit\u001b[0m\u001b[1;33m:\u001b[0m\u001b[1;33m\u001b[0m\u001b[1;33m\u001b[0m\u001b[0m\n\u001b[1;32m--> 616\u001b[1;33m             raise ValueError(\n\u001b[0m\u001b[0;32m    617\u001b[0m                 \u001b[1;34m\"Expected n_neighbors <= n_samples, \"\u001b[0m\u001b[1;33m\u001b[0m\u001b[1;33m\u001b[0m\u001b[0m\n\u001b[0;32m    618\u001b[0m                 \u001b[1;34m\" but n_samples = %d, n_neighbors = %d\"\u001b[0m \u001b[1;33m%\u001b[0m\u001b[1;33m\u001b[0m\u001b[1;33m\u001b[0m\u001b[0m\n",
      "\u001b[1;31mValueError\u001b[0m: Expected n_neighbors <= n_samples,  but n_samples = 3, n_neighbors = 6"
     ]
    }
   ],
   "source": [
    "# Oversample and plot imbalanced dataset with SMOTE\n",
    "from collections import Counter\n",
    "from imblearn.over_sampling import SMOTE\n",
    "\n",
    "# transform the dataset\n",
    "oversample = SMOTE()\n",
    "X, y = oversample.fit_resample(X_train, y_train)\n"
   ]
  },
  {
   "cell_type": "markdown",
   "id": "constitutional-ordinance",
   "metadata": {},
   "source": [
    "The minority class has too few samples in the training set. "
   ]
  },
  {
   "cell_type": "code",
   "execution_count": null,
   "id": "intense-discharge",
   "metadata": {},
   "outputs": [],
   "source": [
    "# summarize the new class distribution\n",
    "counter = Counter(y)\n",
    "print(counter)\n",
    "# scatter plot of examples by class label\n",
    "for label, _ in counter.items():\n",
    "    row_ix = where(y == label)[0]\n",
    "    pyplot.scatter(X[row_ix, 0], X[row_ix, 1], label=str(label))\n",
    "pyplot.legend()\n",
    "pyplot.show()"
   ]
  },
  {
   "cell_type": "markdown",
   "id": "unlike-wellington",
   "metadata": {},
   "source": [
    "## Test set"
   ]
  },
  {
   "cell_type": "code",
   "execution_count": 79,
   "id": "blind-oakland",
   "metadata": {},
   "outputs": [
    {
     "name": "stderr",
     "output_type": "stream",
     "text": [
      "C:\\Users\\iravi\\anaconda3\\lib\\site-packages\\IPython\\core\\interactiveshell.py:3146: DtypeWarning: Columns (8,9,62,63,64,65,66,69,70) have mixed types.Specify dtype option on import or set low_memory=False.\n",
      "  has_raised = await self.run_ast_nodes(code_ast.body, cell_name,\n"
     ]
    }
   ],
   "source": [
    "folder_path = 'C:/Users/iravi/Data Projects/Reddit/reddit_data_project/data'\n",
    "pushshift_file_path = Path(folder_path, 'pushshift_askreddit_older_posts.csv')\n",
    "pushshift_test_df = pd.read_csv(pushshift_file_path)"
   ]
  },
  {
   "cell_type": "code",
   "execution_count": 80,
   "id": "packed-realtor",
   "metadata": {},
   "outputs": [
    {
     "name": "stdout",
     "output_type": "stream",
     "text": [
      "2020-05-14 00:55:44 - 2020-07-12 06:27:18\n"
     ]
    }
   ],
   "source": [
    "start_timestamp = pushshift_test_df['created_utc'].min()\n",
    "end_timestamp = pushshift_test_df['created_utc'].max()\n",
    "\n",
    "start_date = dt.datetime.fromtimestamp(start_timestamp)\n",
    "end_date = dt.datetime.fromtimestamp(end_timestamp)\n",
    "\n",
    "print(str(start_date) + \" - \" + str(end_date))"
   ]
  },
  {
   "cell_type": "code",
   "execution_count": 82,
   "id": "peripheral-symbol",
   "metadata": {},
   "outputs": [
    {
     "data": {
      "text/plain": [
       "999995"
      ]
     },
     "execution_count": 82,
     "metadata": {},
     "output_type": "execute_result"
    }
   ],
   "source": [
    "len(pushshift_test_df)"
   ]
  },
  {
   "cell_type": "code",
   "execution_count": 81,
   "id": "considered-friend",
   "metadata": {},
   "outputs": [
    {
     "data": {
      "text/html": [
       "<div>\n",
       "<style scoped>\n",
       "    .dataframe tbody tr th:only-of-type {\n",
       "        vertical-align: middle;\n",
       "    }\n",
       "\n",
       "    .dataframe tbody tr th {\n",
       "        vertical-align: top;\n",
       "    }\n",
       "\n",
       "    .dataframe thead th {\n",
       "        text-align: right;\n",
       "    }\n",
       "</style>\n",
       "<table border=\"1\" class=\"dataframe\">\n",
       "  <thead>\n",
       "    <tr style=\"text-align: right;\">\n",
       "      <th></th>\n",
       "      <th>all_awardings</th>\n",
       "      <th>allow_live_comments</th>\n",
       "      <th>author</th>\n",
       "      <th>author_flair_css_class</th>\n",
       "      <th>author_flair_richtext</th>\n",
       "      <th>author_flair_text</th>\n",
       "      <th>author_flair_type</th>\n",
       "      <th>author_fullname</th>\n",
       "      <th>author_patreon_flair</th>\n",
       "      <th>author_premium</th>\n",
       "      <th>...</th>\n",
       "      <th>banned_by</th>\n",
       "      <th>post_hint</th>\n",
       "      <th>preview</th>\n",
       "      <th>suggested_sort</th>\n",
       "      <th>edited</th>\n",
       "      <th>gilded</th>\n",
       "      <th>top_awarded_type</th>\n",
       "      <th>link_flair_css_class</th>\n",
       "      <th>thumbnail_height</th>\n",
       "      <th>thumbnail_width</th>\n",
       "    </tr>\n",
       "  </thead>\n",
       "  <tbody>\n",
       "    <tr>\n",
       "      <th>42278</th>\n",
       "      <td>[]</td>\n",
       "      <td>False</td>\n",
       "      <td>beaverpoo77</td>\n",
       "      <td>NaN</td>\n",
       "      <td>[]</td>\n",
       "      <td>NaN</td>\n",
       "      <td>text</td>\n",
       "      <td>t2_4f99wade</td>\n",
       "      <td>False</td>\n",
       "      <td>False</td>\n",
       "      <td>...</td>\n",
       "      <td>NaN</td>\n",
       "      <td>NaN</td>\n",
       "      <td>NaN</td>\n",
       "      <td>NaN</td>\n",
       "      <td>NaN</td>\n",
       "      <td>NaN</td>\n",
       "      <td>NaN</td>\n",
       "      <td>NaN</td>\n",
       "      <td>NaN</td>\n",
       "      <td>NaN</td>\n",
       "    </tr>\n",
       "    <tr>\n",
       "      <th>91160</th>\n",
       "      <td>[]</td>\n",
       "      <td>True</td>\n",
       "      <td>Clamps_15</td>\n",
       "      <td>NaN</td>\n",
       "      <td>[]</td>\n",
       "      <td>NaN</td>\n",
       "      <td>text</td>\n",
       "      <td>t2_2ibxajyd</td>\n",
       "      <td>False</td>\n",
       "      <td>False</td>\n",
       "      <td>...</td>\n",
       "      <td>NaN</td>\n",
       "      <td>NaN</td>\n",
       "      <td>NaN</td>\n",
       "      <td>NaN</td>\n",
       "      <td>NaN</td>\n",
       "      <td>NaN</td>\n",
       "      <td>NaN</td>\n",
       "      <td>NaN</td>\n",
       "      <td>NaN</td>\n",
       "      <td>NaN</td>\n",
       "    </tr>\n",
       "    <tr>\n",
       "      <th>92142</th>\n",
       "      <td>[]</td>\n",
       "      <td>False</td>\n",
       "      <td>savag3panda7</td>\n",
       "      <td>NaN</td>\n",
       "      <td>[]</td>\n",
       "      <td>NaN</td>\n",
       "      <td>text</td>\n",
       "      <td>t2_4f4tayz6</td>\n",
       "      <td>False</td>\n",
       "      <td>False</td>\n",
       "      <td>...</td>\n",
       "      <td>NaN</td>\n",
       "      <td>NaN</td>\n",
       "      <td>NaN</td>\n",
       "      <td>NaN</td>\n",
       "      <td>NaN</td>\n",
       "      <td>NaN</td>\n",
       "      <td>NaN</td>\n",
       "      <td>NaN</td>\n",
       "      <td>NaN</td>\n",
       "      <td>NaN</td>\n",
       "    </tr>\n",
       "    <tr>\n",
       "      <th>98627</th>\n",
       "      <td>[]</td>\n",
       "      <td>False</td>\n",
       "      <td>TrippWraze</td>\n",
       "      <td>NaN</td>\n",
       "      <td>[]</td>\n",
       "      <td>NaN</td>\n",
       "      <td>text</td>\n",
       "      <td>t2_746rk08j</td>\n",
       "      <td>False</td>\n",
       "      <td>False</td>\n",
       "      <td>...</td>\n",
       "      <td>NaN</td>\n",
       "      <td>NaN</td>\n",
       "      <td>NaN</td>\n",
       "      <td>NaN</td>\n",
       "      <td>NaN</td>\n",
       "      <td>NaN</td>\n",
       "      <td>NaN</td>\n",
       "      <td>NaN</td>\n",
       "      <td>NaN</td>\n",
       "      <td>NaN</td>\n",
       "    </tr>\n",
       "    <tr>\n",
       "      <th>98797</th>\n",
       "      <td>[]</td>\n",
       "      <td>True</td>\n",
       "      <td>Britneyfan456</td>\n",
       "      <td>NaN</td>\n",
       "      <td>[]</td>\n",
       "      <td>NaN</td>\n",
       "      <td>text</td>\n",
       "      <td>t2_2q1v419b</td>\n",
       "      <td>False</td>\n",
       "      <td>False</td>\n",
       "      <td>...</td>\n",
       "      <td>NaN</td>\n",
       "      <td>NaN</td>\n",
       "      <td>NaN</td>\n",
       "      <td>NaN</td>\n",
       "      <td>NaN</td>\n",
       "      <td>NaN</td>\n",
       "      <td>NaN</td>\n",
       "      <td>NaN</td>\n",
       "      <td>NaN</td>\n",
       "      <td>NaN</td>\n",
       "    </tr>\n",
       "    <tr>\n",
       "      <th>...</th>\n",
       "      <td>...</td>\n",
       "      <td>...</td>\n",
       "      <td>...</td>\n",
       "      <td>...</td>\n",
       "      <td>...</td>\n",
       "      <td>...</td>\n",
       "      <td>...</td>\n",
       "      <td>...</td>\n",
       "      <td>...</td>\n",
       "      <td>...</td>\n",
       "      <td>...</td>\n",
       "      <td>...</td>\n",
       "      <td>...</td>\n",
       "      <td>...</td>\n",
       "      <td>...</td>\n",
       "      <td>...</td>\n",
       "      <td>...</td>\n",
       "      <td>...</td>\n",
       "      <td>...</td>\n",
       "      <td>...</td>\n",
       "      <td>...</td>\n",
       "    </tr>\n",
       "    <tr>\n",
       "      <th>949891</th>\n",
       "      <td>[]</td>\n",
       "      <td>True</td>\n",
       "      <td>letsshit</td>\n",
       "      <td>NaN</td>\n",
       "      <td>[]</td>\n",
       "      <td>NaN</td>\n",
       "      <td>text</td>\n",
       "      <td>t2_6h9tl6yj</td>\n",
       "      <td>False</td>\n",
       "      <td>False</td>\n",
       "      <td>...</td>\n",
       "      <td>NaN</td>\n",
       "      <td>NaN</td>\n",
       "      <td>NaN</td>\n",
       "      <td>NaN</td>\n",
       "      <td>NaN</td>\n",
       "      <td>NaN</td>\n",
       "      <td>NaN</td>\n",
       "      <td>NaN</td>\n",
       "      <td>NaN</td>\n",
       "      <td>NaN</td>\n",
       "    </tr>\n",
       "    <tr>\n",
       "      <th>950066</th>\n",
       "      <td>[]</td>\n",
       "      <td>True</td>\n",
       "      <td>RedWestern</td>\n",
       "      <td>NaN</td>\n",
       "      <td>[]</td>\n",
       "      <td>NaN</td>\n",
       "      <td>text</td>\n",
       "      <td>t2_1q8u37y8</td>\n",
       "      <td>False</td>\n",
       "      <td>True</td>\n",
       "      <td>...</td>\n",
       "      <td>NaN</td>\n",
       "      <td>NaN</td>\n",
       "      <td>NaN</td>\n",
       "      <td>NaN</td>\n",
       "      <td>NaN</td>\n",
       "      <td>NaN</td>\n",
       "      <td>NaN</td>\n",
       "      <td>NaN</td>\n",
       "      <td>NaN</td>\n",
       "      <td>NaN</td>\n",
       "    </tr>\n",
       "    <tr>\n",
       "      <th>952040</th>\n",
       "      <td>[]</td>\n",
       "      <td>False</td>\n",
       "      <td>NippleSalsa</td>\n",
       "      <td>NaN</td>\n",
       "      <td>[]</td>\n",
       "      <td>NaN</td>\n",
       "      <td>text</td>\n",
       "      <td>t2_nibsi</td>\n",
       "      <td>False</td>\n",
       "      <td>False</td>\n",
       "      <td>...</td>\n",
       "      <td>NaN</td>\n",
       "      <td>NaN</td>\n",
       "      <td>NaN</td>\n",
       "      <td>NaN</td>\n",
       "      <td>NaN</td>\n",
       "      <td>NaN</td>\n",
       "      <td>NaN</td>\n",
       "      <td>NaN</td>\n",
       "      <td>NaN</td>\n",
       "      <td>NaN</td>\n",
       "    </tr>\n",
       "    <tr>\n",
       "      <th>952643</th>\n",
       "      <td>[]</td>\n",
       "      <td>True</td>\n",
       "      <td>TimeToBecomeEgg</td>\n",
       "      <td>NaN</td>\n",
       "      <td>[]</td>\n",
       "      <td>NaN</td>\n",
       "      <td>text</td>\n",
       "      <td>t2_4n74pvm4</td>\n",
       "      <td>False</td>\n",
       "      <td>False</td>\n",
       "      <td>...</td>\n",
       "      <td>NaN</td>\n",
       "      <td>NaN</td>\n",
       "      <td>NaN</td>\n",
       "      <td>NaN</td>\n",
       "      <td>NaN</td>\n",
       "      <td>NaN</td>\n",
       "      <td>NaN</td>\n",
       "      <td>NaN</td>\n",
       "      <td>NaN</td>\n",
       "      <td>NaN</td>\n",
       "    </tr>\n",
       "    <tr>\n",
       "      <th>953295</th>\n",
       "      <td>[]</td>\n",
       "      <td>True</td>\n",
       "      <td>gypsy888888</td>\n",
       "      <td>NaN</td>\n",
       "      <td>[]</td>\n",
       "      <td>NaN</td>\n",
       "      <td>text</td>\n",
       "      <td>t2_631acb36</td>\n",
       "      <td>False</td>\n",
       "      <td>False</td>\n",
       "      <td>...</td>\n",
       "      <td>NaN</td>\n",
       "      <td>NaN</td>\n",
       "      <td>NaN</td>\n",
       "      <td>NaN</td>\n",
       "      <td>NaN</td>\n",
       "      <td>NaN</td>\n",
       "      <td>NaN</td>\n",
       "      <td>NaN</td>\n",
       "      <td>NaN</td>\n",
       "      <td>NaN</td>\n",
       "    </tr>\n",
       "  </tbody>\n",
       "</table>\n",
       "<p>639 rows × 73 columns</p>\n",
       "</div>"
      ],
      "text/plain": [
       "       all_awardings  allow_live_comments           author  \\\n",
       "42278             []                False      beaverpoo77   \n",
       "91160             []                 True        Clamps_15   \n",
       "92142             []                False     savag3panda7   \n",
       "98627             []                False       TrippWraze   \n",
       "98797             []                 True    Britneyfan456   \n",
       "...              ...                  ...              ...   \n",
       "949891            []                 True         letsshit   \n",
       "950066            []                 True       RedWestern   \n",
       "952040            []                False      NippleSalsa   \n",
       "952643            []                 True  TimeToBecomeEgg   \n",
       "953295            []                 True      gypsy888888   \n",
       "\n",
       "        author_flair_css_class author_flair_richtext  author_flair_text  \\\n",
       "42278                      NaN                    []                NaN   \n",
       "91160                      NaN                    []                NaN   \n",
       "92142                      NaN                    []                NaN   \n",
       "98627                      NaN                    []                NaN   \n",
       "98797                      NaN                    []                NaN   \n",
       "...                        ...                   ...                ...   \n",
       "949891                     NaN                    []                NaN   \n",
       "950066                     NaN                    []                NaN   \n",
       "952040                     NaN                    []                NaN   \n",
       "952643                     NaN                    []                NaN   \n",
       "953295                     NaN                    []                NaN   \n",
       "\n",
       "       author_flair_type author_fullname author_patreon_flair author_premium  \\\n",
       "42278               text     t2_4f99wade                False          False   \n",
       "91160               text     t2_2ibxajyd                False          False   \n",
       "92142               text     t2_4f4tayz6                False          False   \n",
       "98627               text     t2_746rk08j                False          False   \n",
       "98797               text     t2_2q1v419b                False          False   \n",
       "...                  ...             ...                  ...            ...   \n",
       "949891              text     t2_6h9tl6yj                False          False   \n",
       "950066              text     t2_1q8u37y8                False           True   \n",
       "952040              text        t2_nibsi                False          False   \n",
       "952643              text     t2_4n74pvm4                False          False   \n",
       "953295              text     t2_631acb36                False          False   \n",
       "\n",
       "        ... banned_by  post_hint  preview  suggested_sort edited gilded  \\\n",
       "42278   ...       NaN        NaN      NaN             NaN    NaN    NaN   \n",
       "91160   ...       NaN        NaN      NaN             NaN    NaN    NaN   \n",
       "92142   ...       NaN        NaN      NaN             NaN    NaN    NaN   \n",
       "98627   ...       NaN        NaN      NaN             NaN    NaN    NaN   \n",
       "98797   ...       NaN        NaN      NaN             NaN    NaN    NaN   \n",
       "...     ...       ...        ...      ...             ...    ...    ...   \n",
       "949891  ...       NaN        NaN      NaN             NaN    NaN    NaN   \n",
       "950066  ...       NaN        NaN      NaN             NaN    NaN    NaN   \n",
       "952040  ...       NaN        NaN      NaN             NaN    NaN    NaN   \n",
       "952643  ...       NaN        NaN      NaN             NaN    NaN    NaN   \n",
       "953295  ...       NaN        NaN      NaN             NaN    NaN    NaN   \n",
       "\n",
       "       top_awarded_type link_flair_css_class  thumbnail_height  \\\n",
       "42278               NaN                  NaN               NaN   \n",
       "91160               NaN                  NaN               NaN   \n",
       "92142               NaN                  NaN               NaN   \n",
       "98627               NaN                  NaN               NaN   \n",
       "98797               NaN                  NaN               NaN   \n",
       "...                 ...                  ...               ...   \n",
       "949891              NaN                  NaN               NaN   \n",
       "950066              NaN                  NaN               NaN   \n",
       "952040              NaN                  NaN               NaN   \n",
       "952643              NaN                  NaN               NaN   \n",
       "953295              NaN                  NaN               NaN   \n",
       "\n",
       "        thumbnail_width  \n",
       "42278               NaN  \n",
       "91160               NaN  \n",
       "92142               NaN  \n",
       "98627               NaN  \n",
       "98797               NaN  \n",
       "...                 ...  \n",
       "949891              NaN  \n",
       "950066              NaN  \n",
       "952040              NaN  \n",
       "952643              NaN  \n",
       "953295              NaN  \n",
       "\n",
       "[639 rows x 73 columns]"
      ]
     },
     "execution_count": 81,
     "metadata": {},
     "output_type": "execute_result"
    }
   ],
   "source": [
    "pushshift_test_df[pushshift_test_df['score'] > 50]"
   ]
  },
  {
   "cell_type": "code",
   "execution_count": 83,
   "id": "ongoing-marker",
   "metadata": {},
   "outputs": [
    {
     "data": {
      "text/plain": [
       "1        763679\n",
       "2         81317\n",
       "3         58514\n",
       "0         33120\n",
       "4         28318\n",
       "          ...  \n",
       "2222          1\n",
       "3246          1\n",
       "17593         1\n",
       "178           1\n",
       "509           1\n",
       "Name: score, Length: 372, dtype: int64"
      ]
     },
     "execution_count": 83,
     "metadata": {},
     "output_type": "execute_result"
    }
   ],
   "source": [
    "pushshift_test_df['score'].value_counts()"
   ]
  },
  {
   "cell_type": "code",
   "execution_count": 84,
   "id": "agreed-supplier",
   "metadata": {},
   "outputs": [
    {
     "data": {
      "application/javascript": [
       "/* Put everything inside the global mpl namespace */\n",
       "/* global mpl */\n",
       "window.mpl = {};\n",
       "\n",
       "mpl.get_websocket_type = function () {\n",
       "    if (typeof WebSocket !== 'undefined') {\n",
       "        return WebSocket;\n",
       "    } else if (typeof MozWebSocket !== 'undefined') {\n",
       "        return MozWebSocket;\n",
       "    } else {\n",
       "        alert(\n",
       "            'Your browser does not have WebSocket support. ' +\n",
       "                'Please try Chrome, Safari or Firefox ≥ 6. ' +\n",
       "                'Firefox 4 and 5 are also supported but you ' +\n",
       "                'have to enable WebSockets in about:config.'\n",
       "        );\n",
       "    }\n",
       "};\n",
       "\n",
       "mpl.figure = function (figure_id, websocket, ondownload, parent_element) {\n",
       "    this.id = figure_id;\n",
       "\n",
       "    this.ws = websocket;\n",
       "\n",
       "    this.supports_binary = this.ws.binaryType !== undefined;\n",
       "\n",
       "    if (!this.supports_binary) {\n",
       "        var warnings = document.getElementById('mpl-warnings');\n",
       "        if (warnings) {\n",
       "            warnings.style.display = 'block';\n",
       "            warnings.textContent =\n",
       "                'This browser does not support binary websocket messages. ' +\n",
       "                'Performance may be slow.';\n",
       "        }\n",
       "    }\n",
       "\n",
       "    this.imageObj = new Image();\n",
       "\n",
       "    this.context = undefined;\n",
       "    this.message = undefined;\n",
       "    this.canvas = undefined;\n",
       "    this.rubberband_canvas = undefined;\n",
       "    this.rubberband_context = undefined;\n",
       "    this.format_dropdown = undefined;\n",
       "\n",
       "    this.image_mode = 'full';\n",
       "\n",
       "    this.root = document.createElement('div');\n",
       "    this.root.setAttribute('style', 'display: inline-block');\n",
       "    this._root_extra_style(this.root);\n",
       "\n",
       "    parent_element.appendChild(this.root);\n",
       "\n",
       "    this._init_header(this);\n",
       "    this._init_canvas(this);\n",
       "    this._init_toolbar(this);\n",
       "\n",
       "    var fig = this;\n",
       "\n",
       "    this.waiting = false;\n",
       "\n",
       "    this.ws.onopen = function () {\n",
       "        fig.send_message('supports_binary', { value: fig.supports_binary });\n",
       "        fig.send_message('send_image_mode', {});\n",
       "        if (fig.ratio !== 1) {\n",
       "            fig.send_message('set_dpi_ratio', { dpi_ratio: fig.ratio });\n",
       "        }\n",
       "        fig.send_message('refresh', {});\n",
       "    };\n",
       "\n",
       "    this.imageObj.onload = function () {\n",
       "        if (fig.image_mode === 'full') {\n",
       "            // Full images could contain transparency (where diff images\n",
       "            // almost always do), so we need to clear the canvas so that\n",
       "            // there is no ghosting.\n",
       "            fig.context.clearRect(0, 0, fig.canvas.width, fig.canvas.height);\n",
       "        }\n",
       "        fig.context.drawImage(fig.imageObj, 0, 0);\n",
       "    };\n",
       "\n",
       "    this.imageObj.onunload = function () {\n",
       "        fig.ws.close();\n",
       "    };\n",
       "\n",
       "    this.ws.onmessage = this._make_on_message_function(this);\n",
       "\n",
       "    this.ondownload = ondownload;\n",
       "};\n",
       "\n",
       "mpl.figure.prototype._init_header = function () {\n",
       "    var titlebar = document.createElement('div');\n",
       "    titlebar.classList =\n",
       "        'ui-dialog-titlebar ui-widget-header ui-corner-all ui-helper-clearfix';\n",
       "    var titletext = document.createElement('div');\n",
       "    titletext.classList = 'ui-dialog-title';\n",
       "    titletext.setAttribute(\n",
       "        'style',\n",
       "        'width: 100%; text-align: center; padding: 3px;'\n",
       "    );\n",
       "    titlebar.appendChild(titletext);\n",
       "    this.root.appendChild(titlebar);\n",
       "    this.header = titletext;\n",
       "};\n",
       "\n",
       "mpl.figure.prototype._canvas_extra_style = function (_canvas_div) {};\n",
       "\n",
       "mpl.figure.prototype._root_extra_style = function (_canvas_div) {};\n",
       "\n",
       "mpl.figure.prototype._init_canvas = function () {\n",
       "    var fig = this;\n",
       "\n",
       "    var canvas_div = (this.canvas_div = document.createElement('div'));\n",
       "    canvas_div.setAttribute(\n",
       "        'style',\n",
       "        'border: 1px solid #ddd;' +\n",
       "            'box-sizing: content-box;' +\n",
       "            'clear: both;' +\n",
       "            'min-height: 1px;' +\n",
       "            'min-width: 1px;' +\n",
       "            'outline: 0;' +\n",
       "            'overflow: hidden;' +\n",
       "            'position: relative;' +\n",
       "            'resize: both;'\n",
       "    );\n",
       "\n",
       "    function on_keyboard_event_closure(name) {\n",
       "        return function (event) {\n",
       "            return fig.key_event(event, name);\n",
       "        };\n",
       "    }\n",
       "\n",
       "    canvas_div.addEventListener(\n",
       "        'keydown',\n",
       "        on_keyboard_event_closure('key_press')\n",
       "    );\n",
       "    canvas_div.addEventListener(\n",
       "        'keyup',\n",
       "        on_keyboard_event_closure('key_release')\n",
       "    );\n",
       "\n",
       "    this._canvas_extra_style(canvas_div);\n",
       "    this.root.appendChild(canvas_div);\n",
       "\n",
       "    var canvas = (this.canvas = document.createElement('canvas'));\n",
       "    canvas.classList.add('mpl-canvas');\n",
       "    canvas.setAttribute('style', 'box-sizing: content-box;');\n",
       "\n",
       "    this.context = canvas.getContext('2d');\n",
       "\n",
       "    var backingStore =\n",
       "        this.context.backingStorePixelRatio ||\n",
       "        this.context.webkitBackingStorePixelRatio ||\n",
       "        this.context.mozBackingStorePixelRatio ||\n",
       "        this.context.msBackingStorePixelRatio ||\n",
       "        this.context.oBackingStorePixelRatio ||\n",
       "        this.context.backingStorePixelRatio ||\n",
       "        1;\n",
       "\n",
       "    this.ratio = (window.devicePixelRatio || 1) / backingStore;\n",
       "    if (this.ratio !== 1) {\n",
       "        fig.send_message('set_dpi_ratio', { dpi_ratio: this.ratio });\n",
       "    }\n",
       "\n",
       "    var rubberband_canvas = (this.rubberband_canvas = document.createElement(\n",
       "        'canvas'\n",
       "    ));\n",
       "    rubberband_canvas.setAttribute(\n",
       "        'style',\n",
       "        'box-sizing: content-box; position: absolute; left: 0; top: 0; z-index: 1;'\n",
       "    );\n",
       "\n",
       "    var resizeObserver = new ResizeObserver(function (entries) {\n",
       "        var nentries = entries.length;\n",
       "        for (var i = 0; i < nentries; i++) {\n",
       "            var entry = entries[i];\n",
       "            var width, height;\n",
       "            if (entry.contentBoxSize) {\n",
       "                if (entry.contentBoxSize instanceof Array) {\n",
       "                    // Chrome 84 implements new version of spec.\n",
       "                    width = entry.contentBoxSize[0].inlineSize;\n",
       "                    height = entry.contentBoxSize[0].blockSize;\n",
       "                } else {\n",
       "                    // Firefox implements old version of spec.\n",
       "                    width = entry.contentBoxSize.inlineSize;\n",
       "                    height = entry.contentBoxSize.blockSize;\n",
       "                }\n",
       "            } else {\n",
       "                // Chrome <84 implements even older version of spec.\n",
       "                width = entry.contentRect.width;\n",
       "                height = entry.contentRect.height;\n",
       "            }\n",
       "\n",
       "            // Keep the size of the canvas and rubber band canvas in sync with\n",
       "            // the canvas container.\n",
       "            if (entry.devicePixelContentBoxSize) {\n",
       "                // Chrome 84 implements new version of spec.\n",
       "                canvas.setAttribute(\n",
       "                    'width',\n",
       "                    entry.devicePixelContentBoxSize[0].inlineSize\n",
       "                );\n",
       "                canvas.setAttribute(\n",
       "                    'height',\n",
       "                    entry.devicePixelContentBoxSize[0].blockSize\n",
       "                );\n",
       "            } else {\n",
       "                canvas.setAttribute('width', width * fig.ratio);\n",
       "                canvas.setAttribute('height', height * fig.ratio);\n",
       "            }\n",
       "            canvas.setAttribute(\n",
       "                'style',\n",
       "                'width: ' + width + 'px; height: ' + height + 'px;'\n",
       "            );\n",
       "\n",
       "            rubberband_canvas.setAttribute('width', width);\n",
       "            rubberband_canvas.setAttribute('height', height);\n",
       "\n",
       "            // And update the size in Python. We ignore the initial 0/0 size\n",
       "            // that occurs as the element is placed into the DOM, which should\n",
       "            // otherwise not happen due to the minimum size styling.\n",
       "            if (width != 0 && height != 0) {\n",
       "                fig.request_resize(width, height);\n",
       "            }\n",
       "        }\n",
       "    });\n",
       "    resizeObserver.observe(canvas_div);\n",
       "\n",
       "    function on_mouse_event_closure(name) {\n",
       "        return function (event) {\n",
       "            return fig.mouse_event(event, name);\n",
       "        };\n",
       "    }\n",
       "\n",
       "    rubberband_canvas.addEventListener(\n",
       "        'mousedown',\n",
       "        on_mouse_event_closure('button_press')\n",
       "    );\n",
       "    rubberband_canvas.addEventListener(\n",
       "        'mouseup',\n",
       "        on_mouse_event_closure('button_release')\n",
       "    );\n",
       "    // Throttle sequential mouse events to 1 every 20ms.\n",
       "    rubberband_canvas.addEventListener(\n",
       "        'mousemove',\n",
       "        on_mouse_event_closure('motion_notify')\n",
       "    );\n",
       "\n",
       "    rubberband_canvas.addEventListener(\n",
       "        'mouseenter',\n",
       "        on_mouse_event_closure('figure_enter')\n",
       "    );\n",
       "    rubberband_canvas.addEventListener(\n",
       "        'mouseleave',\n",
       "        on_mouse_event_closure('figure_leave')\n",
       "    );\n",
       "\n",
       "    canvas_div.addEventListener('wheel', function (event) {\n",
       "        if (event.deltaY < 0) {\n",
       "            event.step = 1;\n",
       "        } else {\n",
       "            event.step = -1;\n",
       "        }\n",
       "        on_mouse_event_closure('scroll')(event);\n",
       "    });\n",
       "\n",
       "    canvas_div.appendChild(canvas);\n",
       "    canvas_div.appendChild(rubberband_canvas);\n",
       "\n",
       "    this.rubberband_context = rubberband_canvas.getContext('2d');\n",
       "    this.rubberband_context.strokeStyle = '#000000';\n",
       "\n",
       "    this._resize_canvas = function (width, height, forward) {\n",
       "        if (forward) {\n",
       "            canvas_div.style.width = width + 'px';\n",
       "            canvas_div.style.height = height + 'px';\n",
       "        }\n",
       "    };\n",
       "\n",
       "    // Disable right mouse context menu.\n",
       "    this.rubberband_canvas.addEventListener('contextmenu', function (_e) {\n",
       "        event.preventDefault();\n",
       "        return false;\n",
       "    });\n",
       "\n",
       "    function set_focus() {\n",
       "        canvas.focus();\n",
       "        canvas_div.focus();\n",
       "    }\n",
       "\n",
       "    window.setTimeout(set_focus, 100);\n",
       "};\n",
       "\n",
       "mpl.figure.prototype._init_toolbar = function () {\n",
       "    var fig = this;\n",
       "\n",
       "    var toolbar = document.createElement('div');\n",
       "    toolbar.classList = 'mpl-toolbar';\n",
       "    this.root.appendChild(toolbar);\n",
       "\n",
       "    function on_click_closure(name) {\n",
       "        return function (_event) {\n",
       "            return fig.toolbar_button_onclick(name);\n",
       "        };\n",
       "    }\n",
       "\n",
       "    function on_mouseover_closure(tooltip) {\n",
       "        return function (event) {\n",
       "            if (!event.currentTarget.disabled) {\n",
       "                return fig.toolbar_button_onmouseover(tooltip);\n",
       "            }\n",
       "        };\n",
       "    }\n",
       "\n",
       "    fig.buttons = {};\n",
       "    var buttonGroup = document.createElement('div');\n",
       "    buttonGroup.classList = 'mpl-button-group';\n",
       "    for (var toolbar_ind in mpl.toolbar_items) {\n",
       "        var name = mpl.toolbar_items[toolbar_ind][0];\n",
       "        var tooltip = mpl.toolbar_items[toolbar_ind][1];\n",
       "        var image = mpl.toolbar_items[toolbar_ind][2];\n",
       "        var method_name = mpl.toolbar_items[toolbar_ind][3];\n",
       "\n",
       "        if (!name) {\n",
       "            /* Instead of a spacer, we start a new button group. */\n",
       "            if (buttonGroup.hasChildNodes()) {\n",
       "                toolbar.appendChild(buttonGroup);\n",
       "            }\n",
       "            buttonGroup = document.createElement('div');\n",
       "            buttonGroup.classList = 'mpl-button-group';\n",
       "            continue;\n",
       "        }\n",
       "\n",
       "        var button = (fig.buttons[name] = document.createElement('button'));\n",
       "        button.classList = 'mpl-widget';\n",
       "        button.setAttribute('role', 'button');\n",
       "        button.setAttribute('aria-disabled', 'false');\n",
       "        button.addEventListener('click', on_click_closure(method_name));\n",
       "        button.addEventListener('mouseover', on_mouseover_closure(tooltip));\n",
       "\n",
       "        var icon_img = document.createElement('img');\n",
       "        icon_img.src = '_images/' + image + '.png';\n",
       "        icon_img.srcset = '_images/' + image + '_large.png 2x';\n",
       "        icon_img.alt = tooltip;\n",
       "        button.appendChild(icon_img);\n",
       "\n",
       "        buttonGroup.appendChild(button);\n",
       "    }\n",
       "\n",
       "    if (buttonGroup.hasChildNodes()) {\n",
       "        toolbar.appendChild(buttonGroup);\n",
       "    }\n",
       "\n",
       "    var fmt_picker = document.createElement('select');\n",
       "    fmt_picker.classList = 'mpl-widget';\n",
       "    toolbar.appendChild(fmt_picker);\n",
       "    this.format_dropdown = fmt_picker;\n",
       "\n",
       "    for (var ind in mpl.extensions) {\n",
       "        var fmt = mpl.extensions[ind];\n",
       "        var option = document.createElement('option');\n",
       "        option.selected = fmt === mpl.default_extension;\n",
       "        option.innerHTML = fmt;\n",
       "        fmt_picker.appendChild(option);\n",
       "    }\n",
       "\n",
       "    var status_bar = document.createElement('span');\n",
       "    status_bar.classList = 'mpl-message';\n",
       "    toolbar.appendChild(status_bar);\n",
       "    this.message = status_bar;\n",
       "};\n",
       "\n",
       "mpl.figure.prototype.request_resize = function (x_pixels, y_pixels) {\n",
       "    // Request matplotlib to resize the figure. Matplotlib will then trigger a resize in the client,\n",
       "    // which will in turn request a refresh of the image.\n",
       "    this.send_message('resize', { width: x_pixels, height: y_pixels });\n",
       "};\n",
       "\n",
       "mpl.figure.prototype.send_message = function (type, properties) {\n",
       "    properties['type'] = type;\n",
       "    properties['figure_id'] = this.id;\n",
       "    this.ws.send(JSON.stringify(properties));\n",
       "};\n",
       "\n",
       "mpl.figure.prototype.send_draw_message = function () {\n",
       "    if (!this.waiting) {\n",
       "        this.waiting = true;\n",
       "        this.ws.send(JSON.stringify({ type: 'draw', figure_id: this.id }));\n",
       "    }\n",
       "};\n",
       "\n",
       "mpl.figure.prototype.handle_save = function (fig, _msg) {\n",
       "    var format_dropdown = fig.format_dropdown;\n",
       "    var format = format_dropdown.options[format_dropdown.selectedIndex].value;\n",
       "    fig.ondownload(fig, format);\n",
       "};\n",
       "\n",
       "mpl.figure.prototype.handle_resize = function (fig, msg) {\n",
       "    var size = msg['size'];\n",
       "    if (size[0] !== fig.canvas.width || size[1] !== fig.canvas.height) {\n",
       "        fig._resize_canvas(size[0], size[1], msg['forward']);\n",
       "        fig.send_message('refresh', {});\n",
       "    }\n",
       "};\n",
       "\n",
       "mpl.figure.prototype.handle_rubberband = function (fig, msg) {\n",
       "    var x0 = msg['x0'] / fig.ratio;\n",
       "    var y0 = (fig.canvas.height - msg['y0']) / fig.ratio;\n",
       "    var x1 = msg['x1'] / fig.ratio;\n",
       "    var y1 = (fig.canvas.height - msg['y1']) / fig.ratio;\n",
       "    x0 = Math.floor(x0) + 0.5;\n",
       "    y0 = Math.floor(y0) + 0.5;\n",
       "    x1 = Math.floor(x1) + 0.5;\n",
       "    y1 = Math.floor(y1) + 0.5;\n",
       "    var min_x = Math.min(x0, x1);\n",
       "    var min_y = Math.min(y0, y1);\n",
       "    var width = Math.abs(x1 - x0);\n",
       "    var height = Math.abs(y1 - y0);\n",
       "\n",
       "    fig.rubberband_context.clearRect(\n",
       "        0,\n",
       "        0,\n",
       "        fig.canvas.width / fig.ratio,\n",
       "        fig.canvas.height / fig.ratio\n",
       "    );\n",
       "\n",
       "    fig.rubberband_context.strokeRect(min_x, min_y, width, height);\n",
       "};\n",
       "\n",
       "mpl.figure.prototype.handle_figure_label = function (fig, msg) {\n",
       "    // Updates the figure title.\n",
       "    fig.header.textContent = msg['label'];\n",
       "};\n",
       "\n",
       "mpl.figure.prototype.handle_cursor = function (fig, msg) {\n",
       "    var cursor = msg['cursor'];\n",
       "    switch (cursor) {\n",
       "        case 0:\n",
       "            cursor = 'pointer';\n",
       "            break;\n",
       "        case 1:\n",
       "            cursor = 'default';\n",
       "            break;\n",
       "        case 2:\n",
       "            cursor = 'crosshair';\n",
       "            break;\n",
       "        case 3:\n",
       "            cursor = 'move';\n",
       "            break;\n",
       "    }\n",
       "    fig.rubberband_canvas.style.cursor = cursor;\n",
       "};\n",
       "\n",
       "mpl.figure.prototype.handle_message = function (fig, msg) {\n",
       "    fig.message.textContent = msg['message'];\n",
       "};\n",
       "\n",
       "mpl.figure.prototype.handle_draw = function (fig, _msg) {\n",
       "    // Request the server to send over a new figure.\n",
       "    fig.send_draw_message();\n",
       "};\n",
       "\n",
       "mpl.figure.prototype.handle_image_mode = function (fig, msg) {\n",
       "    fig.image_mode = msg['mode'];\n",
       "};\n",
       "\n",
       "mpl.figure.prototype.handle_history_buttons = function (fig, msg) {\n",
       "    for (var key in msg) {\n",
       "        if (!(key in fig.buttons)) {\n",
       "            continue;\n",
       "        }\n",
       "        fig.buttons[key].disabled = !msg[key];\n",
       "        fig.buttons[key].setAttribute('aria-disabled', !msg[key]);\n",
       "    }\n",
       "};\n",
       "\n",
       "mpl.figure.prototype.handle_navigate_mode = function (fig, msg) {\n",
       "    if (msg['mode'] === 'PAN') {\n",
       "        fig.buttons['Pan'].classList.add('active');\n",
       "        fig.buttons['Zoom'].classList.remove('active');\n",
       "    } else if (msg['mode'] === 'ZOOM') {\n",
       "        fig.buttons['Pan'].classList.remove('active');\n",
       "        fig.buttons['Zoom'].classList.add('active');\n",
       "    } else {\n",
       "        fig.buttons['Pan'].classList.remove('active');\n",
       "        fig.buttons['Zoom'].classList.remove('active');\n",
       "    }\n",
       "};\n",
       "\n",
       "mpl.figure.prototype.updated_canvas_event = function () {\n",
       "    // Called whenever the canvas gets updated.\n",
       "    this.send_message('ack', {});\n",
       "};\n",
       "\n",
       "// A function to construct a web socket function for onmessage handling.\n",
       "// Called in the figure constructor.\n",
       "mpl.figure.prototype._make_on_message_function = function (fig) {\n",
       "    return function socket_on_message(evt) {\n",
       "        if (evt.data instanceof Blob) {\n",
       "            /* FIXME: We get \"Resource interpreted as Image but\n",
       "             * transferred with MIME type text/plain:\" errors on\n",
       "             * Chrome.  But how to set the MIME type?  It doesn't seem\n",
       "             * to be part of the websocket stream */\n",
       "            evt.data.type = 'image/png';\n",
       "\n",
       "            /* Free the memory for the previous frames */\n",
       "            if (fig.imageObj.src) {\n",
       "                (window.URL || window.webkitURL).revokeObjectURL(\n",
       "                    fig.imageObj.src\n",
       "                );\n",
       "            }\n",
       "\n",
       "            fig.imageObj.src = (window.URL || window.webkitURL).createObjectURL(\n",
       "                evt.data\n",
       "            );\n",
       "            fig.updated_canvas_event();\n",
       "            fig.waiting = false;\n",
       "            return;\n",
       "        } else if (\n",
       "            typeof evt.data === 'string' &&\n",
       "            evt.data.slice(0, 21) === 'data:image/png;base64'\n",
       "        ) {\n",
       "            fig.imageObj.src = evt.data;\n",
       "            fig.updated_canvas_event();\n",
       "            fig.waiting = false;\n",
       "            return;\n",
       "        }\n",
       "\n",
       "        var msg = JSON.parse(evt.data);\n",
       "        var msg_type = msg['type'];\n",
       "\n",
       "        // Call the  \"handle_{type}\" callback, which takes\n",
       "        // the figure and JSON message as its only arguments.\n",
       "        try {\n",
       "            var callback = fig['handle_' + msg_type];\n",
       "        } catch (e) {\n",
       "            console.log(\n",
       "                \"No handler for the '\" + msg_type + \"' message type: \",\n",
       "                msg\n",
       "            );\n",
       "            return;\n",
       "        }\n",
       "\n",
       "        if (callback) {\n",
       "            try {\n",
       "                // console.log(\"Handling '\" + msg_type + \"' message: \", msg);\n",
       "                callback(fig, msg);\n",
       "            } catch (e) {\n",
       "                console.log(\n",
       "                    \"Exception inside the 'handler_\" + msg_type + \"' callback:\",\n",
       "                    e,\n",
       "                    e.stack,\n",
       "                    msg\n",
       "                );\n",
       "            }\n",
       "        }\n",
       "    };\n",
       "};\n",
       "\n",
       "// from http://stackoverflow.com/questions/1114465/getting-mouse-location-in-canvas\n",
       "mpl.findpos = function (e) {\n",
       "    //this section is from http://www.quirksmode.org/js/events_properties.html\n",
       "    var targ;\n",
       "    if (!e) {\n",
       "        e = window.event;\n",
       "    }\n",
       "    if (e.target) {\n",
       "        targ = e.target;\n",
       "    } else if (e.srcElement) {\n",
       "        targ = e.srcElement;\n",
       "    }\n",
       "    if (targ.nodeType === 3) {\n",
       "        // defeat Safari bug\n",
       "        targ = targ.parentNode;\n",
       "    }\n",
       "\n",
       "    // pageX,Y are the mouse positions relative to the document\n",
       "    var boundingRect = targ.getBoundingClientRect();\n",
       "    var x = e.pageX - (boundingRect.left + document.body.scrollLeft);\n",
       "    var y = e.pageY - (boundingRect.top + document.body.scrollTop);\n",
       "\n",
       "    return { x: x, y: y };\n",
       "};\n",
       "\n",
       "/*\n",
       " * return a copy of an object with only non-object keys\n",
       " * we need this to avoid circular references\n",
       " * http://stackoverflow.com/a/24161582/3208463\n",
       " */\n",
       "function simpleKeys(original) {\n",
       "    return Object.keys(original).reduce(function (obj, key) {\n",
       "        if (typeof original[key] !== 'object') {\n",
       "            obj[key] = original[key];\n",
       "        }\n",
       "        return obj;\n",
       "    }, {});\n",
       "}\n",
       "\n",
       "mpl.figure.prototype.mouse_event = function (event, name) {\n",
       "    var canvas_pos = mpl.findpos(event);\n",
       "\n",
       "    if (name === 'button_press') {\n",
       "        this.canvas.focus();\n",
       "        this.canvas_div.focus();\n",
       "    }\n",
       "\n",
       "    var x = canvas_pos.x * this.ratio;\n",
       "    var y = canvas_pos.y * this.ratio;\n",
       "\n",
       "    this.send_message(name, {\n",
       "        x: x,\n",
       "        y: y,\n",
       "        button: event.button,\n",
       "        step: event.step,\n",
       "        guiEvent: simpleKeys(event),\n",
       "    });\n",
       "\n",
       "    /* This prevents the web browser from automatically changing to\n",
       "     * the text insertion cursor when the button is pressed.  We want\n",
       "     * to control all of the cursor setting manually through the\n",
       "     * 'cursor' event from matplotlib */\n",
       "    event.preventDefault();\n",
       "    return false;\n",
       "};\n",
       "\n",
       "mpl.figure.prototype._key_event_extra = function (_event, _name) {\n",
       "    // Handle any extra behaviour associated with a key event\n",
       "};\n",
       "\n",
       "mpl.figure.prototype.key_event = function (event, name) {\n",
       "    // Prevent repeat events\n",
       "    if (name === 'key_press') {\n",
       "        if (event.which === this._key) {\n",
       "            return;\n",
       "        } else {\n",
       "            this._key = event.which;\n",
       "        }\n",
       "    }\n",
       "    if (name === 'key_release') {\n",
       "        this._key = null;\n",
       "    }\n",
       "\n",
       "    var value = '';\n",
       "    if (event.ctrlKey && event.which !== 17) {\n",
       "        value += 'ctrl+';\n",
       "    }\n",
       "    if (event.altKey && event.which !== 18) {\n",
       "        value += 'alt+';\n",
       "    }\n",
       "    if (event.shiftKey && event.which !== 16) {\n",
       "        value += 'shift+';\n",
       "    }\n",
       "\n",
       "    value += 'k';\n",
       "    value += event.which.toString();\n",
       "\n",
       "    this._key_event_extra(event, name);\n",
       "\n",
       "    this.send_message(name, { key: value, guiEvent: simpleKeys(event) });\n",
       "    return false;\n",
       "};\n",
       "\n",
       "mpl.figure.prototype.toolbar_button_onclick = function (name) {\n",
       "    if (name === 'download') {\n",
       "        this.handle_save(this, null);\n",
       "    } else {\n",
       "        this.send_message('toolbar_button', { name: name });\n",
       "    }\n",
       "};\n",
       "\n",
       "mpl.figure.prototype.toolbar_button_onmouseover = function (tooltip) {\n",
       "    this.message.textContent = tooltip;\n",
       "};\n",
       "mpl.toolbar_items = [[\"Home\", \"Reset original view\", \"fa fa-home icon-home\", \"home\"], [\"Back\", \"Back to previous view\", \"fa fa-arrow-left icon-arrow-left\", \"back\"], [\"Forward\", \"Forward to next view\", \"fa fa-arrow-right icon-arrow-right\", \"forward\"], [\"\", \"\", \"\", \"\"], [\"Pan\", \"Left button pans, Right button zooms\\nx/y fixes axis, CTRL fixes aspect\", \"fa fa-arrows icon-move\", \"pan\"], [\"Zoom\", \"Zoom to rectangle\\nx/y fixes axis, CTRL fixes aspect\", \"fa fa-square-o icon-check-empty\", \"zoom\"], [\"\", \"\", \"\", \"\"], [\"Download\", \"Download plot\", \"fa fa-floppy-o icon-save\", \"download\"]];\n",
       "\n",
       "mpl.extensions = [\"eps\", \"jpeg\", \"pdf\", \"png\", \"ps\", \"raw\", \"svg\", \"tif\"];\n",
       "\n",
       "mpl.default_extension = \"png\";/* global mpl */\n",
       "\n",
       "var comm_websocket_adapter = function (comm) {\n",
       "    // Create a \"websocket\"-like object which calls the given IPython comm\n",
       "    // object with the appropriate methods. Currently this is a non binary\n",
       "    // socket, so there is still some room for performance tuning.\n",
       "    var ws = {};\n",
       "\n",
       "    ws.close = function () {\n",
       "        comm.close();\n",
       "    };\n",
       "    ws.send = function (m) {\n",
       "        //console.log('sending', m);\n",
       "        comm.send(m);\n",
       "    };\n",
       "    // Register the callback with on_msg.\n",
       "    comm.on_msg(function (msg) {\n",
       "        //console.log('receiving', msg['content']['data'], msg);\n",
       "        // Pass the mpl event to the overridden (by mpl) onmessage function.\n",
       "        ws.onmessage(msg['content']['data']);\n",
       "    });\n",
       "    return ws;\n",
       "};\n",
       "\n",
       "mpl.mpl_figure_comm = function (comm, msg) {\n",
       "    // This is the function which gets called when the mpl process\n",
       "    // starts-up an IPython Comm through the \"matplotlib\" channel.\n",
       "\n",
       "    var id = msg.content.data.id;\n",
       "    // Get hold of the div created by the display call when the Comm\n",
       "    // socket was opened in Python.\n",
       "    var element = document.getElementById(id);\n",
       "    var ws_proxy = comm_websocket_adapter(comm);\n",
       "\n",
       "    function ondownload(figure, _format) {\n",
       "        window.open(figure.canvas.toDataURL());\n",
       "    }\n",
       "\n",
       "    var fig = new mpl.figure(id, ws_proxy, ondownload, element);\n",
       "\n",
       "    // Call onopen now - mpl needs it, as it is assuming we've passed it a real\n",
       "    // web socket which is closed, not our websocket->open comm proxy.\n",
       "    ws_proxy.onopen();\n",
       "\n",
       "    fig.parent_element = element;\n",
       "    fig.cell_info = mpl.find_output_cell(\"<div id='\" + id + \"'></div>\");\n",
       "    if (!fig.cell_info) {\n",
       "        console.error('Failed to find cell for figure', id, fig);\n",
       "        return;\n",
       "    }\n",
       "    fig.cell_info[0].output_area.element.one(\n",
       "        'cleared',\n",
       "        { fig: fig },\n",
       "        fig._remove_fig_handler\n",
       "    );\n",
       "};\n",
       "\n",
       "mpl.figure.prototype.handle_close = function (fig, msg) {\n",
       "    var width = fig.canvas.width / fig.ratio;\n",
       "    fig.cell_info[0].output_area.element.off(\n",
       "        'cleared',\n",
       "        fig._remove_fig_handler\n",
       "    );\n",
       "\n",
       "    // Update the output cell to use the data from the current canvas.\n",
       "    fig.push_to_output();\n",
       "    var dataURL = fig.canvas.toDataURL();\n",
       "    // Re-enable the keyboard manager in IPython - without this line, in FF,\n",
       "    // the notebook keyboard shortcuts fail.\n",
       "    IPython.keyboard_manager.enable();\n",
       "    fig.parent_element.innerHTML =\n",
       "        '<img src=\"' + dataURL + '\" width=\"' + width + '\">';\n",
       "    fig.close_ws(fig, msg);\n",
       "};\n",
       "\n",
       "mpl.figure.prototype.close_ws = function (fig, msg) {\n",
       "    fig.send_message('closing', msg);\n",
       "    // fig.ws.close()\n",
       "};\n",
       "\n",
       "mpl.figure.prototype.push_to_output = function (_remove_interactive) {\n",
       "    // Turn the data on the canvas into data in the output cell.\n",
       "    var width = this.canvas.width / this.ratio;\n",
       "    var dataURL = this.canvas.toDataURL();\n",
       "    this.cell_info[1]['text/html'] =\n",
       "        '<img src=\"' + dataURL + '\" width=\"' + width + '\">';\n",
       "};\n",
       "\n",
       "mpl.figure.prototype.updated_canvas_event = function () {\n",
       "    // Tell IPython that the notebook contents must change.\n",
       "    IPython.notebook.set_dirty(true);\n",
       "    this.send_message('ack', {});\n",
       "    var fig = this;\n",
       "    // Wait a second, then push the new image to the DOM so\n",
       "    // that it is saved nicely (might be nice to debounce this).\n",
       "    setTimeout(function () {\n",
       "        fig.push_to_output();\n",
       "    }, 1000);\n",
       "};\n",
       "\n",
       "mpl.figure.prototype._init_toolbar = function () {\n",
       "    var fig = this;\n",
       "\n",
       "    var toolbar = document.createElement('div');\n",
       "    toolbar.classList = 'btn-toolbar';\n",
       "    this.root.appendChild(toolbar);\n",
       "\n",
       "    function on_click_closure(name) {\n",
       "        return function (_event) {\n",
       "            return fig.toolbar_button_onclick(name);\n",
       "        };\n",
       "    }\n",
       "\n",
       "    function on_mouseover_closure(tooltip) {\n",
       "        return function (event) {\n",
       "            if (!event.currentTarget.disabled) {\n",
       "                return fig.toolbar_button_onmouseover(tooltip);\n",
       "            }\n",
       "        };\n",
       "    }\n",
       "\n",
       "    fig.buttons = {};\n",
       "    var buttonGroup = document.createElement('div');\n",
       "    buttonGroup.classList = 'btn-group';\n",
       "    var button;\n",
       "    for (var toolbar_ind in mpl.toolbar_items) {\n",
       "        var name = mpl.toolbar_items[toolbar_ind][0];\n",
       "        var tooltip = mpl.toolbar_items[toolbar_ind][1];\n",
       "        var image = mpl.toolbar_items[toolbar_ind][2];\n",
       "        var method_name = mpl.toolbar_items[toolbar_ind][3];\n",
       "\n",
       "        if (!name) {\n",
       "            /* Instead of a spacer, we start a new button group. */\n",
       "            if (buttonGroup.hasChildNodes()) {\n",
       "                toolbar.appendChild(buttonGroup);\n",
       "            }\n",
       "            buttonGroup = document.createElement('div');\n",
       "            buttonGroup.classList = 'btn-group';\n",
       "            continue;\n",
       "        }\n",
       "\n",
       "        button = fig.buttons[name] = document.createElement('button');\n",
       "        button.classList = 'btn btn-default';\n",
       "        button.href = '#';\n",
       "        button.title = name;\n",
       "        button.innerHTML = '<i class=\"fa ' + image + ' fa-lg\"></i>';\n",
       "        button.addEventListener('click', on_click_closure(method_name));\n",
       "        button.addEventListener('mouseover', on_mouseover_closure(tooltip));\n",
       "        buttonGroup.appendChild(button);\n",
       "    }\n",
       "\n",
       "    if (buttonGroup.hasChildNodes()) {\n",
       "        toolbar.appendChild(buttonGroup);\n",
       "    }\n",
       "\n",
       "    // Add the status bar.\n",
       "    var status_bar = document.createElement('span');\n",
       "    status_bar.classList = 'mpl-message pull-right';\n",
       "    toolbar.appendChild(status_bar);\n",
       "    this.message = status_bar;\n",
       "\n",
       "    // Add the close button to the window.\n",
       "    var buttongrp = document.createElement('div');\n",
       "    buttongrp.classList = 'btn-group inline pull-right';\n",
       "    button = document.createElement('button');\n",
       "    button.classList = 'btn btn-mini btn-primary';\n",
       "    button.href = '#';\n",
       "    button.title = 'Stop Interaction';\n",
       "    button.innerHTML = '<i class=\"fa fa-power-off icon-remove icon-large\"></i>';\n",
       "    button.addEventListener('click', function (_evt) {\n",
       "        fig.handle_close(fig, {});\n",
       "    });\n",
       "    button.addEventListener(\n",
       "        'mouseover',\n",
       "        on_mouseover_closure('Stop Interaction')\n",
       "    );\n",
       "    buttongrp.appendChild(button);\n",
       "    var titlebar = this.root.querySelector('.ui-dialog-titlebar');\n",
       "    titlebar.insertBefore(buttongrp, titlebar.firstChild);\n",
       "};\n",
       "\n",
       "mpl.figure.prototype._remove_fig_handler = function (event) {\n",
       "    var fig = event.data.fig;\n",
       "    fig.close_ws(fig, {});\n",
       "};\n",
       "\n",
       "mpl.figure.prototype._root_extra_style = function (el) {\n",
       "    el.style.boxSizing = 'content-box'; // override notebook setting of border-box.\n",
       "};\n",
       "\n",
       "mpl.figure.prototype._canvas_extra_style = function (el) {\n",
       "    // this is important to make the div 'focusable\n",
       "    el.setAttribute('tabindex', 0);\n",
       "    // reach out to IPython and tell the keyboard manager to turn it's self\n",
       "    // off when our div gets focus\n",
       "\n",
       "    // location in version 3\n",
       "    if (IPython.notebook.keyboard_manager) {\n",
       "        IPython.notebook.keyboard_manager.register_events(el);\n",
       "    } else {\n",
       "        // location in version 2\n",
       "        IPython.keyboard_manager.register_events(el);\n",
       "    }\n",
       "};\n",
       "\n",
       "mpl.figure.prototype._key_event_extra = function (event, _name) {\n",
       "    var manager = IPython.notebook.keyboard_manager;\n",
       "    if (!manager) {\n",
       "        manager = IPython.keyboard_manager;\n",
       "    }\n",
       "\n",
       "    // Check for shift+enter\n",
       "    if (event.shiftKey && event.which === 13) {\n",
       "        this.canvas_div.blur();\n",
       "        // select the cell after this one\n",
       "        var index = IPython.notebook.find_cell_index(this.cell_info[0]);\n",
       "        IPython.notebook.select(index + 1);\n",
       "    }\n",
       "};\n",
       "\n",
       "mpl.figure.prototype.handle_save = function (fig, _msg) {\n",
       "    fig.ondownload(fig, null);\n",
       "};\n",
       "\n",
       "mpl.find_output_cell = function (html_output) {\n",
       "    // Return the cell and output element which can be found *uniquely* in the notebook.\n",
       "    // Note - this is a bit hacky, but it is done because the \"notebook_saving.Notebook\"\n",
       "    // IPython event is triggered only after the cells have been serialised, which for\n",
       "    // our purposes (turning an active figure into a static one), is too late.\n",
       "    var cells = IPython.notebook.get_cells();\n",
       "    var ncells = cells.length;\n",
       "    for (var i = 0; i < ncells; i++) {\n",
       "        var cell = cells[i];\n",
       "        if (cell.cell_type === 'code') {\n",
       "            for (var j = 0; j < cell.output_area.outputs.length; j++) {\n",
       "                var data = cell.output_area.outputs[j];\n",
       "                if (data.data) {\n",
       "                    // IPython >= 3 moved mimebundle to data attribute of output\n",
       "                    data = data.data;\n",
       "                }\n",
       "                if (data['text/html'] === html_output) {\n",
       "                    return [cell, data, j];\n",
       "                }\n",
       "            }\n",
       "        }\n",
       "    }\n",
       "};\n",
       "\n",
       "// Register the function which deals with the matplotlib target/channel.\n",
       "// The kernel may be null if the page has been refreshed.\n",
       "if (IPython.notebook.kernel !== null) {\n",
       "    IPython.notebook.kernel.comm_manager.register_target(\n",
       "        'matplotlib',\n",
       "        mpl.mpl_figure_comm\n",
       "    );\n",
       "}\n"
      ],
      "text/plain": [
       "<IPython.core.display.Javascript object>"
      ]
     },
     "metadata": {},
     "output_type": "display_data"
    },
    {
     "data": {
      "text/html": [
       "<img src=\"data:image/png;base64,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\" width=\"640\">"
      ],
      "text/plain": [
       "<IPython.core.display.HTML object>"
      ]
     },
     "metadata": {},
     "output_type": "display_data"
    },
    {
     "data": {
      "text/plain": [
       "<AxesSubplot:>"
      ]
     },
     "execution_count": 84,
     "metadata": {},
     "output_type": "execute_result"
    }
   ],
   "source": [
    "pushshift_test_df['score'].hist()"
   ]
  },
  {
   "cell_type": "code",
   "execution_count": 97,
   "id": "hydraulic-flight",
   "metadata": {},
   "outputs": [
    {
     "data": {
      "text/html": [
       "<div>\n",
       "<style scoped>\n",
       "    .dataframe tbody tr th:only-of-type {\n",
       "        vertical-align: middle;\n",
       "    }\n",
       "\n",
       "    .dataframe tbody tr th {\n",
       "        vertical-align: top;\n",
       "    }\n",
       "\n",
       "    .dataframe thead th {\n",
       "        text-align: right;\n",
       "    }\n",
       "</style>\n",
       "<table border=\"1\" class=\"dataframe\">\n",
       "  <thead>\n",
       "    <tr style=\"text-align: right;\">\n",
       "      <th></th>\n",
       "      <th>all_awardings</th>\n",
       "      <th>allow_live_comments</th>\n",
       "      <th>author</th>\n",
       "      <th>author_flair_css_class</th>\n",
       "      <th>author_flair_richtext</th>\n",
       "      <th>author_flair_text</th>\n",
       "      <th>author_flair_type</th>\n",
       "      <th>author_fullname</th>\n",
       "      <th>author_patreon_flair</th>\n",
       "      <th>author_premium</th>\n",
       "      <th>...</th>\n",
       "      <th>banned_by</th>\n",
       "      <th>post_hint</th>\n",
       "      <th>preview</th>\n",
       "      <th>suggested_sort</th>\n",
       "      <th>edited</th>\n",
       "      <th>gilded</th>\n",
       "      <th>top_awarded_type</th>\n",
       "      <th>link_flair_css_class</th>\n",
       "      <th>thumbnail_height</th>\n",
       "      <th>thumbnail_width</th>\n",
       "    </tr>\n",
       "  </thead>\n",
       "  <tbody>\n",
       "    <tr>\n",
       "      <th>42278</th>\n",
       "      <td>[]</td>\n",
       "      <td>False</td>\n",
       "      <td>beaverpoo77</td>\n",
       "      <td>NaN</td>\n",
       "      <td>[]</td>\n",
       "      <td>NaN</td>\n",
       "      <td>text</td>\n",
       "      <td>t2_4f99wade</td>\n",
       "      <td>False</td>\n",
       "      <td>False</td>\n",
       "      <td>...</td>\n",
       "      <td>NaN</td>\n",
       "      <td>NaN</td>\n",
       "      <td>NaN</td>\n",
       "      <td>NaN</td>\n",
       "      <td>NaN</td>\n",
       "      <td>NaN</td>\n",
       "      <td>NaN</td>\n",
       "      <td>NaN</td>\n",
       "      <td>NaN</td>\n",
       "      <td>NaN</td>\n",
       "    </tr>\n",
       "    <tr>\n",
       "      <th>91160</th>\n",
       "      <td>[]</td>\n",
       "      <td>True</td>\n",
       "      <td>Clamps_15</td>\n",
       "      <td>NaN</td>\n",
       "      <td>[]</td>\n",
       "      <td>NaN</td>\n",
       "      <td>text</td>\n",
       "      <td>t2_2ibxajyd</td>\n",
       "      <td>False</td>\n",
       "      <td>False</td>\n",
       "      <td>...</td>\n",
       "      <td>NaN</td>\n",
       "      <td>NaN</td>\n",
       "      <td>NaN</td>\n",
       "      <td>NaN</td>\n",
       "      <td>NaN</td>\n",
       "      <td>NaN</td>\n",
       "      <td>NaN</td>\n",
       "      <td>NaN</td>\n",
       "      <td>NaN</td>\n",
       "      <td>NaN</td>\n",
       "    </tr>\n",
       "    <tr>\n",
       "      <th>92142</th>\n",
       "      <td>[]</td>\n",
       "      <td>False</td>\n",
       "      <td>savag3panda7</td>\n",
       "      <td>NaN</td>\n",
       "      <td>[]</td>\n",
       "      <td>NaN</td>\n",
       "      <td>text</td>\n",
       "      <td>t2_4f4tayz6</td>\n",
       "      <td>False</td>\n",
       "      <td>False</td>\n",
       "      <td>...</td>\n",
       "      <td>NaN</td>\n",
       "      <td>NaN</td>\n",
       "      <td>NaN</td>\n",
       "      <td>NaN</td>\n",
       "      <td>NaN</td>\n",
       "      <td>NaN</td>\n",
       "      <td>NaN</td>\n",
       "      <td>NaN</td>\n",
       "      <td>NaN</td>\n",
       "      <td>NaN</td>\n",
       "    </tr>\n",
       "    <tr>\n",
       "      <th>98627</th>\n",
       "      <td>[]</td>\n",
       "      <td>False</td>\n",
       "      <td>TrippWraze</td>\n",
       "      <td>NaN</td>\n",
       "      <td>[]</td>\n",
       "      <td>NaN</td>\n",
       "      <td>text</td>\n",
       "      <td>t2_746rk08j</td>\n",
       "      <td>False</td>\n",
       "      <td>False</td>\n",
       "      <td>...</td>\n",
       "      <td>NaN</td>\n",
       "      <td>NaN</td>\n",
       "      <td>NaN</td>\n",
       "      <td>NaN</td>\n",
       "      <td>NaN</td>\n",
       "      <td>NaN</td>\n",
       "      <td>NaN</td>\n",
       "      <td>NaN</td>\n",
       "      <td>NaN</td>\n",
       "      <td>NaN</td>\n",
       "    </tr>\n",
       "    <tr>\n",
       "      <th>98797</th>\n",
       "      <td>[]</td>\n",
       "      <td>True</td>\n",
       "      <td>Britneyfan456</td>\n",
       "      <td>NaN</td>\n",
       "      <td>[]</td>\n",
       "      <td>NaN</td>\n",
       "      <td>text</td>\n",
       "      <td>t2_2q1v419b</td>\n",
       "      <td>False</td>\n",
       "      <td>False</td>\n",
       "      <td>...</td>\n",
       "      <td>NaN</td>\n",
       "      <td>NaN</td>\n",
       "      <td>NaN</td>\n",
       "      <td>NaN</td>\n",
       "      <td>NaN</td>\n",
       "      <td>NaN</td>\n",
       "      <td>NaN</td>\n",
       "      <td>NaN</td>\n",
       "      <td>NaN</td>\n",
       "      <td>NaN</td>\n",
       "    </tr>\n",
       "    <tr>\n",
       "      <th>...</th>\n",
       "      <td>...</td>\n",
       "      <td>...</td>\n",
       "      <td>...</td>\n",
       "      <td>...</td>\n",
       "      <td>...</td>\n",
       "      <td>...</td>\n",
       "      <td>...</td>\n",
       "      <td>...</td>\n",
       "      <td>...</td>\n",
       "      <td>...</td>\n",
       "      <td>...</td>\n",
       "      <td>...</td>\n",
       "      <td>...</td>\n",
       "      <td>...</td>\n",
       "      <td>...</td>\n",
       "      <td>...</td>\n",
       "      <td>...</td>\n",
       "      <td>...</td>\n",
       "      <td>...</td>\n",
       "      <td>...</td>\n",
       "      <td>...</td>\n",
       "    </tr>\n",
       "    <tr>\n",
       "      <th>949891</th>\n",
       "      <td>[]</td>\n",
       "      <td>True</td>\n",
       "      <td>letsshit</td>\n",
       "      <td>NaN</td>\n",
       "      <td>[]</td>\n",
       "      <td>NaN</td>\n",
       "      <td>text</td>\n",
       "      <td>t2_6h9tl6yj</td>\n",
       "      <td>False</td>\n",
       "      <td>False</td>\n",
       "      <td>...</td>\n",
       "      <td>NaN</td>\n",
       "      <td>NaN</td>\n",
       "      <td>NaN</td>\n",
       "      <td>NaN</td>\n",
       "      <td>NaN</td>\n",
       "      <td>NaN</td>\n",
       "      <td>NaN</td>\n",
       "      <td>NaN</td>\n",
       "      <td>NaN</td>\n",
       "      <td>NaN</td>\n",
       "    </tr>\n",
       "    <tr>\n",
       "      <th>950066</th>\n",
       "      <td>[]</td>\n",
       "      <td>True</td>\n",
       "      <td>RedWestern</td>\n",
       "      <td>NaN</td>\n",
       "      <td>[]</td>\n",
       "      <td>NaN</td>\n",
       "      <td>text</td>\n",
       "      <td>t2_1q8u37y8</td>\n",
       "      <td>False</td>\n",
       "      <td>True</td>\n",
       "      <td>...</td>\n",
       "      <td>NaN</td>\n",
       "      <td>NaN</td>\n",
       "      <td>NaN</td>\n",
       "      <td>NaN</td>\n",
       "      <td>NaN</td>\n",
       "      <td>NaN</td>\n",
       "      <td>NaN</td>\n",
       "      <td>NaN</td>\n",
       "      <td>NaN</td>\n",
       "      <td>NaN</td>\n",
       "    </tr>\n",
       "    <tr>\n",
       "      <th>952040</th>\n",
       "      <td>[]</td>\n",
       "      <td>False</td>\n",
       "      <td>NippleSalsa</td>\n",
       "      <td>NaN</td>\n",
       "      <td>[]</td>\n",
       "      <td>NaN</td>\n",
       "      <td>text</td>\n",
       "      <td>t2_nibsi</td>\n",
       "      <td>False</td>\n",
       "      <td>False</td>\n",
       "      <td>...</td>\n",
       "      <td>NaN</td>\n",
       "      <td>NaN</td>\n",
       "      <td>NaN</td>\n",
       "      <td>NaN</td>\n",
       "      <td>NaN</td>\n",
       "      <td>NaN</td>\n",
       "      <td>NaN</td>\n",
       "      <td>NaN</td>\n",
       "      <td>NaN</td>\n",
       "      <td>NaN</td>\n",
       "    </tr>\n",
       "    <tr>\n",
       "      <th>952643</th>\n",
       "      <td>[]</td>\n",
       "      <td>True</td>\n",
       "      <td>TimeToBecomeEgg</td>\n",
       "      <td>NaN</td>\n",
       "      <td>[]</td>\n",
       "      <td>NaN</td>\n",
       "      <td>text</td>\n",
       "      <td>t2_4n74pvm4</td>\n",
       "      <td>False</td>\n",
       "      <td>False</td>\n",
       "      <td>...</td>\n",
       "      <td>NaN</td>\n",
       "      <td>NaN</td>\n",
       "      <td>NaN</td>\n",
       "      <td>NaN</td>\n",
       "      <td>NaN</td>\n",
       "      <td>NaN</td>\n",
       "      <td>NaN</td>\n",
       "      <td>NaN</td>\n",
       "      <td>NaN</td>\n",
       "      <td>NaN</td>\n",
       "    </tr>\n",
       "    <tr>\n",
       "      <th>953295</th>\n",
       "      <td>[]</td>\n",
       "      <td>True</td>\n",
       "      <td>gypsy888888</td>\n",
       "      <td>NaN</td>\n",
       "      <td>[]</td>\n",
       "      <td>NaN</td>\n",
       "      <td>text</td>\n",
       "      <td>t2_631acb36</td>\n",
       "      <td>False</td>\n",
       "      <td>False</td>\n",
       "      <td>...</td>\n",
       "      <td>NaN</td>\n",
       "      <td>NaN</td>\n",
       "      <td>NaN</td>\n",
       "      <td>NaN</td>\n",
       "      <td>NaN</td>\n",
       "      <td>NaN</td>\n",
       "      <td>NaN</td>\n",
       "      <td>NaN</td>\n",
       "      <td>NaN</td>\n",
       "      <td>NaN</td>\n",
       "    </tr>\n",
       "  </tbody>\n",
       "</table>\n",
       "<p>639 rows × 73 columns</p>\n",
       "</div>"
      ],
      "text/plain": [
       "       all_awardings  allow_live_comments           author  \\\n",
       "42278             []                False      beaverpoo77   \n",
       "91160             []                 True        Clamps_15   \n",
       "92142             []                False     savag3panda7   \n",
       "98627             []                False       TrippWraze   \n",
       "98797             []                 True    Britneyfan456   \n",
       "...              ...                  ...              ...   \n",
       "949891            []                 True         letsshit   \n",
       "950066            []                 True       RedWestern   \n",
       "952040            []                False      NippleSalsa   \n",
       "952643            []                 True  TimeToBecomeEgg   \n",
       "953295            []                 True      gypsy888888   \n",
       "\n",
       "        author_flair_css_class author_flair_richtext  author_flair_text  \\\n",
       "42278                      NaN                    []                NaN   \n",
       "91160                      NaN                    []                NaN   \n",
       "92142                      NaN                    []                NaN   \n",
       "98627                      NaN                    []                NaN   \n",
       "98797                      NaN                    []                NaN   \n",
       "...                        ...                   ...                ...   \n",
       "949891                     NaN                    []                NaN   \n",
       "950066                     NaN                    []                NaN   \n",
       "952040                     NaN                    []                NaN   \n",
       "952643                     NaN                    []                NaN   \n",
       "953295                     NaN                    []                NaN   \n",
       "\n",
       "       author_flair_type author_fullname author_patreon_flair author_premium  \\\n",
       "42278               text     t2_4f99wade                False          False   \n",
       "91160               text     t2_2ibxajyd                False          False   \n",
       "92142               text     t2_4f4tayz6                False          False   \n",
       "98627               text     t2_746rk08j                False          False   \n",
       "98797               text     t2_2q1v419b                False          False   \n",
       "...                  ...             ...                  ...            ...   \n",
       "949891              text     t2_6h9tl6yj                False          False   \n",
       "950066              text     t2_1q8u37y8                False           True   \n",
       "952040              text        t2_nibsi                False          False   \n",
       "952643              text     t2_4n74pvm4                False          False   \n",
       "953295              text     t2_631acb36                False          False   \n",
       "\n",
       "        ... banned_by  post_hint  preview  suggested_sort edited gilded  \\\n",
       "42278   ...       NaN        NaN      NaN             NaN    NaN    NaN   \n",
       "91160   ...       NaN        NaN      NaN             NaN    NaN    NaN   \n",
       "92142   ...       NaN        NaN      NaN             NaN    NaN    NaN   \n",
       "98627   ...       NaN        NaN      NaN             NaN    NaN    NaN   \n",
       "98797   ...       NaN        NaN      NaN             NaN    NaN    NaN   \n",
       "...     ...       ...        ...      ...             ...    ...    ...   \n",
       "949891  ...       NaN        NaN      NaN             NaN    NaN    NaN   \n",
       "950066  ...       NaN        NaN      NaN             NaN    NaN    NaN   \n",
       "952040  ...       NaN        NaN      NaN             NaN    NaN    NaN   \n",
       "952643  ...       NaN        NaN      NaN             NaN    NaN    NaN   \n",
       "953295  ...       NaN        NaN      NaN             NaN    NaN    NaN   \n",
       "\n",
       "       top_awarded_type link_flair_css_class  thumbnail_height  \\\n",
       "42278               NaN                  NaN               NaN   \n",
       "91160               NaN                  NaN               NaN   \n",
       "92142               NaN                  NaN               NaN   \n",
       "98627               NaN                  NaN               NaN   \n",
       "98797               NaN                  NaN               NaN   \n",
       "...                 ...                  ...               ...   \n",
       "949891              NaN                  NaN               NaN   \n",
       "950066              NaN                  NaN               NaN   \n",
       "952040              NaN                  NaN               NaN   \n",
       "952643              NaN                  NaN               NaN   \n",
       "953295              NaN                  NaN               NaN   \n",
       "\n",
       "        thumbnail_width  \n",
       "42278               NaN  \n",
       "91160               NaN  \n",
       "92142               NaN  \n",
       "98627               NaN  \n",
       "98797               NaN  \n",
       "...                 ...  \n",
       "949891              NaN  \n",
       "950066              NaN  \n",
       "952040              NaN  \n",
       "952643              NaN  \n",
       "953295              NaN  \n",
       "\n",
       "[639 rows x 73 columns]"
      ]
     },
     "execution_count": 97,
     "metadata": {},
     "output_type": "execute_result"
    }
   ],
   "source": [
    "pushshift_test_df[pushshift_test_df['score'] > 50]"
   ]
  },
  {
   "cell_type": "code",
   "execution_count": null,
   "id": "changed-george",
   "metadata": {},
   "outputs": [],
   "source": []
  }
 ],
 "metadata": {
  "kernelspec": {
   "display_name": "Python 3",
   "language": "python",
   "name": "python3"
  },
  "language_info": {
   "codemirror_mode": {
    "name": "ipython",
    "version": 3
   },
   "file_extension": ".py",
   "mimetype": "text/x-python",
   "name": "python",
   "nbconvert_exporter": "python",
   "pygments_lexer": "ipython3",
   "version": "3.8.5"
  }
 },
 "nbformat": 4,
 "nbformat_minor": 5
}
